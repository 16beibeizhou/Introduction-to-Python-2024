{
 "cells": [
  {
   "cell_type": "markdown",
   "id": "07b29034-0ed5-4fa1-80e1-e710f31be64b",
   "metadata": {},
   "source": [
    "# 用户输入和while循环"
   ]
  },
  {
   "cell_type": "markdown",
   "id": "4b79ddef-1078-4a75-956f-39f7ab7f76a9",
   "metadata": {},
   "source": [
    "## 7.1 input（）函数的工作原理"
   ]
  },
  {
   "cell_type": "code",
   "execution_count": 1,
   "id": "f68b8415-3965-449a-ae8e-1bfb7ccb476c",
   "metadata": {},
   "outputs": [
    {
     "name": "stdin",
     "output_type": "stream",
     "text": [
      "Tell me something, and I will repeat it back to you. Hello everyone!\n"
     ]
    },
    {
     "name": "stdout",
     "output_type": "stream",
     "text": [
      "Hello everyone!\n"
     ]
    }
   ],
   "source": [
    "message=input(\"Tell me something, and I will repeat it back to you.\")\n",
    "print(message)"
   ]
  },
  {
   "cell_type": "code",
   "execution_count": 34,
   "id": "d71aee7c-b8dc-4b22-a254-8b9447ad333e",
   "metadata": {},
   "outputs": [
    {
     "name": "stdin",
     "output_type": "stream",
     "text": [
      "Please enter your name: Sam\n"
     ]
    },
    {
     "name": "stdout",
     "output_type": "stream",
     "text": [
      "\n",
      "Hello, Sam!\n"
     ]
    }
   ],
   "source": [
    "#7.1.1\n",
    "name=input(\"Please enter your name:\")\n",
    "print(f\"\\nHello, {name}!\")"
   ]
  },
  {
   "cell_type": "code",
   "execution_count": 35,
   "id": "949d5649-cdd7-4517-98e2-09dbad234b60",
   "metadata": {},
   "outputs": [
    {
     "name": "stdin",
     "output_type": "stream",
     "text": [
      "If you share your name, we can personalize the messages you see.\n",
      "What is your name? Cindy\n"
     ]
    },
    {
     "name": "stdout",
     "output_type": "stream",
     "text": [
      "Hello, Cindy!\n"
     ]
    }
   ],
   "source": [
    "prompt=\"If you share your name, we can personalize the messages you see.\"\n",
    "prompt+=\"\\nWhat is your name?\"\n",
    "name=input(prompt)\n",
    "print(f\"Hello, {name}!\")"
   ]
  },
  {
   "cell_type": "code",
   "execution_count": 36,
   "id": "12e4979c-976e-4c96-96d5-e90c372580a4",
   "metadata": {},
   "outputs": [
    {
     "name": "stdin",
     "output_type": "stream",
     "text": [
      "How old are you? 21\n"
     ]
    }
   ],
   "source": [
    "#7.1.2\n",
    "age=input(\"How old are you?\")"
   ]
  },
  {
   "cell_type": "markdown",
   "id": "7d158904-d8f5-4f3b-b761-4a16b569ad83",
   "metadata": {},
   "source": [
    "## 7.2 while循环简介"
   ]
  },
  {
   "cell_type": "code",
   "execution_count": 8,
   "id": "da0651d5-aed4-4657-b9f9-51d8363af69c",
   "metadata": {},
   "outputs": [
    {
     "name": "stdout",
     "output_type": "stream",
     "text": [
      "1\n",
      "2\n"
     ]
    }
   ],
   "source": [
    "#7.2.1\n",
    "current_number=1\n",
    "while current_number<3:\n",
    "    print(current_number)\n",
    "    current_number+=1"
   ]
  },
  {
   "cell_type": "code",
   "execution_count": 31,
   "id": "6377b461-b12c-4654-aefd-65e1d2f7d9d8",
   "metadata": {},
   "outputs": [
    {
     "name": "stdin",
     "output_type": "stream",
     "text": [
      "\n",
      "Tell me something, and I will repeat it back to you:\n",
      "Enter 'quit' to end the program. HELLO\n"
     ]
    },
    {
     "name": "stdout",
     "output_type": "stream",
     "text": [
      "HELLO\n"
     ]
    },
    {
     "name": "stdin",
     "output_type": "stream",
     "text": [
      "\n",
      "Tell me something, and I will repeat it back to you:\n",
      "Enter 'quit' to end the program. HI\n"
     ]
    },
    {
     "name": "stdout",
     "output_type": "stream",
     "text": [
      "HI\n"
     ]
    },
    {
     "name": "stdin",
     "output_type": "stream",
     "text": [
      "\n",
      "Tell me something, and I will repeat it back to you:\n",
      "Enter 'quit' to end the program. quit\n"
     ]
    },
    {
     "name": "stdout",
     "output_type": "stream",
     "text": [
      "quit\n"
     ]
    }
   ],
   "source": [
    "#7.2。2\n",
    "prompt=\"\\nTell me something, and I will repeat it back to you:\"\n",
    "prompt+=\"\\nEnter 'quit' to end the program.\"\n",
    "message=\"\"\n",
    "while message !='quit':\n",
    "    message=input(prompt)\n",
    "    print(message)"
   ]
  },
  {
   "cell_type": "code",
   "execution_count": 6,
   "id": "dbf9a102-88e5-4fc9-8f10-3d933399d2ff",
   "metadata": {},
   "outputs": [
    {
     "name": "stdin",
     "output_type": "stream",
     "text": [
      "\n",
      "Tell me something, and I will repeat it back to you:\n",
      "Enter 'quit' to end the program. HELLO!\n"
     ]
    },
    {
     "name": "stdout",
     "output_type": "stream",
     "text": [
      "HELLO!\n"
     ]
    },
    {
     "name": "stdin",
     "output_type": "stream",
     "text": [
      "\n",
      "Tell me something, and I will repeat it back to you:\n",
      "Enter 'quit' to end the program. HAHA.\n"
     ]
    },
    {
     "name": "stdout",
     "output_type": "stream",
     "text": [
      "HAHA.\n"
     ]
    },
    {
     "name": "stdin",
     "output_type": "stream",
     "text": [
      "\n",
      "Tell me something, and I will repeat it back to you:\n",
      "Enter 'quit' to end the program. quit\n"
     ]
    }
   ],
   "source": [
    "prompt=\"\\nTell me something, and I will repeat it back to you:\"\n",
    "prompt+=\"\\nEnter 'quit' to end the program.\"\n",
    "message=\"\"\n",
    "while message !='quit':\n",
    "    message=input(prompt)\n",
    "    \n",
    "    if message !='quit':\n",
    "        print(message)"
   ]
  },
  {
   "cell_type": "code",
   "execution_count": 11,
   "id": "e061ea7f-f9b9-4388-b283-b1d15e31fd6e",
   "metadata": {},
   "outputs": [
    {
     "name": "stdin",
     "output_type": "stream",
     "text": [
      "\n",
      "Tell me something, and I will repeat it back to you:\n",
      "Enter 'quit' to end the program. hello\n"
     ]
    },
    {
     "name": "stdout",
     "output_type": "stream",
     "text": [
      "hello\n"
     ]
    },
    {
     "name": "stdin",
     "output_type": "stream",
     "text": [
      "\n",
      "Tell me something, and I will repeat it back to you:\n",
      "Enter 'quit' to end the program. HI\n"
     ]
    },
    {
     "name": "stdout",
     "output_type": "stream",
     "text": [
      "HI\n"
     ]
    },
    {
     "name": "stdin",
     "output_type": "stream",
     "text": [
      "\n",
      "Tell me something, and I will repeat it back to you:\n",
      "Enter 'quit' to end the program. quit\n"
     ]
    }
   ],
   "source": [
    "#7.2.3\n",
    "prompt=\"\\nTell me something, and I will repeat it back to you:\"\n",
    "prompt+=\"\\nEnter 'quit' to end the program.\"\n",
    "active=True\n",
    "while active:\n",
    "    message=input(prompt)\n",
    "    if message=='quit':\n",
    "        active=False\n",
    "    else:\n",
    "        print(message)"
   ]
  },
  {
   "cell_type": "code",
   "execution_count": 12,
   "id": "441c5f1c-33cc-458d-a75a-ce79236b9111",
   "metadata": {},
   "outputs": [
    {
     "name": "stdin",
     "output_type": "stream",
     "text": [
      "\n",
      "Please enter the name of a city you have visited.\n",
      "(Enter 'quit' when you are finished.) New York\n"
     ]
    },
    {
     "name": "stdout",
     "output_type": "stream",
     "text": [
      "I'd love to go to New York!\n"
     ]
    },
    {
     "name": "stdin",
     "output_type": "stream",
     "text": [
      "\n",
      "Please enter the name of a city you have visited.\n",
      "(Enter 'quit' when you are finished.) San Francisco\n"
     ]
    },
    {
     "name": "stdout",
     "output_type": "stream",
     "text": [
      "I'd love to go to San Francisco!\n"
     ]
    },
    {
     "name": "stdin",
     "output_type": "stream",
     "text": [
      "\n",
      "Please enter the name of a city you have visited.\n",
      "(Enter 'quit' when you are finished.) quit\n"
     ]
    }
   ],
   "source": [
    "#7.2.4\n",
    "prompt=\"\\nPlease enter the name of a city you have visited.\"\n",
    "prompt+=\"\\n(Enter 'quit' when you are finished.)\"\n",
    "while True:\n",
    "    city=input(prompt)\n",
    "    if city=='quit':\n",
    "        break\n",
    "    else:\n",
    "        print(f\"I'd love to go to {city.title()}!\")"
   ]
  },
  {
   "cell_type": "code",
   "execution_count": 30,
   "id": "dda6d107-520a-4c28-9491-3e9494e1b482",
   "metadata": {},
   "outputs": [
    {
     "name": "stdout",
     "output_type": "stream",
     "text": [
      "1\n",
      "3\n",
      "5\n",
      "7\n",
      "9\n"
     ]
    }
   ],
   "source": [
    "#7.2.5\n",
    "current_number=0\n",
    "while current_number<10:\n",
    "    current_number+=1\n",
    "    if current_number %2==0:\n",
    "        continue\n",
    "    print(current_number)"
   ]
  },
  {
   "cell_type": "code",
   "execution_count": null,
   "id": "ca36608b-f6b3-4b63-903a-84cf0f6a1401",
   "metadata": {},
   "outputs": [],
   "source": [
    "#7.2.6 避免无限循环\n",
    "x=1\n",
    "while x<5:\n",
    "    print(x)\n",
    "    x+=1#少了这行将无限循环"
   ]
  },
  {
   "cell_type": "markdown",
   "id": "a8601b2c-9b90-4364-a4ce-3c7f9f209ce9",
   "metadata": {},
   "source": [
    "### 动手试一试"
   ]
  },
  {
   "cell_type": "code",
   "execution_count": null,
   "id": "a2705b44-5e17-4a8a-a56e-61d863ade58e",
   "metadata": {},
   "outputs": [],
   "source": []
  },
  {
   "cell_type": "markdown",
   "id": "c4f6b974-7ed8-4f6b-b09a-4ced583378b0",
   "metadata": {},
   "source": [
    "## 7.3使用while循环处理列表和字典"
   ]
  },
  {
   "cell_type": "code",
   "execution_count": 21,
   "id": "056fb4b8-b1b3-47c7-8ed7-4dcc603c557a",
   "metadata": {},
   "outputs": [
    {
     "name": "stdout",
     "output_type": "stream",
     "text": [
      "Verifying user:Candace\n",
      "Verifying user:Brain\n",
      "Verifying user:Alice\n",
      "\n",
      "The following users have been confirmed:\n",
      "Candace\n",
      "Brain\n",
      "Alice\n"
     ]
    }
   ],
   "source": [
    "#7.3.1\n",
    "unconfirmed_users=['alice','brain','candace']\n",
    "confirmed_users=[]\n",
    "while unconfirmed_users:\n",
    "    current_user=unconfirmed_users.pop()\n",
    "    print(f\"Verifying user:{current_user.title()}\")\n",
    "    confirmed_users.append(current_user)\n",
    "print(\"\\nThe following users have been confirmed:\")\n",
    "for confirmed_user in confirmed_users:\n",
    "    print(confirmed_user.title())"
   ]
  },
  {
   "cell_type": "code",
   "execution_count": 22,
   "id": "e4438197-0706-4da5-ac9f-1fa36f215d92",
   "metadata": {},
   "outputs": [
    {
     "name": "stdout",
     "output_type": "stream",
     "text": [
      "['dog', 'cat', 'dog', 'goldfish', 'cat', 'rabbit', 'cat']\n",
      "['dog', 'dog', 'goldfish', 'rabbit']\n"
     ]
    }
   ],
   "source": [
    "#7.3.2\n",
    "pets=['dog','cat','dog','goldfish','cat','rabbit','cat']\n",
    "print(pets)\n",
    "while 'cat' in pets:\n",
    "    pets.remove('cat')\n",
    "print(pets)"
   ]
  },
  {
   "cell_type": "code",
   "execution_count": 29,
   "id": "bd9065cd-b186-45f5-8075-754034e16895",
   "metadata": {},
   "outputs": [
    {
     "name": "stdin",
     "output_type": "stream",
     "text": [
      "\n",
      "What is your name? Sam\n",
      "\n",
      "Which mountain would you like to climb someday? Mount Huang\n",
      "Would you like to let another person respond?(yes/no) yes\n",
      "\n",
      "What is your name? Sandy\n",
      "\n",
      "Which mountain would you like to climb someday? Mount Tai\n",
      "Would you like to let another person respond?(yes/no) no\n"
     ]
    },
    {
     "name": "stdout",
     "output_type": "stream",
     "text": [
      "\n",
      "---Poll Results---\n",
      "Sam would like to climb Mount Huang.\n",
      "Sandy would like to climb Mount Tai.\n"
     ]
    }
   ],
   "source": [
    "# 7.3.3 d \n",
    "responses={}\n",
    "polling_active=True\n",
    "while polling_active:\n",
    "    name=input(\"\\nWhat is your name?\")\n",
    "    response=input(\"\\nWhich mountain would you like to climb someday?\")\n",
    "    responses[name]=response\n",
    "    repeat=input(\"Would you like to let another person respond?(yes/no)\")\n",
    "    if repeat=='no':\n",
    "        polling_active=False\n",
    "print(\"\\n---Poll Results---\")\n",
    "for name, response in responses.items():\n",
    "    print(f\"{name} would like to climb {response}.\")"
   ]
  },
  {
   "cell_type": "markdown",
   "id": "8db545a0-6c20-4541-b828-65f1e7254381",
   "metadata": {},
   "source": [
    "### 动手试一试"
   ]
  },
  {
   "cell_type": "code",
   "execution_count": null,
   "id": "c6efabb5-4f78-44dd-9642-bfdc6eeee752",
   "metadata": {},
   "outputs": [],
   "source": []
  }
 ],
 "metadata": {
  "kernelspec": {
   "display_name": "Python 3 (ipykernel)",
   "language": "python",
   "name": "python3"
  },
  "language_info": {
   "codemirror_mode": {
    "name": "ipython",
    "version": 3
   },
   "file_extension": ".py",
   "mimetype": "text/x-python",
   "name": "python",
   "nbconvert_exporter": "python",
   "pygments_lexer": "ipython3",
   "version": "3.11.7"
  }
 },
 "nbformat": 4,
 "nbformat_minor": 5
}
