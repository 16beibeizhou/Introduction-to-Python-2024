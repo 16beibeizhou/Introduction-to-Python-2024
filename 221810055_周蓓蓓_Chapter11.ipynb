{
 "cells": [
  {
   "cell_type": "markdown",
   "id": "896e5bcb-cedd-4dfb-8bb5-e6df261a6575",
   "metadata": {},
   "source": [
    "# 第十一章 测试代码"
   ]
  },
  {
   "cell_type": "markdown",
   "id": "df9b3fc5-0de5-43da-a56f-08d73224b0fb",
   "metadata": {},
   "source": [
    "## 11.1 使用 pip 安装pytest"
   ]
  },
  {
   "cell_type": "markdown",
   "id": "96f61865-57b1-4d4c-87d0-460f54a05752",
   "metadata": {},
   "source": [
    "### 11.1.1 更新pip"
   ]
  },
  {
   "cell_type": "code",
   "execution_count": 5,
   "id": "bff11641-1a06-46a4-87ba-7198222d2dc7",
   "metadata": {},
   "outputs": [
    {
     "name": "stdout",
     "output_type": "stream",
     "text": [
      "Requirement already satisfied: pip in d:\\anaconda\\lib\\site-packages (24.0)\n",
      "Note: you may need to restart the kernel to use updated packages.\n"
     ]
    }
   ],
   "source": [
    " pip install --upgrade pip"
   ]
  },
  {
   "cell_type": "code",
   "execution_count": 6,
   "id": "0a3509ca-084f-49bb-a92c-7172643f5789",
   "metadata": {},
   "outputs": [
    {
     "name": "stdout",
     "output_type": "stream",
     "text": [
      "Requirement already satisfied: package_name in d:\\anaconda\\lib\\site-packages (0.1)\n",
      "Note: you may need to restart the kernel to use updated packages.\n"
     ]
    }
   ],
   "source": [
    "pip install --upgrade package_name"
   ]
  },
  {
   "cell_type": "markdown",
   "id": "5caff13f-5581-44be-b224-55572f3926d3",
   "metadata": {},
   "source": [
    "### 11.1.2 安装pytest"
   ]
  },
  {
   "cell_type": "code",
   "execution_count": 8,
   "id": "b50b9a49-188f-4352-bc0d-8919ec35eed2",
   "metadata": {},
   "outputs": [
    {
     "name": "stdout",
     "output_type": "stream",
     "text": [
      "Requirement already satisfied: pytest in d:\\anaconda\\lib\\site-packages (7.4.0)\n",
      "Requirement already satisfied: iniconfig in d:\\anaconda\\lib\\site-packages (from pytest) (1.1.1)\n",
      "Requirement already satisfied: packaging in d:\\anaconda\\lib\\site-packages (from pytest) (23.1)\n",
      "Requirement already satisfied: pluggy<2.0,>=0.12 in d:\\anaconda\\lib\\site-packages (from pytest) (1.0.0)\n",
      "Requirement already satisfied: colorama in d:\\anaconda\\lib\\site-packages (from pytest) (0.4.6)\n",
      "Note: you may need to restart the kernel to use updated packages.\n"
     ]
    }
   ],
   "source": [
    "pip install --user pytest"
   ]
  },
  {
   "cell_type": "code",
   "execution_count": 10,
   "id": "f76316aa-f61a-4f85-99c8-4ac508a9b5d2",
   "metadata": {},
   "outputs": [
    {
     "name": "stdout",
     "output_type": "stream",
     "text": [
      "Requirement already satisfied: package_name in d:\\anaconda\\lib\\site-packages (0.1)\n",
      "Note: you may need to restart the kernel to use updated packages.\n"
     ]
    }
   ],
   "source": [
    "pip install --user package_name"
   ]
  },
  {
   "cell_type": "markdown",
   "id": "7eb9722a-31b1-4fbd-811a-34b1321bcaf4",
   "metadata": {},
   "source": [
    "## 11.2 测试函数"
   ]
  },
  {
   "cell_type": "code",
   "execution_count": 13,
   "id": "887521eb-2018-4359-aac8-6c773a1231b6",
   "metadata": {},
   "outputs": [
    {
     "name": "stdout",
     "output_type": "stream",
     "text": [
      "Enter 'q' at any time to quit.\n"
     ]
    },
    {
     "name": "stdin",
     "output_type": "stream",
     "text": [
      "\n",
      "Please give me a first name:  Harry\n",
      "Please give me a last name:  Potter\n"
     ]
    },
    {
     "name": "stdout",
     "output_type": "stream",
     "text": [
      "\tNeatly formatted name: Harry Potter.\n"
     ]
    },
    {
     "name": "stdin",
     "output_type": "stream",
     "text": [
      "\n",
      "Please give me a first name:  q\n"
     ]
    }
   ],
   "source": [
    "from name_function import get_formatted_name\n",
    "\n",
    "print(\"Enter 'q' at any time to quit.\")\n",
    "while True:\n",
    "    first = input(\"\\nPlease give me a first name: \")\n",
    "    if first == 'q':\n",
    "        break\n",
    "    last = input(\"Please give me a last name: \")\n",
    "    if last == 'q':\n",
    "        break\n",
    "        \n",
    "    formatted_name = get_formatted_name(first, last)\n",
    "    print(f\"\\tNeatly formatted name: {formatted_name}.\")"
   ]
  },
  {
   "cell_type": "markdown",
   "id": "7c0b74c7-d6e7-4acd-9067-84fc0d2e53bd",
   "metadata": {},
   "source": [
    "### 11.2.1单元测试和测试用例"
   ]
  },
  {
   "cell_type": "code",
   "execution_count": 7,
   "id": "ff24aaf1-83b5-4d7c-9a36-557b7880c414",
   "metadata": {},
   "outputs": [],
   "source": [
    "#测试方法多样：单元测试——用于核实函数的某个方面没有问题\n",
    "#测试用例——一组单元测试"
   ]
  },
  {
   "cell_type": "markdown",
   "id": "ec991446-2472-4498-9c47-755a1531f3f0",
   "metadata": {},
   "source": [
    "### 11.2.2 可通过的测试"
   ]
  },
  {
   "cell_type": "code",
   "execution_count": 10,
   "id": "c9133b16-094d-4d3f-b145-df388bccddc4",
   "metadata": {},
   "outputs": [],
   "source": [
    "from name_function import get_formatted_name\n",
    "\n",
    "def test_first_last_name():\n",
    "    \"\"\"能够正确地处理像Janis Joplin这样的姓名吗？\"\"\"\n",
    "    formatted_name = get_formatted_name('janis', 'joplin')\n"
   ]
  },
  {
   "cell_type": "markdown",
   "id": "1568e933-1bcb-4449-990b-8e5a41fc7f44",
   "metadata": {},
   "source": [
    "### 11.2.3 运行测试"
   ]
  },
  {
   "cell_type": "code",
   "execution_count": null,
   "id": "0076dd6b-8add-4f47-9fc4-3f1e76a743c6",
   "metadata": {},
   "outputs": [],
   "source": [
    "#直接运行没有输出。需要打开一个终端窗口，切换到这个测试文件所在的文件夹。调用pytest"
   ]
  },
  {
   "cell_type": "markdown",
   "id": "a6c130e9-ec7e-402c-81d9-3a3b43009efd",
   "metadata": {},
   "source": [
    "### 11.2.4 未通过的测试"
   ]
  },
  {
   "cell_type": "code",
   "execution_count": 4,
   "id": "ab1aea31-36a0-443e-bdc4-bec8bade839c",
   "metadata": {},
   "outputs": [],
   "source": [
    "def get_formatted_name(first, last, middle=''):\n",
    "    \"\"\"生成格式规范的姓名\"\"\"\n",
    "    full_name = f\"{first}{middle}{last}\"\n",
    "    return full_name.title()\n",
    "#F表示有一个测试未通过，右尖括号指出未通过的代码行。E指出了具体错误"
   ]
  },
  {
   "cell_type": "markdown",
   "id": "abef7f38-d317-49ef-beeb-2c901b9745bf",
   "metadata": {},
   "source": [
    "### 11.2.5 在未通过测试怎么办"
   ]
  },
  {
   "cell_type": "code",
   "execution_count": 5,
   "id": "5017aa0c-470c-4af0-9e63-71d06f336b6a",
   "metadata": {},
   "outputs": [],
   "source": [
    "def get_formatted_name(first, last, middle=''):\n",
    "    \"\"\"生成格式规范的姓名\"\"\"\n",
    "    if middle:\n",
    "        full_name = f\"{first} {middle} {last}\"\n",
    "    else:\n",
    "        full_name = f\"{first} {last}\"\n",
    "    return full_name.title()"
   ]
  },
  {
   "cell_type": "markdown",
   "id": "b1e82e53-5b0f-436c-ad85-74c64b01e848",
   "metadata": {},
   "source": [
    "### 11.2.6 添加新测试"
   ]
  },
  {
   "cell_type": "code",
   "execution_count": null,
   "id": "1a719789-6aae-4737-9e63-c1ec71fd5f0e",
   "metadata": {},
   "outputs": [],
   "source": [
    "from name_function import get_formatted_name\n",
    "\n",
    "def test_first_last_name():\n",
    "    \"\"\"能够正确地处理像Janis Joplin这样的姓名吗？\"\"\"\n",
    "    formatted_name = get_formatted_name('janis', 'joplin')\n",
    "    assert formatted_name == 'Janis Joplin'\n",
    "\n",
    "def test_first_last_middle_name():\n",
    "    \"\"\"能够正确地处理像Wolfgang Amadeus Mozart这样的姓名吗？\"\"\"\n",
    "    formatted_name = get_formatted_name(\n",
    "        'wolfgang', 'mozart', 'amadeus')\n",
    "    assert formatted_name == 'Wolfgang Amadeus Mozart'\n",
    "#函数名必须命名为test_开头，这样测试才会在运行pytest时自动运行。"
   ]
  },
  {
   "cell_type": "markdown",
   "id": "e50725dc-60e5-4c81-9173-86b232c97953",
   "metadata": {},
   "source": [
    "### 动手做一做"
   ]
  },
  {
   "cell_type": "code",
   "execution_count": null,
   "id": "97f64612-968c-4c98-9697-9a6fc88be7a6",
   "metadata": {},
   "outputs": [],
   "source": [
    "# 联系11.1 城市和国家\n",
    "city_country/city_functions.py\n",
    "\"\"\"一系列处理城市的函数\"\"\"\n",
    "def city_country(city, country):\n",
    " \"\"\"返回一个形如'Santiago, Chile'的字符串\"\"\"\n",
    "    return f\"{city.title()}, {country.title()}\""
   ]
  },
  {
   "cell_type": "code",
   "execution_count": null,
   "id": "7eace085-ec75-4fd7-a0db-85328575c694",
   "metadata": {},
   "outputs": [],
   "source": [
    "## test_cities.py\n",
    "from city_functions import city_country\n",
    "def test_city_country():\n",
    " \"\"\"传入简单的城市和国家可行吗？\"\"\"\n",
    " santiago_chile = city_country('santiago', 'chile')\n",
    " assert santiago_chile == 'Santiago, Chile'"
   ]
  },
  {
   "cell_type": "code",
   "execution_count": 11,
   "id": "c6db4185-7780-4a2a-932a-db4403b2701d",
   "metadata": {},
   "outputs": [],
   "source": [
    "#11.2 人口数量\n",
    "## population/city_functions.py\n",
    "\"\"\"一系列处理城市的函数\"\"\"\n",
    "def city_country(city, country, population):\n",
    "    \"\"\"返回一个形如'Santiago, Chile - population 5000000'的字符串\"\"\"\n",
    "    output_string = f\"{city.title()}, {country.title()}\"\n",
    "    output_string += f\" -population {population}\"\n",
    "    return output_string"
   ]
  },
  {
   "cell_type": "code",
   "execution_count": null,
   "id": "844bb2d7-4e4b-414c-b61b-2203bcb703a3",
   "metadata": {},
   "outputs": [],
   "source": [
    "##population/city_functions_optional.py\n",
    "\"\"\"一系列处理城市的函数\"\"\"\n",
    "def city_country(city, country, population=0):\n",
    " \"\"\"返回一个表示城市和国家的字符串\"\"\"\n",
    " output_string = f\"{city.title()}, {country.title()}\"\n",
    " if population:\n",
    " output_string += f\" - population {population}\"\n",
    " return output_string\n"
   ]
  },
  {
   "cell_type": "code",
   "execution_count": null,
   "id": "c2b90f3f-f8d2-4ad8-b0e4-d069f68351d8",
   "metadata": {},
   "outputs": [],
   "source": [
    "##population/test_cities.py\n",
    "from city_functions_pop_optional import city_country\n",
    "def test_city_country():\n",
    "    \"\"\"传入简单的城市和国家可行吗？ \"\"\"\n",
    "    santiago_chile = city_country('santiago', 'chile')\n",
    "    assert santiago_chile == 'Santiago, Chile'\n",
    "\n",
    "def test_city_country_population():\n",
    "    \"\"\"可向形参 population 传递值吗？ \"\"\"\n",
    "    santiago_chile = city_country('santiago', 'chile', \n",
    "population=5_000_000)\n",
    "    assert santiago_chile == 'Santiago, Chile - population 5000000'\n"
   ]
  },
  {
   "cell_type": "markdown",
   "id": "5f42b767-4cd9-4587-a7a2-f58be8a5f8fb",
   "metadata": {},
   "source": [
    "## 11.3 测试类"
   ]
  },
  {
   "cell_type": "markdown",
   "id": "3addf268-2c21-481e-a0ee-bb899726801b",
   "metadata": {},
   "source": [
    "### 11.3.1各种断言"
   ]
  },
  {
   "cell_type": "code",
   "execution_count": null,
   "id": "f2ef846a-2ef6-4121-b16a-81165c5c623f",
   "metadata": {},
   "outputs": [],
   "source": [
    "#详见p195表格"
   ]
  },
  {
   "cell_type": "markdown",
   "id": "d56292ca-574e-4218-a8c8-34f669da4254",
   "metadata": {},
   "source": [
    "### 11.3.2 一个要测试的类"
   ]
  },
  {
   "cell_type": "code",
   "execution_count": 13,
   "id": "677249fd-f8ce-4c07-8dd0-a964c4ccfbe1",
   "metadata": {},
   "outputs": [],
   "source": [
    "class AnonymousSurvey:\n",
    "    \"\"\"收集匿名调查问卷的答案。\"\"\"\n",
    "\n",
    "    def __init__(self, question):\n",
    "        \"\"\"存储一个问题，并为存储答案做准备\"\"\"\n",
    "        self.question = question\n",
    "        self.responses = []\n",
    "\n",
    "    def show_question(self):\n",
    "        \"\"\"显示调查问卷\"\"\"\n",
    "        print(self.question)\n",
    "\n",
    "    def store_response(self, new_response):\n",
    "        \"\"\"存储单份调查问卷\"\"\"\n",
    "        self.responses.append(new_response)\n",
    "        \n",
    "    def show_results(self):\n",
    "        \"\"\"显示收集到的所有答案\"\"\"\n",
    "        print(\"Survey results:\")\n",
    "        for response in self.responses:\n",
    "            print(f\"- {response}\")"
   ]
  },
  {
   "cell_type": "code",
   "execution_count": 14,
   "id": "6a64e3fa-b1fe-4f03-bb23-ea46ea71ddc8",
   "metadata": {},
   "outputs": [
    {
     "name": "stdout",
     "output_type": "stream",
     "text": [
      "What language did you first learn to speak?\n",
      "Enter 'q' at any time to quit.\n",
      "\n"
     ]
    },
    {
     "name": "stdin",
     "output_type": "stream",
     "text": [
      "Language:  English\n",
      "Language:  Chinese\n",
      "Language:  English\n",
      "Language:  Japanese\n",
      "Language:  Chinese\n",
      "Language:  q\n"
     ]
    },
    {
     "name": "stdout",
     "output_type": "stream",
     "text": [
      "\n",
      "Thank you to everyone who participated in the survey!\n",
      "Survey results:\n",
      "- English\n",
      "- Chinese\n",
      "- English\n",
      "- Japanese\n",
      "- Chinese\n"
     ]
    }
   ],
   "source": [
    "#from survey import AnonymousSurvey\n",
    "\n",
    "# 定义一个问题，并创建一个表示调查的AnonymousSurvey对象\n",
    "question = \"What language did you first learn to speak?\"\n",
    "language_survey = AnonymousSurvey(question)\n",
    "\n",
    "# 显示问题并存储答案\n",
    "language_survey.show_question()\n",
    "print(\"Enter 'q' at any time to quit.\\n\")\n",
    "while True:\n",
    "    response = input(\"Language: \")\n",
    "    if response == 'q':\n",
    "        break\n",
    "    language_survey.store_response(response)\n",
    "\n",
    "# 展示调查结果\n",
    "print(\"\\nThank you to everyone who participated in the survey!\")\n",
    "language_survey.show_results()"
   ]
  },
  {
   "cell_type": "markdown",
   "id": "45ebd177-43ab-4cbc-b3c2-d12ecbe5ede5",
   "metadata": {},
   "source": [
    "### 11.3.3 测试AnoymousSurvey类"
   ]
  },
  {
   "cell_type": "code",
   "execution_count": null,
   "id": "a9947daa-7f51-4903-8b82-bdd1f9af6f5a",
   "metadata": {},
   "outputs": [],
   "source": [
    "from survey import AnonymousSurvey\n",
    "\n",
    "def test_store_single_response(language_survey):\n",
    "    \"\"\"测试单个答案会被妥善地储存。\"\"\"\n",
    "    language_survey.store_response('English')\n",
    "    assert 'English' in language_survey.responses\n",
    "\n",
    "def test_store_three_responses(language_survey):\n",
    "    \"\"\"测试三个答案会被妥善地储存\"\"\"\n",
    "    responses = ['English', 'Spanish', 'Mandarin']\n",
    "    for response in responses:\n",
    "        language_survey.store_response(response)\n",
    "\n",
    "    for response in responses:\n",
    "        assert response in language_survey.responses"
   ]
  },
  {
   "cell_type": "markdown",
   "id": "2b1f8d65-c45a-4461-817a-2d8aa9a36e8c",
   "metadata": {},
   "source": [
    "### 11.3.4 使用夹具"
   ]
  },
  {
   "cell_type": "code",
   "execution_count": null,
   "id": "b7ff6805-995a-4e26-a932-020b2ecfa355",
   "metadata": {},
   "outputs": [],
   "source": [
    "#在测试中，夹具可以帮助我们搭建测试环境\n",
    "import pytest\n",
    "from survey import AnonymousSurvey\n",
    "\n",
    "##装饰器：放在函数前面的指令\n",
    "@pytest.fixture\n",
    "def language_survey():\n",
    "    \"\"\"一个可供所有函数使用的AnonymousSurvey案例\"\"\"\n",
    "    question = \"What language did you first learn to speak?\"\n",
    "    language_survey = AnonymousSurvey(question)\n",
    "    return language_survey\n",
    "\n",
    "def test_store_single_response(language_survey):\n",
    "    \"\"\"测试单个答案会被妥善地储存。\"\"\"\n",
    "    language_survey.store_response('English')\n",
    "    assert 'English' in language_survey.responses\n",
    "\n",
    "def test_store_three_responses(language_survey):\n",
    "    \"\"\"测试三个答案会被妥善地储存\"\"\"\n",
    "    responses = ['English', 'Spanish', 'Mandarin']\n",
    "    for response in responses:\n",
    "        language_survey.store_response(response)\n",
    "\n",
    "    for response in responses:\n",
    "        assert response in language_survey.responses"
   ]
  },
  {
   "cell_type": "markdown",
   "id": "cbf106c7-382a-4f1c-bd6c-feb1bcf34449",
   "metadata": {},
   "source": [
    "### 动手试一试"
   ]
  },
  {
   "cell_type": "code",
   "execution_count": null,
   "id": "784450fc-b1eb-41f4-8b03-69c52b16abb0",
   "metadata": {},
   "outputs": [],
   "source": [
    "#练习11.3 雇员\n",
    "##employee/employee.py\n",
    "class Employee:\n",
    "    \"\"\"一个表示雇员的类\"\"\"\n",
    "    def __init__(self, f_name, l_name, salary):\n",
    "    \"\"\"初始化雇员\"\"\"\n",
    "    self.first = f_name.title()\n",
    "    self.last = l_name.title()\n",
    "    self.salary = salary\n",
    "    def give_raise(self, amount=5000):\n",
    "        \"\"\"给雇员加薪\"\"\"\n",
    "        self.salary += amount"
   ]
  },
  {
   "cell_type": "code",
   "execution_count": null,
   "id": "e63ed9f8-4925-4f3d-b39d-0fd053d86b98",
   "metadata": {},
   "outputs": [],
   "source": [
    "##employee/test_employee.py\n",
    "from employee import Employee\n",
    "def test_give_default_raise():\n",
    "    \"\"\"测试使用默认的年薪增加量是否可行\"\"\"\n",
    "    employee = Employee('eric', 'matthes', 65_000)\n",
    "    employee.give_raise()\n",
    "    assert employee.salary == 70_000\n",
    "def test_give_custom_raise():\n",
    "    \"\"\"测试自定义年薪增加量是否可行\"\"\"\n",
    "    employee = Employee('eric', 'matthes', 65_000)\n",
    "    employee.give_raise(10000)\n",
    "    assert employee.salary == 75_000"
   ]
  },
  {
   "cell_type": "code",
   "execution_count": null,
   "id": "7a2dd550-9807-4e74-a286-f9c6479f5563",
   "metadata": {},
   "outputs": [],
   "source": [
    "##employee_with_fixture/employee.py\n",
    "class Employee:\n",
    "    \"\"\"一个表示雇员的类\"\"\"\n",
    "    def __init__(self, f_name, l_name, salary):\n",
    "    \"\"\"初始化雇员\"\"\"\n",
    "    self.first = f_name.title()\n",
    "    self.last = l_name.title()\n",
    "    self.salary = salary\n",
    "    def give_raise(self, amount=5000):\n",
    "        \"\"\"给雇员加薪\"\"\"\n",
    "        self.salary += amount"
   ]
  },
  {
   "cell_type": "code",
   "execution_count": null,
   "id": "a8cbabfa-ad6b-4850-94f9-6f7dbf0bb584",
   "metadata": {},
   "outputs": [],
   "source": [
    "## employee_with_fixture/test_employee.py\n",
    "import pytest\n",
    "from employee import Employee\n",
    "\n",
    "@pytest.fixture\n",
    "def employee():\n",
    "    \"\"\"创建一个可供所有测试函数使用的 Employee 对象\"\"\"\n",
    "    employee = Employee('eric', 'matthes', 65_000)\n",
    "    return employee\n",
    "def test_give_default_raise(employee):\n",
    "    \"\"\"测试使用默认的年薪增加量是否可行\"\"\"\n",
    "    employee.give_raise()\n",
    "    assert employee.salary == 70_000\n",
    "def test_give_custom_raise(employee):\n",
    "    \"\"\"测试自定义年薪增加量是否可行\"\"\"\n",
    "    employee.give_raise(10000)\n",
    "    assert employee.salary == 75_000"
   ]
  }
 ],
 "metadata": {
  "kernelspec": {
   "display_name": "Python 3 (ipykernel)",
   "language": "python",
   "name": "python3"
  },
  "language_info": {
   "codemirror_mode": {
    "name": "ipython",
    "version": 3
   },
   "file_extension": ".py",
   "mimetype": "text/x-python",
   "name": "python",
   "nbconvert_exporter": "python",
   "pygments_lexer": "ipython3",
   "version": "3.11.7"
  }
 },
 "nbformat": 4,
 "nbformat_minor": 5
}
