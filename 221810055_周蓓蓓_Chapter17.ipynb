{
 "cells": [
  {
   "cell_type": "markdown",
   "id": "db20cea5-3a8e-46c6-bd0f-c632e6d9bbf4",
   "metadata": {},
   "source": [
    "# 第十七章 使用API"
   ]
  },
  {
   "cell_type": "markdown",
   "id": "79841ec5-523e-4775-a305-98923a999303",
   "metadata": {},
   "source": [
    "## 17.1 使用API"
   ]
  },
  {
   "cell_type": "markdown",
   "id": "efd21144-f9c6-4dac-ad03-c3f58df09dd7",
   "metadata": {},
   "source": [
    "### 17.1.1 Git和Github"
   ]
  },
  {
   "cell_type": "markdown",
   "id": "d96a6ddc-89d1-4bcb-8d33-c0496c24d0ad",
   "metadata": {},
   "source": [
    "### 17.1.2 使用API请求数据"
   ]
  },
  {
   "cell_type": "code",
   "execution_count": null,
   "id": "5d9ce9e6-315b-4eff-af13-499cb0bfe52c",
   "metadata": {},
   "outputs": [],
   "source": []
  },
  {
   "cell_type": "code",
   "execution_count": null,
   "id": "82aa9299-6c02-4448-b0d9-0155c4b225c9",
   "metadata": {},
   "outputs": [],
   "source": []
  }
 ],
 "metadata": {
  "kernelspec": {
   "display_name": "Python 3 (ipykernel)",
   "language": "python",
   "name": "python3"
  },
  "language_info": {
   "codemirror_mode": {
    "name": "ipython",
    "version": 3
   },
   "file_extension": ".py",
   "mimetype": "text/x-python",
   "name": "python",
   "nbconvert_exporter": "python",
   "pygments_lexer": "ipython3",
   "version": "3.11.7"
  }
 },
 "nbformat": 4,
 "nbformat_minor": 5
}
