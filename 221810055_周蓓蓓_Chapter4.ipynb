{
 "cells": [
  {
   "cell_type": "markdown",
   "id": "58ff8ed3-f6a3-4eb5-8d2f-17ea3aa3bb3e",
   "metadata": {},
   "source": [
    "# 第四章 操作列表"
   ]
  },
  {
   "cell_type": "markdown",
   "id": "f343d9e3-a1fb-4921-9425-467d56d7c6b0",
   "metadata": {},
   "source": [
    "## 4.1遍历整个列表"
   ]
  },
  {
   "cell_type": "code",
   "execution_count": 1,
   "id": "ba6797da-3bba-4ead-b57e-594786b59064",
   "metadata": {},
   "outputs": [
    {
     "name": "stdout",
     "output_type": "stream",
     "text": [
      "alice\n",
      "david\n",
      "carolina\n"
     ]
    }
   ],
   "source": [
    "magicians=['alice','david','carolina']\n",
    "for magician in magicians:\n",
    "    print(magician)"
   ]
  },
  {
   "cell_type": "code",
   "execution_count": 3,
   "id": "de198007-4ea2-48dc-bc9e-5d213d796c94",
   "metadata": {},
   "outputs": [
    {
     "name": "stdout",
     "output_type": "stream",
     "text": [
      "alice\n",
      "Alice, that was a great trick!\n",
      "I can't wait to see more, Alice.\n",
      "\n",
      "david\n",
      "David, that was a great trick!\n",
      "I can't wait to see more, David.\n",
      "\n",
      "carolina\n",
      "Carolina, that was a great trick!\n",
      "I can't wait to see more, Carolina.\n",
      "\n",
      "Thank you, everyone. That was a great magic show!\n"
     ]
    }
   ],
   "source": [
    "#4.1.1深入研究循环\n",
    "#4.1.2在for循环结束后执行一些操作\n",
    "magicians=['alice','david','carolina']\n",
    "for magician in magicians:\n",
    "    print(magician)\n",
    "    print(f\"{magician.title()}, that was a great trick!\")\n",
    "    print(f\"I can't wait to see more, {magician.title()}.\\n\")\n",
    "print(f\"Thank you, everyone. That was a great magic show!\")"
   ]
  },
  {
   "cell_type": "markdown",
   "id": "faecb872-fa38-4e10-b1e0-57d6f0acf67b",
   "metadata": {},
   "source": [
    "## 4.2 避免缩进错误"
   ]
  },
  {
   "cell_type": "code",
   "execution_count": null,
   "id": "650e8224-c682-44ab-ada9-ab6b1e0ba838",
   "metadata": {},
   "outputs": [],
   "source": [
    "##忘记缩进/忘记缩进额外的代码行/不必要的缩进/循环后不必要的缩进/遗漏冒号"
   ]
  },
  {
   "cell_type": "markdown",
   "id": "fead6238-d582-4a7c-8019-b276664f384a",
   "metadata": {},
   "source": [
    "### 动手试一试"
   ]
  },
  {
   "cell_type": "code",
   "execution_count": 4,
   "id": "36597741-a55d-42fe-929b-b52c0675f6bf",
   "metadata": {},
   "outputs": [
    {
     "name": "stdout",
     "output_type": "stream",
     "text": [
      "pepperoni\n",
      "margherita\n",
      "hawaiian\n",
      "I like pepperoni pizza.\n",
      "I like margherita pizza.\n",
      "I like hawaiian pizza.\n",
      "\n",
      "I really love pizza!\n"
     ]
    }
   ],
   "source": [
    "#练习4.1比萨\n",
    "pizzas=['pepperoni','margherita','hawaiian']\n",
    "for pizza in pizzas:\n",
    "    print(pizza)\n",
    "for pizza in pizzas:\n",
    "    print(f\"I like {pizza} pizza.\")\n",
    "print(\"\\nI really love pizza!\")\n"
   ]
  },
  {
   "cell_type": "code",
   "execution_count": 5,
   "id": "cb8d03cd-6f5f-49bc-b610-471314c45af4",
   "metadata": {},
   "outputs": [
    {
     "name": "stdout",
     "output_type": "stream",
     "text": [
      "A cat would make a great pet.\n",
      "A dog would make a great pet.\n",
      "A rabbit would make a great pet.\n",
      "Any of these animals would make a great pet.\n"
     ]
    }
   ],
   "source": [
    "#练习4.2动物\n",
    "animals=['cat','dog','rabbit']\n",
    "for animal in animals:\n",
    "    print(f\"A {animal} would make a great pet.\")\n",
    "print(\"Any of these animals would make a great pet.\")"
   ]
  },
  {
   "cell_type": "markdown",
   "id": "46e240f3-d520-48a1-820c-9d348d5ec86c",
   "metadata": {},
   "source": [
    "## 4.3创建数值列表"
   ]
  },
  {
   "cell_type": "code",
   "execution_count": 7,
   "id": "837a9efb-f208-41fc-b838-ddf0dd59bb35",
   "metadata": {},
   "outputs": [
    {
     "name": "stdout",
     "output_type": "stream",
     "text": [
      "1\n",
      "2\n",
      "3\n",
      "4\n"
     ]
    }
   ],
   "source": [
    "#4.3.1使用range()函数\n",
    "##range()只打印第一个数到第二个数的前一个数\n",
    "for value in range(1,5):\n",
    "    print(value)"
   ]
  },
  {
   "cell_type": "code",
   "execution_count": 7,
   "id": "a5d39214-f558-485f-8085-e62027790d08",
   "metadata": {},
   "outputs": [
    {
     "name": "stdout",
     "output_type": "stream",
     "text": [
      "1\n",
      "2\n",
      "3\n",
      "4\n",
      "5\n"
     ]
    }
   ],
   "source": [
    "start=1\n",
    "end=5\n",
    "for value in range(start,end+1):\n",
    "    print(value)"
   ]
  },
  {
   "cell_type": "code",
   "execution_count": 8,
   "id": "d931946c-63f4-4f24-9571-0c7eb945baaa",
   "metadata": {},
   "outputs": [
    {
     "name": "stdout",
     "output_type": "stream",
     "text": [
      "[1, 4, 9, 16, 25, 36, 49, 64, 81, 100]\n"
     ]
    }
   ],
   "source": [
    "#4.3.2使用range()创建数值列表\n",
    "squares=[]\n",
    "for value in range(1,11):\n",
    "    square=value**2\n",
    "    squares.append(square)\n",
    "\n",
    "print(squares)"
   ]
  },
  {
   "cell_type": "code",
   "execution_count": 9,
   "id": "00d60a6f-4a30-49d9-8075-6aeca5a9d88f",
   "metadata": {},
   "outputs": [
    {
     "name": "stdout",
     "output_type": "stream",
     "text": [
      "[2, 4, 6, 8, 10]\n"
     ]
    }
   ],
   "source": [
    "even_numbers=list(range(2,11,2))\n",
    "print(even_numbers)\n",
    "##range()函数可以指定步长"
   ]
  },
  {
   "cell_type": "code",
   "execution_count": 10,
   "id": "f29f8772-a88b-4025-966d-f7a56cf7b864",
   "metadata": {},
   "outputs": [
    {
     "name": "stdout",
     "output_type": "stream",
     "text": [
      "0\n",
      "9\n",
      "45\n"
     ]
    }
   ],
   "source": [
    "#4.3.3对数值列表进行简单的统计计算\n",
    "digits=[1,2,3,4,5,6,7,8,9,0]\n",
    "print(min(digits))\n",
    "print(max(digits))\n",
    "print(sum(digits))"
   ]
  },
  {
   "cell_type": "code",
   "execution_count": 11,
   "id": "5aa9f73f-e854-44d5-a943-b416f7261eda",
   "metadata": {},
   "outputs": [
    {
     "name": "stdout",
     "output_type": "stream",
     "text": [
      "[1, 2, 3, 4, 5, 6, 7, 8, 9, 10]\n",
      "[3, 4, 5, 6, 7, 8, 9, 10, 11, 12]\n",
      "[1, 4, 9, 16, 25, 36, 49, 64, 81, 100]\n"
     ]
    }
   ],
   "source": [
    "squares=[value for value in range(1,11)]\n",
    "print(squares)\n",
    "squares=[value+2 for value in range(1,11)]\n",
    "print(squares)\n",
    "#4.3.4列表推导式\n",
    "squares=[value**2 for value in range(1,11)]\n",
    "print(squares)"
   ]
  },
  {
   "cell_type": "markdown",
   "id": "95229c87-f851-4f37-9c8c-bf2149fd4bcc",
   "metadata": {},
   "source": [
    "### 动手试一试"
   ]
  },
  {
   "cell_type": "code",
   "execution_count": 13,
   "id": "47d521dd-bd17-492e-bdd4-fb2d32031d3f",
   "metadata": {},
   "outputs": [
    {
     "name": "stdout",
     "output_type": "stream",
     "text": [
      "1\n",
      "2\n",
      "3\n",
      "4\n",
      "5\n",
      "6\n",
      "7\n",
      "8\n",
      "9\n",
      "10\n",
      "11\n",
      "12\n",
      "13\n",
      "14\n",
      "15\n",
      "16\n",
      "17\n",
      "18\n",
      "19\n",
      "20\n"
     ]
    }
   ],
   "source": [
    "#练习4.3\n",
    "numbers=list(range(1,21))\n",
    "for number in numbers:\n",
    "    print(number)"
   ]
  },
  {
   "cell_type": "code",
   "execution_count": 17,
   "id": "3e1b9835-d1bc-4441-8fa8-c562e46687dc",
   "metadata": {},
   "outputs": [
    {
     "name": "stdout",
     "output_type": "stream",
     "text": [
      "1\n",
      "1000000\n",
      "500000500000\n"
     ]
    }
   ],
   "source": [
    "#练习4.5\n",
    "numbers=list(range(1,1_000_001))\n",
    "print(min(numbers))\n",
    "print(max(numbers))\n",
    "print(sum(numbers))"
   ]
  },
  {
   "cell_type": "code",
   "execution_count": 18,
   "id": "c2ee44d9-09ed-4b3a-bdd5-1c21f56d728d",
   "metadata": {},
   "outputs": [
    {
     "name": "stdout",
     "output_type": "stream",
     "text": [
      "1\n",
      "3\n",
      "5\n",
      "7\n",
      "9\n",
      "11\n",
      "13\n",
      "15\n",
      "17\n",
      "19\n"
     ]
    }
   ],
   "source": [
    "#练习4.6\n",
    "odd_numbers=list(range(1,20,2))\n",
    "for number in odd_numbers:\n",
    "    print(number)"
   ]
  },
  {
   "cell_type": "code",
   "execution_count": 19,
   "id": "46365bca-3916-4e0f-9693-2fd0c4b5cab9",
   "metadata": {},
   "outputs": [
    {
     "name": "stdout",
     "output_type": "stream",
     "text": [
      "3\n",
      "6\n",
      "9\n",
      "12\n",
      "15\n",
      "18\n",
      "21\n",
      "24\n",
      "27\n",
      "30\n"
     ]
    }
   ],
   "source": [
    "#练习4.7\n",
    "three_numbers=list(range(3,31,3))\n",
    "for number in three_numbers:\n",
    "    print(number)"
   ]
  },
  {
   "cell_type": "code",
   "execution_count": 1,
   "id": "12cba6e4-2336-4ed3-81f8-d51810bcbab3",
   "metadata": {},
   "outputs": [
    {
     "name": "stdout",
     "output_type": "stream",
     "text": [
      "1\n",
      "8\n",
      "27\n",
      "64\n",
      "125\n",
      "216\n",
      "343\n",
      "512\n",
      "729\n",
      "1000\n"
     ]
    }
   ],
   "source": [
    "#练习4.8 立方\n",
    "cubes=[]\n",
    "for number in range(1,11):\n",
    "    cube=number**3\n",
    "    cubes.append(cube)\n",
    "for cube in cubes:\n",
    "    print(cube)"
   ]
  },
  {
   "cell_type": "code",
   "execution_count": 2,
   "id": "8cd7fcd0-0ba8-4979-a56a-4a4e39fb1de7",
   "metadata": {},
   "outputs": [
    {
     "name": "stdout",
     "output_type": "stream",
     "text": [
      "1\n",
      "8\n",
      "27\n",
      "64\n",
      "125\n",
      "216\n",
      "343\n",
      "512\n",
      "729\n",
      "1000\n"
     ]
    }
   ],
   "source": [
    "#练习4.9 立方推导式\n",
    "cubes=[number**3 for number in range(1,11)]\n",
    "for cube in cubes:\n",
    "    print(cube)"
   ]
  },
  {
   "cell_type": "markdown",
   "id": "26fb0198-54bc-4892-954d-203cc22147ce",
   "metadata": {},
   "source": [
    "## 4.4使用列表的一部分"
   ]
  },
  {
   "cell_type": "code",
   "execution_count": 3,
   "id": "55a5951c-21df-4cbb-b316-fd08f8acb9ef",
   "metadata": {},
   "outputs": [
    {
     "name": "stdout",
     "output_type": "stream",
     "text": [
      "['charles', 'martina', 'michael']\n",
      "['charles', 'martina', 'michael', 'florence']\n",
      "['michael', 'florence', 'eli']\n"
     ]
    }
   ],
   "source": [
    "#4.4.1切片\n",
    "##与range()函数一样，从第一个索引的元素到第二个索引之前的元素。没有起始索引，则从开头开始。没有结束索引，则到最后一个元素。\n",
    "players=['charles','martina','michael','florence','eli']\n",
    "print(players[0:3])\n",
    "print(players[:-1])\n",
    "print(players[2:])"
   ]
  },
  {
   "cell_type": "code",
   "execution_count": 4,
   "id": "ccd4707d-18c5-4506-ab83-610367a8e7ca",
   "metadata": {},
   "outputs": [
    {
     "name": "stdout",
     "output_type": "stream",
     "text": [
      "Here are the first three players on my team:\n",
      "Charles\n",
      "Martina\n",
      "Michael\n"
     ]
    }
   ],
   "source": [
    "#4.4.2遍历切片\n",
    "players=['charles','martina','michael','florence','eli']\n",
    "print(\"Here are the first three players on my team:\")\n",
    "for player in players[:3]:\n",
    "    print(player.title())"
   ]
  },
  {
   "cell_type": "code",
   "execution_count": 5,
   "id": "67409f43-57f6-4ff4-9a2a-08056eea3d8b",
   "metadata": {},
   "outputs": [
    {
     "name": "stdout",
     "output_type": "stream",
     "text": [
      "My favorite foods are:\n",
      "['pizza', 'falafel', 'carrot cake']\n",
      "\n",
      "My friends's favorite foods are:\n",
      "['pizza', 'falafel', 'carrot cake']\n"
     ]
    }
   ],
   "source": [
    "#4。4.3复制列表\n",
    "my_foods=['pizza','falafel','carrot cake']\n",
    "friend_foods=my_foods[:]\n",
    "print(\"My favorite foods are:\")\n",
    "print(my_foods)\n",
    "print(\"\\nMy friends's favorite foods are:\")\n",
    "print(friend_foods)"
   ]
  },
  {
   "cell_type": "code",
   "execution_count": 6,
   "id": "633c9c35-90d2-432c-96ec-e1f950cc4879",
   "metadata": {},
   "outputs": [
    {
     "name": "stdout",
     "output_type": "stream",
     "text": [
      "My favorite foods are:\n",
      "['pizza', 'falafel', 'carrot cake', 'cannoli']\n",
      "\n",
      "My friends's favorite foods are:\n",
      "['pizza', 'falafel', 'carrot cake', 'ice cream']\n"
     ]
    }
   ],
   "source": [
    "my_foods=['pizza','falafel','carrot cake']\n",
    "## Deep Copy\n",
    "friend_foods=my_foods[:]\n",
    "my_foods.append('cannoli')\n",
    "friend_foods.append('ice cream')\n",
    "##这里通过切片的方式，只是把my_food的副本赋给了friend_food，不会影响后续的操作\n",
    "print(\"My favorite foods are:\")\n",
    "print(my_foods)\n",
    "print(\"\\nMy friends's favorite foods are:\")\n",
    "print(friend_foods)"
   ]
  },
  {
   "cell_type": "code",
   "execution_count": 8,
   "id": "fe3cfae4-4b11-4a76-8d0b-772054675736",
   "metadata": {},
   "outputs": [
    {
     "name": "stdout",
     "output_type": "stream",
     "text": [
      "My favorite foods are:\n",
      "['pizza', 'falafel', 'carrot cake', 'cannoli', 'ice cream']\n",
      "\n",
      "My friends's favorite foods are:\n",
      "['pizza', 'falafel', 'carrot cake', 'cannoli', 'ice cream']\n"
     ]
    }
   ],
   "source": [
    "my_foods=['pizza','falafel','carrot cake']\n",
    "## Shallow Copy\n",
    "friend_foods=my_foods\n",
    "my_foods.append('cannoli')\n",
    "friend_foods.append('ice cream')\n",
    "##这里直接将my_food赋给了friend_food，即两个实际上指向一个列表。后续改变任意一个都会影响彼此。\n",
    "print(\"My favorite foods are:\")\n",
    "print(my_foods)\n",
    "print(\"\\nMy friends's favorite foods are:\")\n",
    "print(friend_foods)"
   ]
  },
  {
   "cell_type": "markdown",
   "id": "395f24d5-5289-46d3-a52f-f372c2e15a3f",
   "metadata": {},
   "source": [
    "### 动手试一试"
   ]
  },
  {
   "cell_type": "code",
   "execution_count": 9,
   "id": "39371d36-9cb4-45f7-b503-9a8a66d0b6bb",
   "metadata": {},
   "outputs": [
    {
     "name": "stdout",
     "output_type": "stream",
     "text": [
      "The fist three items in the list are:\n",
      "['charles', 'martina', 'michael']\n",
      "\n",
      "The items from the middle of the list are:\n",
      "['martina', 'michael', 'florence']\n",
      "\n",
      "The last items in th list are:\n",
      "['michael', 'florence', 'eli']\n"
     ]
    }
   ],
   "source": [
    "#练习4.10切片\n",
    "players=['charles','martina','michael','florence','eli']\n",
    "print(\"The fist three items in the list are:\")\n",
    "print(players[0:3])\n",
    "print(\"\\nThe items from the middle of the list are:\")\n",
    "print(players[1:4])\n",
    "print(\"\\nThe last items in th list are:\")\n",
    "print(players[-3:])"
   ]
  },
  {
   "cell_type": "code",
   "execution_count": 10,
   "id": "665889d2-2b36-4af1-9e2f-3b1c8edc02cf",
   "metadata": {},
   "outputs": [
    {
     "name": "stdout",
     "output_type": "stream",
     "text": [
      "\n",
      "My favorite pizzas are:\n",
      "pepperoni\n",
      "margherita\n",
      "hawaiian\n",
      "bacon\n",
      "\n",
      "My friend's favorite pizzas are:\n",
      "pepperoni\n",
      "margherita\n",
      "hawaiian\n",
      "supreme\n"
     ]
    }
   ],
   "source": [
    "#练习4.11 你的比萨，我的比萨\n",
    "pizzas=['pepperoni','margherita','hawaiian']\n",
    "friend_pizzas=pizzas[:]\n",
    "pizzas.append(\"bacon\")\n",
    "friend_pizzas.append(\"supreme\")\n",
    "print(\"\\nMy favorite pizzas are:\")\n",
    "for pizza in pizzas:\n",
    "    print(pizza)\n",
    "print(\"\\nMy friend's favorite pizzas are:\")\n",
    "for friend_pizza in friend_pizzas:\n",
    "    print(friend_pizza)"
   ]
  },
  {
   "cell_type": "code",
   "execution_count": 11,
   "id": "a5b1ccf3-97eb-49ed-878e-cd82886e9623",
   "metadata": {},
   "outputs": [
    {
     "name": "stdout",
     "output_type": "stream",
     "text": [
      "My favorite foods are:\n",
      "pizza\n",
      "falafel\n",
      "carrot cake\n",
      "cannoli\n",
      "\n",
      "My friends's favorite foods are:\n",
      "pizza\n",
      "falafel\n",
      "carrot cake\n",
      "ice cream\n"
     ]
    }
   ],
   "source": [
    "#练习4.12使用多个循环\n",
    "my_foods=['pizza','falafel','carrot cake']\n",
    "## Deep Copy\n",
    "friend_foods=my_foods[:]\n",
    "my_foods.append('cannoli')\n",
    "friend_foods.append('ice cream')\n",
    "\n",
    "print(\"My favorite foods are:\")\n",
    "for my_food in my_foods:\n",
    "    print(my_food)\n",
    "print(\"\\nMy friends's favorite foods are:\")\n",
    "for friend_food in friend_foods:\n",
    "    print(friend_food)"
   ]
  },
  {
   "cell_type": "markdown",
   "id": "63c1f784-9548-4307-81e2-9bcd26597d62",
   "metadata": {},
   "source": [
    "## 4.5元组"
   ]
  },
  {
   "cell_type": "code",
   "execution_count": null,
   "id": "c72a8e93-be0d-4923-86ec-9daa2b21b8aa",
   "metadata": {},
   "outputs": [],
   "source": [
    "##Python将不能修改的值称为不可变的，不可变的列表称为元组。"
   ]
  },
  {
   "cell_type": "code",
   "execution_count": 12,
   "id": "ea2850ca-e401-4ce6-9120-5b95c3e4dc53",
   "metadata": {},
   "outputs": [
    {
     "name": "stdout",
     "output_type": "stream",
     "text": [
      "200\n",
      "50\n"
     ]
    }
   ],
   "source": [
    "#4.5.1定义元组\n",
    "##元组看着很像列表，但使用圆括号。定义后，可以使用索引访问。\n",
    "dimensions=(200,50)\n",
    "print(dimensions[0])\n",
    "print(dimensions[1])"
   ]
  },
  {
   "cell_type": "code",
   "execution_count": 14,
   "id": "d02aa5d5-b76c-45a6-9ebe-469415253109",
   "metadata": {},
   "outputs": [
    {
     "ename": "TypeError",
     "evalue": "'tuple' object does not support item assignment",
     "output_type": "error",
     "traceback": [
      "\u001b[1;31m---------------------------------------------------------------------------\u001b[0m",
      "\u001b[1;31mTypeError\u001b[0m                                 Traceback (most recent call last)",
      "Cell \u001b[1;32mIn[14], line 2\u001b[0m\n\u001b[0;32m      1\u001b[0m dimensions\u001b[38;5;241m=\u001b[39m(\u001b[38;5;241m200\u001b[39m,\u001b[38;5;241m50\u001b[39m)\n\u001b[1;32m----> 2\u001b[0m dimensions[\u001b[38;5;241m0\u001b[39m]\u001b[38;5;241m=\u001b[39m\u001b[38;5;241m250\u001b[39m\n",
      "\u001b[1;31mTypeError\u001b[0m: 'tuple' object does not support item assignment"
     ]
    }
   ],
   "source": [
    "dimensions=(200,50)\n",
    "dimensions[0]=250\n",
    "##尝试修改元素的值，是不可以的"
   ]
  },
  {
   "cell_type": "code",
   "execution_count": 16,
   "id": "874dc4f2-b94b-414a-a4b2-56fc23a6cc75",
   "metadata": {},
   "outputs": [
    {
     "name": "stdout",
     "output_type": "stream",
     "text": [
      "200\n",
      "50\n"
     ]
    }
   ],
   "source": [
    "#4.5.2遍历元组中的所有值\n",
    "dimensions=(200,50)\n",
    "for dimension in dimensions:\n",
    "    print(dimension)"
   ]
  },
  {
   "cell_type": "code",
   "execution_count": 17,
   "id": "ced7966f-2177-4b8a-85a0-ec730f6cc5c4",
   "metadata": {},
   "outputs": [
    {
     "name": "stdout",
     "output_type": "stream",
     "text": [
      "Original dimensions:\n",
      "200\n",
      "50\n",
      "\n",
      "Modified dimensions:\n",
      "400\n",
      "100\n"
     ]
    }
   ],
   "source": [
    "#4.5.3修改元组变量\n",
    "dimensions=(200,50)\n",
    "print(\"Original dimensions:\")\n",
    "for dimension in dimensions:\n",
    "    print(dimension)\n",
    "##不能直接修改其中的元素，但可以通过重新赋值的方法重新定义元组\n",
    "dimensions=(400,100)\n",
    "print(\"\\nModified dimensions:\")\n",
    "for dimension in dimensions:\n",
    "    print(dimension)"
   ]
  },
  {
   "cell_type": "markdown",
   "id": "f577687b-9726-4138-9505-45f47d5501b4",
   "metadata": {},
   "source": [
    "### 动手试一试"
   ]
  },
  {
   "cell_type": "code",
   "execution_count": 18,
   "id": "104ebb33-1426-464f-9a89-47a73454a070",
   "metadata": {},
   "outputs": [
    {
     "name": "stdout",
     "output_type": "stream",
     "text": [
      "You can choose from these:\n",
      "hamburger\n",
      "sandwich\n",
      "salad\n",
      "berry cake\n",
      "hot dog\n"
     ]
    }
   ],
   "source": [
    "##4.13自助餐\n",
    "foods=('hamburger','sandwich','salad','berry cake','hot dog')\n",
    "print(\"You can choose from these:\")\n",
    "for food in foods:\n",
    "    print(food)"
   ]
  },
  {
   "cell_type": "code",
   "execution_count": 7,
   "id": "d0ef70a5-530e-4bf4-9ef0-2237e6056848",
   "metadata": {},
   "outputs": [
    {
     "name": "stdout",
     "output_type": "stream",
     "text": [
      "You can choose from these:\n",
      "hamburger\n",
      "sandwich\n",
      "salad\n",
      "berry cake\n",
      "hot dog\n"
     ]
    },
    {
     "ename": "TypeError",
     "evalue": "'tuple' object does not support item assignment",
     "output_type": "error",
     "traceback": [
      "\u001b[1;31m---------------------------------------------------------------------------\u001b[0m",
      "\u001b[1;31mTypeError\u001b[0m                                 Traceback (most recent call last)",
      "Cell \u001b[1;32mIn[7], line 5\u001b[0m\n\u001b[0;32m      3\u001b[0m \u001b[38;5;28;01mfor\u001b[39;00m food \u001b[38;5;129;01min\u001b[39;00m foods:\n\u001b[0;32m      4\u001b[0m     \u001b[38;5;28mprint\u001b[39m(food)\n\u001b[1;32m----> 5\u001b[0m foods[\u001b[38;5;241m0\u001b[39m]\u001b[38;5;241m=\u001b[39m\u001b[38;5;124m'\u001b[39m\u001b[38;5;124mice cream\u001b[39m\u001b[38;5;124m'\u001b[39m\n",
      "\u001b[1;31mTypeError\u001b[0m: 'tuple' object does not support item assignment"
     ]
    }
   ],
   "source": [
    "foods=('hamburger','sandwich','salad','berry cake','hot dog')\n",
    "print(\"You can choose from these:\")\n",
    "for food in foods:\n",
    "    print(food)\n",
    "foods[0]='ice cream'"
   ]
  },
  {
   "cell_type": "code",
   "execution_count": 9,
   "id": "7d6edd1c-9727-4358-a858-c2bd7e3e6fed",
   "metadata": {},
   "outputs": [
    {
     "name": "stdout",
     "output_type": "stream",
     "text": [
      "You can choose from these:\n",
      "hamburger\n",
      "sandwich\n",
      "salad\n",
      "berry cake\n",
      "hot dog\n",
      "\n",
      "New menu:\n",
      "hamburger\n",
      "sandwich\n",
      "salad\n",
      "cherry pancake\n",
      "popcorn chicken\n"
     ]
    }
   ],
   "source": [
    "foods=('hamburger','sandwich','salad','berry cake','hot dog')\n",
    "print(\"You can choose from these:\")\n",
    "for food in foods:\n",
    "    print(food)\n",
    "foods=('hamburger','sandwich','salad','cherry pancake','popcorn chicken')\n",
    "print(\"\\nNew menu:\")\n",
    "for food in foods:\n",
    "    print(food)"
   ]
  }
 ],
 "metadata": {
  "kernelspec": {
   "display_name": "Python 3 (ipykernel)",
   "language": "python",
   "name": "python3"
  },
  "language_info": {
   "codemirror_mode": {
    "name": "ipython",
    "version": 3
   },
   "file_extension": ".py",
   "mimetype": "text/x-python",
   "name": "python",
   "nbconvert_exporter": "python",
   "pygments_lexer": "ipython3",
   "version": "3.11.7"
  }
 },
 "nbformat": 4,
 "nbformat_minor": 5
}
