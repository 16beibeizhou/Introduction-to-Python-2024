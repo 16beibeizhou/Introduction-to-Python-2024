{
 "cells": [
  {
   "cell_type": "markdown",
   "id": "3e540442-9994-45b2-8f63-81ae1dbe6d9f",
   "metadata": {},
   "source": [
    "# 第五章 if语句"
   ]
  },
  {
   "cell_type": "markdown",
   "id": "ac92056f-8e7d-48c1-8f25-51455967c2df",
   "metadata": {},
   "source": [
    "## 5.1一个简单的示例"
   ]
  },
  {
   "cell_type": "code",
   "execution_count": 1,
   "id": "850adc6c-a08d-4135-b44b-a472bbf4af1e",
   "metadata": {},
   "outputs": [
    {
     "name": "stdout",
     "output_type": "stream",
     "text": [
      "Audi\n",
      "BMW\n",
      "Subaru\n",
      "Toyota\n"
     ]
    }
   ],
   "source": [
    "cars=['audi','bmw','subaru','toyota']\n",
    "for car in cars:\n",
    "    if car =='bmw':\n",
    "        print(car.upper())\n",
    "    else:\n",
    "        print(car.title())"
   ]
  },
  {
   "cell_type": "markdown",
   "id": "e4af7a7c-6800-4a44-bc4a-63a685013e52",
   "metadata": {},
   "source": [
    "## 5.2条件测试"
   ]
  },
  {
   "cell_type": "code",
   "execution_count": 2,
   "id": "20f179bf-4d26-42a4-96e5-601d0d8de3c0",
   "metadata": {},
   "outputs": [
    {
     "data": {
      "text/plain": [
       "True"
      ]
     },
     "execution_count": 2,
     "metadata": {},
     "output_type": "execute_result"
    }
   ],
   "source": [
    "#5.2.1检查是否相等\n",
    "car='bmw'\n",
    "car=='bmw'"
   ]
  },
  {
   "cell_type": "code",
   "execution_count": 4,
   "id": "3cdbbd91-ae49-4bbe-8d13-e24fdb0e4638",
   "metadata": {},
   "outputs": [
    {
     "data": {
      "text/plain": [
       "False"
      ]
     },
     "execution_count": 4,
     "metadata": {},
     "output_type": "execute_result"
    }
   ],
   "source": [
    "car='audi'\n",
    "car=='bmw'"
   ]
  },
  {
   "cell_type": "code",
   "execution_count": 4,
   "id": "b9974b64-9696-4bc7-87f5-025fba088c67",
   "metadata": {},
   "outputs": [
    {
     "name": "stdout",
     "output_type": "stream",
     "text": [
      "False\n",
      "True\n"
     ]
    }
   ],
   "source": [
    "#5.2.2如何在检查是否相等时忽略大小写\n",
    "car='Audi'\n",
    "print(car=='audi')\n",
    "##可以直接换成全部小写来检查\n",
    "##直接用car.lower()函数不会改变变量\n",
    "print(car.lower()=='audi')"
   ]
  },
  {
   "cell_type": "code",
   "execution_count": 9,
   "id": "8cc95dec-b4af-4ce9-b9ec-cf40c667e2d4",
   "metadata": {},
   "outputs": [
    {
     "data": {
      "text/plain": [
       "True"
      ]
     },
     "execution_count": 9,
     "metadata": {},
     "output_type": "execute_result"
    }
   ],
   "source": [
    "True==1"
   ]
  },
  {
   "cell_type": "code",
   "execution_count": 10,
   "id": "9c1a5af1-ae9e-4202-8257-bd8e49728114",
   "metadata": {},
   "outputs": [
    {
     "data": {
      "text/plain": [
       "True"
      ]
     },
     "execution_count": 10,
     "metadata": {},
     "output_type": "execute_result"
    }
   ],
   "source": [
    "False==0"
   ]
  },
  {
   "cell_type": "code",
   "execution_count": 5,
   "id": "64f15c8b-ad6a-4e62-9601-8e1a8149d991",
   "metadata": {},
   "outputs": [
    {
     "name": "stdout",
     "output_type": "stream",
     "text": [
      "True\n",
      "False\n"
     ]
    }
   ],
   "source": [
    "#5.2.3检查是否不等\n",
    "car='Audi'\n",
    "print(car!='audi')\n",
    "print(car.lower()!='audi')"
   ]
  },
  {
   "cell_type": "code",
   "execution_count": 6,
   "id": "484a37aa-400e-4377-a970-5793650e66ef",
   "metadata": {},
   "outputs": [
    {
     "data": {
      "text/plain": [
       "True"
      ]
     },
     "execution_count": 6,
     "metadata": {},
     "output_type": "execute_result"
    }
   ],
   "source": [
    "#5.2.4数值比较\n",
    "age=18\n",
    "age==18"
   ]
  },
  {
   "cell_type": "code",
   "execution_count": 21,
   "id": "08583edf-f7da-4513-9401-21c0ca0da2f0",
   "metadata": {},
   "outputs": [
    {
     "name": "stdout",
     "output_type": "stream",
     "text": [
      "That is not the correct answer! Please try again!\n"
     ]
    }
   ],
   "source": [
    "answer=17\n",
    "if answer!=42:\n",
    "    print(\"That is not the correct answer! Please try again!\")"
   ]
  },
  {
   "cell_type": "code",
   "execution_count": 8,
   "id": "3e97b725-9cdf-4851-a21b-501ad5470a5a",
   "metadata": {},
   "outputs": [
    {
     "name": "stdout",
     "output_type": "stream",
     "text": [
      "False\n",
      "True\n"
     ]
    }
   ],
   "source": [
    "#5.2.5检查多个条件\n",
    "##1.使用and检查多个条件——即是否都满足条件\n",
    "age_0=22\n",
    "age_1=18\n",
    "print(age_0>=21 and age_1>=21)\n",
    "##2.使用or检查多个条件——即是否满足其一\n",
    "print(age_0>=21 or age_1>=21)"
   ]
  },
  {
   "cell_type": "code",
   "execution_count": 17,
   "id": "fc6a7226-25df-4e00-b36c-2cc3a2407094",
   "metadata": {},
   "outputs": [
    {
     "name": "stdout",
     "output_type": "stream",
     "text": [
      "True\n",
      "False\n",
      "False\n",
      "True\n",
      "True\n"
     ]
    }
   ],
   "source": [
    "print(True and True)\n",
    "print(True and False)\n",
    "print(True & False)\n",
    "print(True or False)\n",
    "print(True | False)"
   ]
  },
  {
   "cell_type": "code",
   "execution_count": 10,
   "id": "9281673a-7074-443e-9605-dac56be1c55b",
   "metadata": {},
   "outputs": [
    {
     "name": "stdout",
     "output_type": "stream",
     "text": [
      "True\n",
      "False\n",
      "False\n"
     ]
    }
   ],
   "source": [
    "#5.2.6检查特定的值是否在列表中\n",
    "#5.2.7检查特定的值是否不在列表中\n",
    "requested_toppings=['mushrooms','onions','pineapple']\n",
    "print('mushrooms' in requested_toppings)\n",
    "print('mushrooms' not in requested_toppings)\n",
    "print('pepperoni' in requested_toppings)"
   ]
  },
  {
   "cell_type": "code",
   "execution_count": 25,
   "id": "d9a97921-7140-478d-a5fd-0ad545aa81fe",
   "metadata": {},
   "outputs": [
    {
     "name": "stdout",
     "output_type": "stream",
     "text": [
      "Marie, you can post a reponse if you wish.\n"
     ]
    }
   ],
   "source": [
    "banned_users=['andrew','carolina','david']\n",
    "user='marie'\n",
    "if user not in banned_users:\n",
    "    print(f\"{user.title()}, you can post a reponse if you wish.\")"
   ]
  },
  {
   "cell_type": "code",
   "execution_count": 11,
   "id": "646f6fae-0a10-454d-838e-42200338596b",
   "metadata": {},
   "outputs": [
    {
     "data": {
      "text/plain": [
       "False"
      ]
     },
     "execution_count": 11,
     "metadata": {},
     "output_type": "execute_result"
    }
   ],
   "source": [
    "game_paused=True\n",
    "not game_paused"
   ]
  },
  {
   "cell_type": "code",
   "execution_count": 12,
   "id": "d566d454-391d-446c-8a44-2af37d363d1f",
   "metadata": {},
   "outputs": [],
   "source": [
    "#5.2.8布尔表达式\n",
    "##布尔表达式，是条件测试的别名，结果为True 或False。常用于记录条件\n",
    "screen_active=True\n",
    "game_paused=False\n",
    "game_active=screen_active and (not game_paused)"
   ]
  },
  {
   "cell_type": "markdown",
   "id": "d571966b-b935-48c5-8fa9-bb051fc7d863",
   "metadata": {},
   "source": [
    "### 动手试一试"
   ]
  },
  {
   "cell_type": "code",
   "execution_count": 13,
   "id": "1379a0e2-1d46-4176-9189-f592874acbcc",
   "metadata": {},
   "outputs": [
    {
     "name": "stdout",
     "output_type": "stream",
     "text": [
      "Is coat=='black'? I predit True.\n",
      "True\n",
      "Is coat=='white'.I predit False.\n",
      "False\n"
     ]
    }
   ],
   "source": [
    "#练习5.1条件测试\n",
    "coat='black'\n",
    "print(\"Is coat=='black'? I predit True.\")\n",
    "print(coat=='black')\n",
    "print(\"Is coat=='white'.I predit False.\")\n",
    "print(coat=='white')"
   ]
  },
  {
   "cell_type": "code",
   "execution_count": 14,
   "id": "75625408-2e0e-4275-ad02-1c531941f354",
   "metadata": {},
   "outputs": [
    {
     "name": "stdout",
     "output_type": "stream",
     "text": [
      "True\n",
      "False\n",
      "True\n",
      "False\n"
     ]
    }
   ],
   "source": [
    "#练习5.2 更多条件测试\n",
    "answer='Yes'\n",
    "print(answer=='Yes')\n",
    "print(answer=='No')\n",
    "print(answer.lower()=='yes')\n",
    "print(answer=='yes')"
   ]
  },
  {
   "cell_type": "code",
   "execution_count": 5,
   "id": "21355cde-5863-4fe3-b48e-13e979ccc0e0",
   "metadata": {},
   "outputs": [
    {
     "name": "stdout",
     "output_type": "stream",
     "text": [
      "True\n",
      "True\n",
      "True\n",
      "False\n",
      "True\n",
      "True\n",
      "False\n"
     ]
    }
   ],
   "source": [
    "cost=20\n",
    "print(cost==20)\n",
    "print(cost<25)\n",
    "print(cost<=20)\n",
    "print(cost>22)\n",
    "print(cost>=18)\n",
    "print(cost>18 and cost<25)\n",
    "print(cost<18 or cost>25)"
   ]
  },
  {
   "cell_type": "code",
   "execution_count": 7,
   "id": "71b6e8ff-248b-4a77-8a62-c11ab36f3600",
   "metadata": {},
   "outputs": [
    {
     "name": "stdout",
     "output_type": "stream",
     "text": [
      "True\n",
      "False\n",
      "False\n"
     ]
    }
   ],
   "source": [
    "foods=['cake','bread','rice']\n",
    "print('rice' in foods)\n",
    "print('noodles' in foods)\n",
    "print('rice' not in foods)"
   ]
  },
  {
   "cell_type": "markdown",
   "id": "f7a06eb2-0eb0-41c5-805e-3584442874db",
   "metadata": {},
   "source": [
    "## 5.3 if语句"
   ]
  },
  {
   "cell_type": "code",
   "execution_count": 15,
   "id": "95ad828b-28c6-4b63-bef7-1fe3deafe253",
   "metadata": {},
   "outputs": [
    {
     "name": "stdout",
     "output_type": "stream",
     "text": [
      "You are old enough to vote!\n"
     ]
    }
   ],
   "source": [
    "#5.3.1简单的if语句\n",
    "age=19\n",
    "if age>=18:\n",
    "    print(\"You are old enough to vote!\")"
   ]
  },
  {
   "cell_type": "code",
   "execution_count": 3,
   "id": "1c5f4613-a779-4d6a-83f5-33017c91e389",
   "metadata": {},
   "outputs": [
    {
     "name": "stdout",
     "output_type": "stream",
     "text": [
      "You are old enough to vote!\n",
      "Have you registered to vote yet?\n"
     ]
    }
   ],
   "source": [
    "age=19\n",
    "if age>=18:\n",
    "    print(\"You are old enough to vote!\")\n",
    "    print(\"Have you registered to vote yet?\")"
   ]
  },
  {
   "cell_type": "code",
   "execution_count": 16,
   "id": "e2bf994f-df61-460a-bab7-2d17ca2ff281",
   "metadata": {},
   "outputs": [
    {
     "name": "stdout",
     "output_type": "stream",
     "text": [
      "Sorry, you are too young to vote.\n",
      "Please register to vote as soon as you turn 18!\n"
     ]
    }
   ],
   "source": [
    "#5.3.2if-else语句\n",
    "age=17\n",
    "if age>=18:\n",
    "    print(\"You are old enough to vote!\")\n",
    "    print(\"Have you registered to vote yet?\")\n",
    "else:\n",
    "    print(\"Sorry, you are too young to vote.\")\n",
    "    print(\"Please register to vote as soon as you turn 18!\")"
   ]
  },
  {
   "cell_type": "code",
   "execution_count": 5,
   "id": "19329f38-e989-48b8-aa0a-09b8b0dcc188",
   "metadata": {},
   "outputs": [
    {
     "name": "stdout",
     "output_type": "stream",
     "text": [
      "Your admission cost is $25.\n"
     ]
    }
   ],
   "source": [
    "#5.3.3 if-elif-else语句\n",
    "age=12\n",
    "if age<4:\n",
    "    print(\"Your admission cost is $0.\")\n",
    "elif age<18:\n",
    "    print(\"Your admission cost is $25.\")\n",
    "else:\n",
    "    print(\"Your admission cost is $40.\")"
   ]
  },
  {
   "cell_type": "code",
   "execution_count": 6,
   "id": "176d7c5d-8e2f-41ac-a8fb-8c18707f9297",
   "metadata": {},
   "outputs": [
    {
     "name": "stdout",
     "output_type": "stream",
     "text": [
      "Your admission cost is $25.\n"
     ]
    }
   ],
   "source": [
    "age=12\n",
    "if age<4:\n",
    "    price=0\n",
    "elif age<18:\n",
    "    price=25\n",
    "else:\n",
    "    price=40\n",
    "print(f\"Your admission cost is ${price}.\")"
   ]
  },
  {
   "cell_type": "code",
   "execution_count": 17,
   "id": "81a58027-81a7-4dd4-ab0f-0beb045b102a",
   "metadata": {},
   "outputs": [
    {
     "name": "stdout",
     "output_type": "stream",
     "text": [
      "Your admission cost is $25.\n"
     ]
    }
   ],
   "source": [
    "#5.3.4使用多个elif代码块\n",
    "age=12\n",
    "if age<4:\n",
    "    price=0\n",
    "elif age<18:\n",
    "    price=25\n",
    "elif age<65:\n",
    "    price=40\n",
    "else:\n",
    "    price=20\n",
    "print(f\"Your admission cost is ${price}.\")"
   ]
  },
  {
   "cell_type": "code",
   "execution_count": 18,
   "id": "44ef85d0-1a5a-4113-804c-1415e922bd18",
   "metadata": {},
   "outputs": [
    {
     "name": "stdout",
     "output_type": "stream",
     "text": [
      "Your admission cost is $25.\n"
     ]
    }
   ],
   "source": [
    "#5.3.5省略else代码块\n",
    "age=12\n",
    "if age<4:\n",
    "    price=0\n",
    "elif age<18:\n",
    "    price=25\n",
    "elif age<65:\n",
    "    price=40\n",
    "elif age>=65:\n",
    "    price=20\n",
    "print(f\"Your admission cost is ${price}.\")"
   ]
  },
  {
   "cell_type": "code",
   "execution_count": 19,
   "id": "c79da270-a259-4ee2-a8ad-c0fb11c76185",
   "metadata": {},
   "outputs": [
    {
     "name": "stdout",
     "output_type": "stream",
     "text": [
      "Adding mushrooms.\n",
      "Adding onions.\n",
      "\n",
      "Finished making your pizza!\n"
     ]
    }
   ],
   "source": [
    "#5.3。6测试多个条件\n",
    "requested_toppings=['mushrooms','onions']\n",
    "if 'mushrooms' in requested_toppings:\n",
    "    print(\"Adding mushrooms.\")\n",
    "if 'onions' in requested_toppings:\n",
    "    print(\"Adding onions.\")\n",
    "if 'pineapple' in requested_toppings:\n",
    "    print(\"Adding pineapple.\")\n",
    "print(\"\\nFinished making your pizza!\")"
   ]
  },
  {
   "cell_type": "code",
   "execution_count": 12,
   "id": "5d6a8672-d51e-48c0-aeac-3df3c79337d1",
   "metadata": {},
   "outputs": [
    {
     "name": "stdout",
     "output_type": "stream",
     "text": [
      "Adding mushrooms.\n",
      "\n",
      "Finished making your pizza!\n"
     ]
    }
   ],
   "source": [
    "requested_toppings=['mushrooms','onions']\n",
    "if 'mushrooms' in requested_toppings:\n",
    "    print(\"Adding mushrooms.\")\n",
    "elif 'onions' in requested_toppings:\n",
    "    print(\"Adding onions.\")\n",
    "elif 'pineapple' in requested_toppings:\n",
    "    print(\"Adding pineapple.\")\n",
    "print(\"\\nFinished making your pizza!\")"
   ]
  },
  {
   "cell_type": "markdown",
   "id": "3de6bc25-71f5-4fc4-94a5-e4c1443a6d51",
   "metadata": {},
   "source": [
    "### 动手试一试"
   ]
  },
  {
   "cell_type": "code",
   "execution_count": 20,
   "id": "b2337ac4-49f1-45f4-b485-3a76634dfc5d",
   "metadata": {},
   "outputs": [
    {
     "name": "stdout",
     "output_type": "stream",
     "text": [
      "You earned 5 points!\n"
     ]
    }
   ],
   "source": [
    "#练习5.3外星人颜色1\n",
    "alien_color='green'\n",
    "if alien_color=='green':\n",
    "    print(\"You earned 5 points!\")\n",
    "    \n",
    "alien_color='red'\n",
    "if alien_color=='green':\n",
    "    print(\"You have earned 5 points!\")"
   ]
  },
  {
   "cell_type": "code",
   "execution_count": 21,
   "id": "bf92cca9-3ccb-434c-9ec8-2c16ce7e2baa",
   "metadata": {},
   "outputs": [
    {
     "name": "stdout",
     "output_type": "stream",
     "text": [
      "You earned 5 points!\n"
     ]
    }
   ],
   "source": [
    "#练习5.4 外星人2\n",
    "alien_color='green'\n",
    "if alien_color=='green':\n",
    "    print(\"You earned 5 points!\")\n",
    "else:\n",
    "    print(\"You earned 10 points!\")\n",
    "    "
   ]
  },
  {
   "cell_type": "code",
   "execution_count": 16,
   "id": "36cddf63-387c-4b03-b978-2bd9e5ee732f",
   "metadata": {},
   "outputs": [
    {
     "name": "stdout",
     "output_type": "stream",
     "text": [
      "You earned 10 points!\n"
     ]
    }
   ],
   "source": [
    "alien_color='red'\n",
    "if alien_color=='green':\n",
    "    print(\"You earned 5 points!\")\n",
    "else:\n",
    "    print(\"You earned 10 points!\")\n",
    "    "
   ]
  },
  {
   "cell_type": "code",
   "execution_count": 22,
   "id": "d9c6c8e4-abf2-44d7-8703-fb9577bbd395",
   "metadata": {},
   "outputs": [
    {
     "name": "stdout",
     "output_type": "stream",
     "text": [
      "You earned 15 points!\n"
     ]
    }
   ],
   "source": [
    "#练习5.5外星人颜色3\n",
    "alien_color='red'\n",
    "if alien_color=='green':\n",
    "    print(\"You earned 5 points!\")\n",
    "elif alien_color=='yellow':\n",
    "    print(\"You earned 10 points!\")\n",
    "else:\n",
    "    print(\"You earned 15 points!\")"
   ]
  },
  {
   "cell_type": "code",
   "execution_count": 20,
   "id": "677fb49f-c3ab-4175-ac00-34473748cbb5",
   "metadata": {},
   "outputs": [
    {
     "name": "stdout",
     "output_type": "stream",
     "text": [
      "You earned 5 points!\n"
     ]
    }
   ],
   "source": [
    "alien_color='green'\n",
    "if alien_color=='green':\n",
    "    print(\"You earned 5 points!\")\n",
    "elif alien_color=='yellow':\n",
    "    print(\"You earned 10 points!\")\n",
    "else:\n",
    "    print(\"You earned 15 points!\")"
   ]
  },
  {
   "cell_type": "code",
   "execution_count": 21,
   "id": "dbcb2e25-bfd8-40ca-9508-413108992561",
   "metadata": {},
   "outputs": [
    {
     "name": "stdout",
     "output_type": "stream",
     "text": [
      "You earned 10 points!\n"
     ]
    }
   ],
   "source": [
    "alien_color='yellow'\n",
    "if alien_color=='green':\n",
    "    print(\"You earned 5 points!\")\n",
    "elif alien_color=='yellow':\n",
    "    print(\"You earned 10 points!\")\n",
    "else:\n",
    "    print(\"You earned 15 points!\")"
   ]
  },
  {
   "cell_type": "code",
   "execution_count": 23,
   "id": "3198941d-2f50-40ac-85ba-361e4bdf7104",
   "metadata": {},
   "outputs": [
    {
     "name": "stdout",
     "output_type": "stream",
     "text": [
      "This person is an adult.\n"
     ]
    }
   ],
   "source": [
    "#练习5.6人生的不同阶段\n",
    "age=20\n",
    "if age<2:\n",
    "    print(\"This person is a baby.\")\n",
    "elif age<4:\n",
    "    print(\"This person is a toddler.\")\n",
    "elif age<13:\n",
    "    print(\"This person is a child.\")\n",
    "elif age<18:\n",
    "    print(\"This person is a teenager.\")\n",
    "elif age<65:\n",
    "    print(\"This person is an adult.\")\n",
    "else:\n",
    "    print(\"This person is an elder.\")"
   ]
  },
  {
   "cell_type": "code",
   "execution_count": 24,
   "id": "452f1c18-3a57-498d-93fc-31642cf1621e",
   "metadata": {},
   "outputs": [
    {
     "name": "stdout",
     "output_type": "stream",
     "text": [
      "You really like oranges!\n",
      "You really like grapes!\n",
      "You really like apples!\n"
     ]
    }
   ],
   "source": [
    "#练习5.7喜欢的水果\n",
    "favorite_fruits=['oranges','grapes','apples']\n",
    "if 'oranges' in favorite_fruits:\n",
    "    print(\"You really like oranges!\")\n",
    "if 'bananas' in favorite_fruits:\n",
    "    print(\"You really like bananas!\")\n",
    "if 'grapes' in favorite_fruits:\n",
    "    print(\"You really like grapes!\")\n",
    "if 'apples' in favorite_fruits:\n",
    "    print(\"You really like apples!\")\n",
    "if 'strawberries' in favorite_fruits:\n",
    "    print(\"You really like strawberries!\")"
   ]
  },
  {
   "cell_type": "markdown",
   "id": "1962e5b6-18b4-49b9-a93b-97ecf602a2c6",
   "metadata": {},
   "source": [
    "## 5.4 使用if语句处理列表"
   ]
  },
  {
   "cell_type": "code",
   "execution_count": 25,
   "id": "976010cb-1d75-43b4-a35a-8a70a2e6d7bd",
   "metadata": {},
   "outputs": [
    {
     "name": "stdout",
     "output_type": "stream",
     "text": [
      "Adding mushrooms.\n",
      "Adding green peppers.\n",
      "Adding extra cheese.\n",
      "\n",
      "Finished making your pizza!\n"
     ]
    }
   ],
   "source": [
    "#5.4.1检查特殊元素\n",
    "requested_toppings=['mushrooms','green peppers','extra cheese']\n",
    "for requested_topping in requested_toppings:\n",
    "    print(f\"Adding {requested_topping}.\")\n",
    "print(\"\\nFinished making your pizza!\")"
   ]
  },
  {
   "cell_type": "code",
   "execution_count": 30,
   "id": "ca2a1a11-b14f-47c8-abe4-a0d146d0e9bb",
   "metadata": {},
   "outputs": [
    {
     "name": "stdout",
     "output_type": "stream",
     "text": [
      "Adding mushrooms.\n",
      "Sorry, we are out of green peppers right now.\n",
      "Adding extra cheese.\n",
      "\n",
      "Finished making your pizza!\n"
     ]
    }
   ],
   "source": [
    "requested_toppings=['mushrooms','green peppers','extra cheese']\n",
    "for requested_topping in requested_toppings:\n",
    "    if requested_topping=='green peppers':\n",
    "        print(\"Sorry, we are out of green peppers right now.\")\n",
    "    else:\n",
    "        print(f\"Adding {requested_topping}.\")\n",
    "print(\"\\nFinished making your pizza!\")"
   ]
  },
  {
   "cell_type": "code",
   "execution_count": 26,
   "id": "247c5cba-c6de-40fa-8c7b-4b8017e116a2",
   "metadata": {},
   "outputs": [
    {
     "name": "stdout",
     "output_type": "stream",
     "text": [
      "Are you sure you want a plain pizza?\n"
     ]
    }
   ],
   "source": [
    "#5.4.2确定列表非空\n",
    "requested_toppings=[]\n",
    "if requested_toppings:\n",
    "    for requested_topping in requested_toppings:\n",
    "        print(f\"Adding {requested_topping}.\")\n",
    "    print(\"\\nFinished making your pizza!\")\n",
    "else:\n",
    "    print(\"Are you sure you want a plain pizza?\")"
   ]
  },
  {
   "cell_type": "code",
   "execution_count": 27,
   "id": "8254de8e-5009-440b-83b7-4d86f04b671e",
   "metadata": {},
   "outputs": [
    {
     "name": "stdout",
     "output_type": "stream",
     "text": [
      "Adding mushrooms.\n",
      "Sorry, we don't have fresh fries.\n",
      "Adding extra cheese.\n",
      "\n",
      "Finished making your pizza!\n"
     ]
    }
   ],
   "source": [
    "#5.4.3使用多个列表\n",
    "available_toppings=['mushrooms','olives','green peppers','pepperoni','pineapple','extra cheese']\n",
    "requested_toppings=['mushrooms','fresh fries','extra cheese']\n",
    "for requested_topping in requested_toppings:\n",
    "    if requested_topping in available_toppings:\n",
    "        print(f\"Adding {requested_topping}.\")\n",
    "    else:\n",
    "        print(f\"Sorry, we don't have {requested_topping}.\")\n",
    "print(f\"\\nFinished making your pizza!\")"
   ]
  },
  {
   "cell_type": "markdown",
   "id": "304a5f0a-3d5f-45be-8c8c-fbe67c54d413",
   "metadata": {},
   "source": [
    "### 动手试一试"
   ]
  },
  {
   "cell_type": "code",
   "execution_count": 28,
   "id": "03c1a6d4-103a-4e5d-860e-fbb7d84749eb",
   "metadata": {},
   "outputs": [
    {
     "name": "stdout",
     "output_type": "stream",
     "text": [
      "Hello jack, thank you for logging in again.\n",
      "Hello nancy, thank you for logging in again.\n",
      "Hello admin, would you like to see a status report?\n",
      "Hello raven, thank you for logging in again.\n",
      "Hello laura, thank you for logging in again.\n"
     ]
    }
   ],
   "source": [
    "#练习5.8 以特殊方式跟管理员打电话\n",
    "usernames=['jack','nancy','admin','raven','laura']\n",
    "for username in usernames:\n",
    "    if username=='admin':\n",
    "        print(f\"Hello {username}, would you like to see a status report?\")\n",
    "    else:\n",
    "        print(f\"Hello {username}, thank you for logging in again.\")\n",
    "    "
   ]
  },
  {
   "cell_type": "code",
   "execution_count": 29,
   "id": "60861a4a-8e58-430b-ae60-df49d97a31eb",
   "metadata": {},
   "outputs": [
    {
     "name": "stdout",
     "output_type": "stream",
     "text": [
      "We need more users!\n"
     ]
    }
   ],
   "source": [
    "#练习5.9处理没有用户的情形\n",
    "usernames=[]\n",
    "if usernames:\n",
    "    for username in usernames:\n",
    "        if username=='admin':\n",
    "            print(f\"Hello {username}, would you like to see a status report?\")\n",
    "        else:\n",
    "            print(f\"Hello {username}, thank you for logging in again.\")\n",
    "else:\n",
    "    print(\"We need more users!\")"
   ]
  },
  {
   "cell_type": "code",
   "execution_count": 30,
   "id": "e7d4d2c6-cf40-41ac-bb93-3d0173560cff",
   "metadata": {},
   "outputs": [
    {
     "name": "stdout",
     "output_type": "stream",
     "text": [
      "The name 'Sam' is available.\n",
      "Sorry Harry, this name has been used.\n",
      "Sorry DAVID, this name has been used.\n",
      "The name 'anna' is available.\n",
      "The name 'Willy' is available.\n"
     ]
    }
   ],
   "source": [
    "#练习5.10 检查用户名\n",
    "current_users=['david','harry','admin','Harl','fanny']\n",
    "new_users=['Sam','Harry','DAVID','anna','Willy']\n",
    "current_users_lower=[user.lower() for user in current_users]\n",
    "for new_user in new_users:\n",
    "    if new_user.lower() in current_users:\n",
    "        print(f\"Sorry {new_user}, this name has been used.\")\n",
    "    else:\n",
    "        print(f\"The name '{new_user}' is available.\")"
   ]
  },
  {
   "cell_type": "code",
   "execution_count": 31,
   "id": "76825f5c-0d2d-450d-824d-f0b23c78601b",
   "metadata": {},
   "outputs": [
    {
     "name": "stdout",
     "output_type": "stream",
     "text": [
      "1st\n",
      "2rd\n",
      "3rd\n",
      "4th\n",
      "5th\n",
      "6th\n",
      "7th\n",
      "8th\n",
      "9th\n"
     ]
    }
   ],
   "source": [
    "#练习5.11序数\n",
    "numbers=list(range(1,10))\n",
    "for number in numbers:\n",
    "    if number==1:\n",
    "        print(\"1st\")\n",
    "    elif number==2:\n",
    "        print(\"2rd\")\n",
    "    elif number==3:\n",
    "        print(\"3rd\")\n",
    "    else:\n",
    "        print(f\"{number}th\")"
   ]
  },
  {
   "cell_type": "markdown",
   "id": "3f1525fa-113e-4c57-9827-ea7315a6e09c",
   "metadata": {},
   "source": [
    "## 5.5 设置if语句的格式"
   ]
  },
  {
   "cell_type": "code",
   "execution_count": 35,
   "id": "c91c63f1-4279-4795-bbf6-92f344910e67",
   "metadata": {},
   "outputs": [
    {
     "name": "stdout",
     "output_type": "stream",
     "text": [
      "Welcome.\n"
     ]
    }
   ],
   "source": [
    "##建议在比较运算符的两边都加空格：\n",
    "age=22\n",
    "if age > 20:\n",
    "    print(\"Welcome.\")"
   ]
  }
 ],
 "metadata": {
  "kernelspec": {
   "display_name": "Python 3 (ipykernel)",
   "language": "python",
   "name": "python3"
  },
  "language_info": {
   "codemirror_mode": {
    "name": "ipython",
    "version": 3
   },
   "file_extension": ".py",
   "mimetype": "text/x-python",
   "name": "python",
   "nbconvert_exporter": "python",
   "pygments_lexer": "ipython3",
   "version": "3.11.7"
  }
 },
 "nbformat": 4,
 "nbformat_minor": 5
}
