{
 "cells": [
  {
   "cell_type": "markdown",
   "id": "07b29034-0ed5-4fa1-80e1-e710f31be64b",
   "metadata": {},
   "source": [
    "# 用户输入和while循环"
   ]
  },
  {
   "cell_type": "markdown",
   "id": "4b79ddef-1078-4a75-956f-39f7ab7f76a9",
   "metadata": {},
   "source": [
    "## 7.1 input（）函数的工作原理"
   ]
  },
  {
   "cell_type": "code",
   "execution_count": 1,
   "id": "f68b8415-3965-449a-ae8e-1bfb7ccb476c",
   "metadata": {},
   "outputs": [
    {
     "name": "stdin",
     "output_type": "stream",
     "text": [
      "Tell me something, and I will repeat it back to you. HI\n"
     ]
    },
    {
     "name": "stdout",
     "output_type": "stream",
     "text": [
      "HI\n"
     ]
    }
   ],
   "source": [
    "##input()函数让程序暂停运行，等待用户输入一些文本，输入后将其赋予一个变量，以供使用。\n",
    "message=input(\"Tell me something, and I will repeat it back to you.\")\n",
    "print(message)"
   ]
  },
  {
   "cell_type": "markdown",
   "id": "62e9c25a-1205-4810-b40f-54a6e4877b95",
   "metadata": {},
   "source": [
    "### 7.1.1编写清晰的提示"
   ]
  },
  {
   "cell_type": "code",
   "execution_count": 34,
   "id": "d71aee7c-b8dc-4b22-a254-8b9447ad333e",
   "metadata": {},
   "outputs": [
    {
     "name": "stdin",
     "output_type": "stream",
     "text": [
      "Please enter your name: Sam\n"
     ]
    },
    {
     "name": "stdout",
     "output_type": "stream",
     "text": [
      "\n",
      "Hello, Sam!\n"
     ]
    }
   ],
   "source": [
    "#7.1.1\n",
    "name=input(\"Please enter your name:\")\n",
    "print(f\"\\nHello, {name}!\")"
   ]
  },
  {
   "cell_type": "code",
   "execution_count": 35,
   "id": "949d5649-cdd7-4517-98e2-09dbad234b60",
   "metadata": {},
   "outputs": [
    {
     "name": "stdin",
     "output_type": "stream",
     "text": [
      "If you share your name, we can personalize the messages you see.\n",
      "What is your name? Cindy\n"
     ]
    },
    {
     "name": "stdout",
     "output_type": "stream",
     "text": [
      "Hello, Cindy!\n"
     ]
    }
   ],
   "source": [
    "prompt=\"If you share your name, we can personalize the messages you see.\"\n",
    "prompt+=\"\\nWhat is your name?\"\n",
    "name=input(prompt)\n",
    "print(f\"Hello, {name}!\")"
   ]
  },
  {
   "cell_type": "markdown",
   "id": "1c675dd3-5f8b-4c26-82b9-7c976c574fb3",
   "metadata": {},
   "source": [
    "### 7.1.2使用int()来获取数值"
   ]
  },
  {
   "cell_type": "code",
   "execution_count": 3,
   "id": "12e4979c-976e-4c96-96d5-e90c372580a4",
   "metadata": {},
   "outputs": [
    {
     "name": "stdin",
     "output_type": "stream",
     "text": [
      "How old are you? 21\n"
     ]
    }
   ],
   "source": [
    "#7.1.2\n",
    "age=input(\"How old are you?\")"
   ]
  },
  {
   "cell_type": "code",
   "execution_count": 6,
   "id": "9a942b67-c35e-43f4-9ada-d71cae74f9d7",
   "metadata": {},
   "outputs": [
    {
     "name": "stdin",
     "output_type": "stream",
     "text": [
      "How old are you? 21\n"
     ]
    },
    {
     "ename": "TypeError",
     "evalue": "'>=' not supported between instances of 'str' and 'int'",
     "output_type": "error",
     "traceback": [
      "\u001b[1;31m---------------------------------------------------------------------------\u001b[0m",
      "\u001b[1;31mTypeError\u001b[0m                                 Traceback (most recent call last)",
      "Cell \u001b[1;32mIn[6], line 2\u001b[0m\n\u001b[0;32m      1\u001b[0m age\u001b[38;5;241m=\u001b[39m\u001b[38;5;28minput\u001b[39m(\u001b[38;5;124m\"\u001b[39m\u001b[38;5;124mHow old are you?\u001b[39m\u001b[38;5;124m\"\u001b[39m)\n\u001b[1;32m----> 2\u001b[0m age \u001b[38;5;241m>\u001b[39m\u001b[38;5;241m=\u001b[39m\u001b[38;5;241m18\u001b[39m\n",
      "\u001b[1;31mTypeError\u001b[0m: '>=' not supported between instances of 'str' and 'int'"
     ]
    }
   ],
   "source": [
    "age=input(\"How old are you?\")\n",
    "age >=18\n",
    "##这里输入的值被解读为文本，不可以直接当数字用"
   ]
  },
  {
   "cell_type": "code",
   "execution_count": 5,
   "id": "335e6954-e241-4f24-8587-96ecf3b9a23a",
   "metadata": {},
   "outputs": [
    {
     "name": "stdin",
     "output_type": "stream",
     "text": [
      "How old are you? 21\n"
     ]
    },
    {
     "data": {
      "text/plain": [
       "True"
      ]
     },
     "execution_count": 5,
     "metadata": {},
     "output_type": "execute_result"
    }
   ],
   "source": [
    "age=input(\"How old are you?\")\n",
    "age = int(age)\n",
    "age >=18"
   ]
  },
  {
   "cell_type": "code",
   "execution_count": 7,
   "id": "17ebaa05-2d2f-4ab8-933c-58f253169ef3",
   "metadata": {},
   "outputs": [
    {
     "name": "stdin",
     "output_type": "stream",
     "text": [
      "How tall are you, in inches?  71\n"
     ]
    },
    {
     "name": "stdout",
     "output_type": "stream",
     "text": [
      "\n",
      "You're tall enough to ride!\n"
     ]
    }
   ],
   "source": [
    "height = input(\"How tall are you, in inches? \")\n",
    "height = int(height)\n",
    "\n",
    "if height >= 48:\n",
    "    print(\"\\nYou're tall enough to ride!\")\n",
    "else:\n",
    "    print(\"\\nYou'll be able to ride when you're a little older.\")"
   ]
  },
  {
   "cell_type": "markdown",
   "id": "886e58ad-b7c6-42a8-8a8a-ff9284133fc7",
   "metadata": {},
   "source": [
    "### 7.1.3 求模运算符"
   ]
  },
  {
   "cell_type": "code",
   "execution_count": 9,
   "id": "8fcc2d84-a845-42f5-85aa-ffff672696c9",
   "metadata": {},
   "outputs": [
    {
     "data": {
      "text/plain": [
       "1"
      ]
     },
     "execution_count": 9,
     "metadata": {},
     "output_type": "execute_result"
    }
   ],
   "source": [
    "4%3"
   ]
  },
  {
   "cell_type": "code",
   "execution_count": 10,
   "id": "5d003fa3-a33a-4497-a45f-8a888dccb66a",
   "metadata": {},
   "outputs": [
    {
     "data": {
      "text/plain": [
       "2"
      ]
     },
     "execution_count": 10,
     "metadata": {},
     "output_type": "execute_result"
    }
   ],
   "source": [
    "5%3"
   ]
  },
  {
   "cell_type": "code",
   "execution_count": 11,
   "id": "fa8e5c60-2adb-4318-9b6e-08093ba7957e",
   "metadata": {},
   "outputs": [
    {
     "data": {
      "text/plain": [
       "0"
      ]
     },
     "execution_count": 11,
     "metadata": {},
     "output_type": "execute_result"
    }
   ],
   "source": [
    "6%3"
   ]
  },
  {
   "cell_type": "code",
   "execution_count": 12,
   "id": "f5d47fca-ab85-4c1a-bbc5-f432a9c58e3b",
   "metadata": {},
   "outputs": [
    {
     "data": {
      "text/plain": [
       "1"
      ]
     },
     "execution_count": 12,
     "metadata": {},
     "output_type": "execute_result"
    }
   ],
   "source": [
    "7%3"
   ]
  },
  {
   "cell_type": "code",
   "execution_count": 13,
   "id": "69f4de44-00c1-4b5f-b1a4-8508cc618797",
   "metadata": {},
   "outputs": [
    {
     "name": "stdin",
     "output_type": "stream",
     "text": [
      "Enter a number, and I'll tell you if it's even or odd:  18\n"
     ]
    },
    {
     "name": "stdout",
     "output_type": "stream",
     "text": [
      "\n",
      "The number 18 is even.\n"
     ]
    }
   ],
   "source": [
    "number = input(\"Enter a number, and I'll tell you if it's even or odd: \")\n",
    "number = int(number)\n",
    "\n",
    "if number % 2 == 0:\n",
    "    print(f\"\\nThe number {number} is even.\")\n",
    "else:\n",
    "    print(f\"\\nThe number {number} is odd.\")"
   ]
  },
  {
   "cell_type": "markdown",
   "id": "f45c5cc5-2185-4cac-a76b-69d589ae6b2d",
   "metadata": {},
   "source": [
    "### 动手试一试"
   ]
  },
  {
   "cell_type": "code",
   "execution_count": 14,
   "id": "51504399-9620-468c-aea9-6fe75df92714",
   "metadata": {},
   "outputs": [],
   "source": [
    "#7.1汽车租赁"
   ]
  },
  {
   "cell_type": "code",
   "execution_count": null,
   "id": "2e68bb99-0461-4149-abe6-30001cfbe5a2",
   "metadata": {},
   "outputs": [],
   "source": [
    "#7.2餐馆订座位"
   ]
  },
  {
   "cell_type": "code",
   "execution_count": 15,
   "id": "ac9ce257-02e9-42a4-b58d-400ea84bd617",
   "metadata": {},
   "outputs": [],
   "source": [
    "#7.310的整数倍"
   ]
  },
  {
   "cell_type": "markdown",
   "id": "7d158904-d8f5-4f3b-b761-4a16b569ad83",
   "metadata": {},
   "source": [
    "## 7.2 while循环简介"
   ]
  },
  {
   "cell_type": "markdown",
   "id": "05c046fa-5399-4674-888a-e841bac4e951",
   "metadata": {},
   "source": [
    "### 7.2.1使用while循环"
   ]
  },
  {
   "cell_type": "code",
   "execution_count": 8,
   "id": "da0651d5-aed4-4657-b9f9-51d8363af69c",
   "metadata": {},
   "outputs": [
    {
     "name": "stdout",
     "output_type": "stream",
     "text": [
      "1\n",
      "2\n"
     ]
    }
   ],
   "source": [
    "#7.2.1\n",
    "current_number=1\n",
    "while current_number<3:\n",
    "    print(current_number)\n",
    "    current_number+=1"
   ]
  },
  {
   "cell_type": "markdown",
   "id": "c2cc9839-1e19-4ea6-b9cd-5b8a870024b5",
   "metadata": {},
   "source": [
    "### 7.2.2让用户选择何时退出"
   ]
  },
  {
   "cell_type": "code",
   "execution_count": 31,
   "id": "6377b461-b12c-4654-aefd-65e1d2f7d9d8",
   "metadata": {},
   "outputs": [
    {
     "name": "stdin",
     "output_type": "stream",
     "text": [
      "\n",
      "Tell me something, and I will repeat it back to you:\n",
      "Enter 'quit' to end the program. HELLO\n"
     ]
    },
    {
     "name": "stdout",
     "output_type": "stream",
     "text": [
      "HELLO\n"
     ]
    },
    {
     "name": "stdin",
     "output_type": "stream",
     "text": [
      "\n",
      "Tell me something, and I will repeat it back to you:\n",
      "Enter 'quit' to end the program. HI\n"
     ]
    },
    {
     "name": "stdout",
     "output_type": "stream",
     "text": [
      "HI\n"
     ]
    },
    {
     "name": "stdin",
     "output_type": "stream",
     "text": [
      "\n",
      "Tell me something, and I will repeat it back to you:\n",
      "Enter 'quit' to end the program. quit\n"
     ]
    },
    {
     "name": "stdout",
     "output_type": "stream",
     "text": [
      "quit\n"
     ]
    }
   ],
   "source": [
    "#7.2。2\n",
    "prompt=\"\\nTell me something, and I will repeat it back to you:\"\n",
    "prompt+=\"\\nEnter 'quit' to end the program.\"\n",
    "message=\"\"\n",
    "while message !='quit':\n",
    "    message=input(prompt)\n",
    "    print(message)"
   ]
  },
  {
   "cell_type": "code",
   "execution_count": 6,
   "id": "dbf9a102-88e5-4fc9-8f10-3d933399d2ff",
   "metadata": {},
   "outputs": [
    {
     "name": "stdin",
     "output_type": "stream",
     "text": [
      "\n",
      "Tell me something, and I will repeat it back to you:\n",
      "Enter 'quit' to end the program. HELLO!\n"
     ]
    },
    {
     "name": "stdout",
     "output_type": "stream",
     "text": [
      "HELLO!\n"
     ]
    },
    {
     "name": "stdin",
     "output_type": "stream",
     "text": [
      "\n",
      "Tell me something, and I will repeat it back to you:\n",
      "Enter 'quit' to end the program. HAHA.\n"
     ]
    },
    {
     "name": "stdout",
     "output_type": "stream",
     "text": [
      "HAHA.\n"
     ]
    },
    {
     "name": "stdin",
     "output_type": "stream",
     "text": [
      "\n",
      "Tell me something, and I will repeat it back to you:\n",
      "Enter 'quit' to end the program. quit\n"
     ]
    }
   ],
   "source": [
    "prompt=\"\\nTell me something, and I will repeat it back to you:\"\n",
    "prompt+=\"\\nEnter 'quit' to end the program.\"\n",
    "message=\"\"\n",
    "while message !='quit':\n",
    "    message=input(prompt)\n",
    "    \n",
    "    if message !='quit':\n",
    "        print(message)"
   ]
  },
  {
   "cell_type": "markdown",
   "id": "9164b098-5a0f-4669-8a3c-818619d76bd8",
   "metadata": {},
   "source": [
    "### 7.2.3使用标志"
   ]
  },
  {
   "cell_type": "code",
   "execution_count": 11,
   "id": "e061ea7f-f9b9-4388-b283-b1d15e31fd6e",
   "metadata": {},
   "outputs": [
    {
     "name": "stdin",
     "output_type": "stream",
     "text": [
      "\n",
      "Tell me something, and I will repeat it back to you:\n",
      "Enter 'quit' to end the program. hello\n"
     ]
    },
    {
     "name": "stdout",
     "output_type": "stream",
     "text": [
      "hello\n"
     ]
    },
    {
     "name": "stdin",
     "output_type": "stream",
     "text": [
      "\n",
      "Tell me something, and I will repeat it back to you:\n",
      "Enter 'quit' to end the program. HI\n"
     ]
    },
    {
     "name": "stdout",
     "output_type": "stream",
     "text": [
      "HI\n"
     ]
    },
    {
     "name": "stdin",
     "output_type": "stream",
     "text": [
      "\n",
      "Tell me something, and I will repeat it back to you:\n",
      "Enter 'quit' to end the program. quit\n"
     ]
    }
   ],
   "source": [
    "#7.2.3\n",
    "prompt=\"\\nTell me something, and I will repeat it back to you:\"\n",
    "prompt+=\"\\nEnter 'quit' to end the program.\"\n",
    "active=True\n",
    "while active:\n",
    "    message=input(prompt)\n",
    "    if message=='quit':\n",
    "        active=False\n",
    "    else:\n",
    "        print(message)"
   ]
  },
  {
   "cell_type": "markdown",
   "id": "65aa9c52-107b-4c79-a516-b85fa1fd923e",
   "metadata": {},
   "source": [
    "### 7.2.4使用break退出循环"
   ]
  },
  {
   "cell_type": "code",
   "execution_count": 12,
   "id": "441c5f1c-33cc-458d-a75a-ce79236b9111",
   "metadata": {},
   "outputs": [
    {
     "name": "stdin",
     "output_type": "stream",
     "text": [
      "\n",
      "Please enter the name of a city you have visited.\n",
      "(Enter 'quit' when you are finished.) New York\n"
     ]
    },
    {
     "name": "stdout",
     "output_type": "stream",
     "text": [
      "I'd love to go to New York!\n"
     ]
    },
    {
     "name": "stdin",
     "output_type": "stream",
     "text": [
      "\n",
      "Please enter the name of a city you have visited.\n",
      "(Enter 'quit' when you are finished.) San Francisco\n"
     ]
    },
    {
     "name": "stdout",
     "output_type": "stream",
     "text": [
      "I'd love to go to San Francisco!\n"
     ]
    },
    {
     "name": "stdin",
     "output_type": "stream",
     "text": [
      "\n",
      "Please enter the name of a city you have visited.\n",
      "(Enter 'quit' when you are finished.) quit\n"
     ]
    }
   ],
   "source": [
    "#7.2.4\n",
    "prompt=\"\\nPlease enter the name of a city you have visited.\"\n",
    "prompt+=\"\\n(Enter 'quit' when you are finished.)\"\n",
    "while True:\n",
    "    city=input(prompt)\n",
    "    if city=='quit':\n",
    "        break\n",
    "    else:\n",
    "        print(f\"I'd love to go to {city.title()}!\")"
   ]
  },
  {
   "cell_type": "markdown",
   "id": "13591e64-b33d-411a-b86a-f5fc3a30a57e",
   "metadata": {},
   "source": [
    "### 7.2.5在循环中使用continue"
   ]
  },
  {
   "cell_type": "code",
   "execution_count": 30,
   "id": "dda6d107-520a-4c28-9491-3e9494e1b482",
   "metadata": {},
   "outputs": [
    {
     "name": "stdout",
     "output_type": "stream",
     "text": [
      "1\n",
      "3\n",
      "5\n",
      "7\n",
      "9\n"
     ]
    }
   ],
   "source": [
    "#7.2.5\n",
    "current_number=0\n",
    "while current_number<10:\n",
    "    current_number+=1\n",
    "    if current_number %2==0:\n",
    "        continue\n",
    "    print(current_number)"
   ]
  },
  {
   "cell_type": "markdown",
   "id": "874702e3-aa99-4d42-b96f-0ff9b9178d22",
   "metadata": {},
   "source": [
    "### 7.2.6 避免无限循环"
   ]
  },
  {
   "cell_type": "code",
   "execution_count": null,
   "id": "ca36608b-f6b3-4b63-903a-84cf0f6a1401",
   "metadata": {},
   "outputs": [],
   "source": [
    "#7.2.6 避免无限循环\n",
    "x=1\n",
    "while x<5:\n",
    "    print(x)\n",
    "    x+=1#少了这行将无限循环"
   ]
  },
  {
   "cell_type": "markdown",
   "id": "a8601b2c-9b90-4364-a4ce-3c7f9f209ce9",
   "metadata": {},
   "source": [
    "### 动手试一试"
   ]
  },
  {
   "cell_type": "code",
   "execution_count": null,
   "id": "a2705b44-5e17-4a8a-a56e-61d863ade58e",
   "metadata": {},
   "outputs": [],
   "source": [
    "#7.4比萨配料"
   ]
  },
  {
   "cell_type": "code",
   "execution_count": null,
   "id": "92dc1feb-f220-4721-893a-8a34f45dadc1",
   "metadata": {},
   "outputs": [],
   "source": [
    "#7.5电影票"
   ]
  },
  {
   "cell_type": "code",
   "execution_count": null,
   "id": "738a16e9-4a75-4b66-a64e-7d49f0270fbb",
   "metadata": {},
   "outputs": [],
   "source": [
    "#7.6三种出路"
   ]
  },
  {
   "cell_type": "code",
   "execution_count": null,
   "id": "9569b4c2-ac7f-4740-b3a0-c618755c04a7",
   "metadata": {},
   "outputs": [],
   "source": [
    "#7.7无限循环"
   ]
  },
  {
   "cell_type": "markdown",
   "id": "c4f6b974-7ed8-4f6b-b09a-4ced583378b0",
   "metadata": {},
   "source": [
    "## 7.3使用while循环处理列表和字典"
   ]
  },
  {
   "cell_type": "markdown",
   "id": "ce5ffe4a-06af-4f69-bc46-8f478a14652c",
   "metadata": {},
   "source": [
    "### 7.3.1在列表之间移动元素"
   ]
  },
  {
   "cell_type": "code",
   "execution_count": 17,
   "id": "056fb4b8-b1b3-47c7-8ed7-4dcc603c557a",
   "metadata": {},
   "outputs": [
    {
     "name": "stdout",
     "output_type": "stream",
     "text": [
      "Verifying user:Candace\n",
      "Verifying user:Brain\n",
      "Verifying user:Alice\n",
      "\n",
      "The following users have been confirmed:\n",
      "Candace\n",
      "Brain\n",
      "Alice\n"
     ]
    }
   ],
   "source": [
    "#7.3.1\n",
    "##首先，创建一个待验证的用户列表\n",
    "##和一个哦那个与存储已验证的用户的空列表\n",
    "unconfirmed_users=['alice','brain','candace']\n",
    "confirmed_users=[]\n",
    "\n",
    "##验证每个用户，直到没有未验证的用户为止\n",
    "##将每个经过验证的用户都移动到已验证用户列表中\n",
    "while unconfirmed_users:\n",
    "    current_user=unconfirmed_users.pop()\n",
    "    print(f\"Verifying user:{current_user.title()}\")\n",
    "    confirmed_users.append(current_user)\n",
    "print(\"\\nThe following users have been confirmed:\")\n",
    "##显示所有的已验证用户\n",
    "for confirmed_user in confirmed_users:\n",
    "    print(confirmed_user.title())"
   ]
  },
  {
   "cell_type": "markdown",
   "id": "7de202f0-a4a7-4b4a-8451-d05d97afeae0",
   "metadata": {},
   "source": [
    "### 7.3.2 删除未特定值的所欲列表元素"
   ]
  },
  {
   "cell_type": "code",
   "execution_count": 22,
   "id": "e4438197-0706-4da5-ac9f-1fa36f215d92",
   "metadata": {},
   "outputs": [
    {
     "name": "stdout",
     "output_type": "stream",
     "text": [
      "['dog', 'cat', 'dog', 'goldfish', 'cat', 'rabbit', 'cat']\n",
      "['dog', 'dog', 'goldfish', 'rabbit']\n"
     ]
    }
   ],
   "source": [
    "#7.3.2\n",
    "pets=['dog','cat','dog','goldfish','cat','rabbit','cat']\n",
    "print(pets)\n",
    "while 'cat' in pets:\n",
    "    pets.remove('cat')\n",
    "print(pets)"
   ]
  },
  {
   "cell_type": "markdown",
   "id": "0b6fafcc-d820-447c-a1b4-fe171a0263be",
   "metadata": {},
   "source": [
    "### 7.3.4使用用户输入填充字典"
   ]
  },
  {
   "cell_type": "code",
   "execution_count": 18,
   "id": "bd9065cd-b186-45f5-8075-754034e16895",
   "metadata": {},
   "outputs": [
    {
     "name": "stdin",
     "output_type": "stream",
     "text": [
      "\n",
      "What is your name? Eric\n",
      "\n",
      "Which mountain would you like to climb someday? Denali\n",
      "Would you like to let another person respond?(yes/no) yes\n",
      "\n",
      "What is your name? Lynn\n",
      "\n",
      "Which mountain would you like to climb someday? Devil's Thumb\n",
      "Would you like to let another person respond?(yes/no) no\n"
     ]
    },
    {
     "name": "stdout",
     "output_type": "stream",
     "text": [
      "\n",
      "---Poll Results---\n",
      "Eric would like to climb Denali.\n",
      "Lynn would like to climb Devil's Thumb.\n"
     ]
    }
   ],
   "source": [
    "# 7.3.4\n",
    "responses={}\n",
    "##设置一个标志，指出调查是否继续\n",
    "polling_active=True\n",
    "\n",
    "while polling_active:\n",
    "    ##提示输入被调查者的名字和回答\n",
    "    name=input(\"\\nWhat is your name?\")\n",
    "    response=input(\"\\nWhich mountain would you like to climb someday?\")\n",
    "    ##将回答存储在字典中\n",
    "    responses[name]=response\n",
    "    ##看看是否还有人要参与调查\n",
    "    repeat=input(\"Would you like to let another person respond?(yes/no)\")\n",
    "    if repeat=='no':\n",
    "        polling_active=False\n",
    "##结束调查，显示结果\n",
    "print(\"\\n---Poll Results---\")\n",
    "for name, response in responses.items():\n",
    "    print(f\"{name} would like to climb {response}.\")"
   ]
  },
  {
   "cell_type": "markdown",
   "id": "8db545a0-6c20-4541-b828-65f1e7254381",
   "metadata": {},
   "source": [
    "### 动手试一试"
   ]
  },
  {
   "cell_type": "code",
   "execution_count": null,
   "id": "c6efabb5-4f78-44dd-9642-bfdc6eeee752",
   "metadata": {},
   "outputs": [],
   "source": [
    "#7.8熟食店"
   ]
  },
  {
   "cell_type": "code",
   "execution_count": null,
   "id": "c22ec697-3a3c-48a1-8f3f-84f97d1e6b12",
   "metadata": {},
   "outputs": [],
   "source": [
    "#7.9五香烟熏牛肉卖完了"
   ]
  },
  {
   "cell_type": "code",
   "execution_count": null,
   "id": "5b841b0c-3adc-4c14-a3f0-b29fbca9052b",
   "metadata": {},
   "outputs": [],
   "source": [
    "#7.10梦想中的独家圣地"
   ]
  }
 ],
 "metadata": {
  "kernelspec": {
   "display_name": "Python 3 (ipykernel)",
   "language": "python",
   "name": "python3"
  },
  "language_info": {
   "codemirror_mode": {
    "name": "ipython",
    "version": 3
   },
   "file_extension": ".py",
   "mimetype": "text/x-python",
   "name": "python",
   "nbconvert_exporter": "python",
   "pygments_lexer": "ipython3",
   "version": "3.11.7"
  }
 },
 "nbformat": 4,
 "nbformat_minor": 5
}
