{
 "cells": [
  {
   "cell_type": "markdown",
   "id": "32b7b63c-df19-4025-be0b-920723b9c87e",
   "metadata": {},
   "source": [
    "# 第二章 变量和简单的数据类型"
   ]
  },
  {
   "cell_type": "code",
   "execution_count": 1,
   "id": "704576ef-632f-4197-bbb8-539230597737",
   "metadata": {},
   "outputs": [
    {
     "name": "stdout",
     "output_type": "stream",
     "text": [
      "Hello Python World!\n"
     ]
    }
   ],
   "source": [
    "print(\"Hello Python World!\")"
   ]
  },
  {
   "cell_type": "markdown",
   "id": "abe7d38e-4b4c-4541-b900-f7b2ddb9674b",
   "metadata": {},
   "source": [
    "## 2.2变量"
   ]
  },
  {
   "cell_type": "code",
   "execution_count": 1,
   "id": "46eca74b-c148-4511-b321-643a0a7238ff",
   "metadata": {},
   "outputs": [
    {
     "name": "stdout",
     "output_type": "stream",
     "text": [
      "Hello Python World!\n"
     ]
    }
   ],
   "source": [
    "message=\"Hello Python World!\"\n",
    "print(message)"
   ]
  },
  {
   "cell_type": "code",
   "execution_count": 3,
   "id": "349796f9-dd33-40b9-9f1c-9451e6187b50",
   "metadata": {},
   "outputs": [
    {
     "name": "stdout",
     "output_type": "stream",
     "text": [
      "Hello Python World!\n",
      "Hello Python Crash Course World!\n"
     ]
    }
   ],
   "source": [
    "message=\"Hello Python World!\"\n",
    "print(message)\n",
    "message=\"Hello Python Crash Course World!\"\n",
    "print(message)"
   ]
  },
  {
   "cell_type": "markdown",
   "id": "bfd8c6bf-7675-43c8-8857-44fd946318fe",
   "metadata": {},
   "source": [
    "### 动手试一试"
   ]
  },
  {
   "cell_type": "code",
   "execution_count": 1,
   "id": "862b1f32-a6df-4f63-8258-fbff6f3a4edf",
   "metadata": {},
   "outputs": [
    {
     "name": "stdout",
     "output_type": "stream",
     "text": [
      "I like sunny days.\n"
     ]
    }
   ],
   "source": [
    "message=\"I like sunny days.\"\n",
    "print(message)"
   ]
  },
  {
   "cell_type": "code",
   "execution_count": 2,
   "id": "e0ea70da-1eb1-4976-bf14-57bd4ec81835",
   "metadata": {},
   "outputs": [
    {
     "name": "stdout",
     "output_type": "stream",
     "text": [
      "I like sunny days.\n",
      "I like jogging in sunny days.\n"
     ]
    }
   ],
   "source": [
    "message=\"I like sunny days.\"\n",
    "print(message)\n",
    "message=\"I like jogging in sunny days.\"\n",
    "print(message)"
   ]
  },
  {
   "cell_type": "markdown",
   "id": "1f3bbcba-0cb4-4d00-9098-f9bc16967775",
   "metadata": {},
   "source": [
    "## 2.3字符串"
   ]
  },
  {
   "cell_type": "code",
   "execution_count": 4,
   "id": "b2a2ea36-4c24-4908-9dcb-ad68606ef710",
   "metadata": {},
   "outputs": [
    {
     "name": "stdout",
     "output_type": "stream",
     "text": [
      "Ada Lovelace\n"
     ]
    }
   ],
   "source": [
    "name=\"ada lovelace\"\n",
    "print(name.title())"
   ]
  },
  {
   "cell_type": "code",
   "execution_count": 5,
   "id": "fdb56f80-8cf3-411a-81c8-b45802e2a4ef",
   "metadata": {},
   "outputs": [
    {
     "name": "stdout",
     "output_type": "stream",
     "text": [
      "ADA LOVELACE\n",
      "ada lovelace\n"
     ]
    }
   ],
   "source": [
    "name=\"Ada Lovelace\"\n",
    "print(name.upper())\n",
    "print(name.lower())"
   ]
  },
  {
   "cell_type": "code",
   "execution_count": 7,
   "id": "7d813e26-f61c-4505-9c80-1693c16201d4",
   "metadata": {},
   "outputs": [
    {
     "name": "stdout",
     "output_type": "stream",
     "text": [
      "ada lovelace\n"
     ]
    }
   ],
   "source": [
    "first_name=\"ada\"\n",
    "last_name=\"lovelace\"\n",
    "full_name=f\"{first_name} {last_name}\"\n",
    "print(full_name)"
   ]
  },
  {
   "cell_type": "code",
   "execution_count": 9,
   "id": "447d2f47-475a-4f8a-a28c-8262be746f66",
   "metadata": {},
   "outputs": [
    {
     "name": "stdout",
     "output_type": "stream",
     "text": [
      "Hello, Ada Lovelace!\n"
     ]
    }
   ],
   "source": [
    "first_name=\"ada\"\n",
    "last_name=\"lovelace\"\n",
    "full_name=f\"{first_name} {last_name}\"\n",
    "print(f\"Hello, {full_name.title()}!\")"
   ]
  },
  {
   "cell_type": "code",
   "execution_count": 1,
   "id": "0a287617-92ae-4c1b-9df0-059a616199c8",
   "metadata": {},
   "outputs": [
    {
     "name": "stdout",
     "output_type": "stream",
     "text": [
      "Hello, Ada Lovelace!\n"
     ]
    }
   ],
   "source": [
    "first_name=\"ada\"\n",
    "last_name=\"lovelace\"\n",
    "full_name=f\"{first_name} {last_name}\"\n",
    "message=f\"Hello, {full_name.title()}!\"\n",
    "print(message)"
   ]
  },
  {
   "cell_type": "code",
   "execution_count": 3,
   "id": "46e906b2-9fe8-480b-b0f8-62ea45805a95",
   "metadata": {},
   "outputs": [
    {
     "name": "stdout",
     "output_type": "stream",
     "text": [
      "Python\n",
      "\tPython\n"
     ]
    }
   ],
   "source": [
    "print(\"Python\")\n",
    "print(\"\\tPython\")"
   ]
  },
  {
   "cell_type": "code",
   "execution_count": 5,
   "id": "bdc1e7e3-dfdb-4d92-ae95-bcc9146d725c",
   "metadata": {},
   "outputs": [
    {
     "name": "stdout",
     "output_type": "stream",
     "text": [
      "Languages:\n",
      "Python\n",
      "C\n",
      "JavaScript\n"
     ]
    }
   ],
   "source": [
    "print(\"Languages:\\nPython\\nC\\nJavaScript\")"
   ]
  },
  {
   "cell_type": "code",
   "execution_count": 6,
   "id": "29ca676c-ba76-4aab-9474-3f1b9b882ab5",
   "metadata": {},
   "outputs": [
    {
     "name": "stdout",
     "output_type": "stream",
     "text": [
      "Languages:\n",
      "\tPython\n",
      "\tC\n",
      "\tJavaScript\n"
     ]
    }
   ],
   "source": [
    "print(\"Languages:\\n\\tPython\\n\\tC\\n\\tJavaScript\")"
   ]
  },
  {
   "cell_type": "code",
   "execution_count": 13,
   "id": "073edbcc-aca1-41c7-87a7-df2630cb5feb",
   "metadata": {},
   "outputs": [
    {
     "data": {
      "text/plain": [
       "'python '"
      ]
     },
     "execution_count": 13,
     "metadata": {},
     "output_type": "execute_result"
    }
   ],
   "source": [
    "favorite_language='python '\n",
    "favorite_language\n",
    "favorite_language.rstrip()\n",
    "favorite_language"
   ]
  },
  {
   "cell_type": "code",
   "execution_count": 14,
   "id": "ca04d3a8-1c95-4942-8dc0-ec2d09f4f3b2",
   "metadata": {},
   "outputs": [
    {
     "data": {
      "text/plain": [
       "'python'"
      ]
     },
     "execution_count": 14,
     "metadata": {},
     "output_type": "execute_result"
    }
   ],
   "source": [
    "favorite_language='python '\n",
    "favorite_language=favorite_language.rstrip()\n",
    "favorite_language"
   ]
  },
  {
   "cell_type": "code",
   "execution_count": 18,
   "id": "b80694d6-8ecb-4fef-999c-a2075fdbff0b",
   "metadata": {},
   "outputs": [
    {
     "data": {
      "text/plain": [
       "'python'"
      ]
     },
     "execution_count": 18,
     "metadata": {},
     "output_type": "execute_result"
    }
   ],
   "source": [
    "favorite_language=' python '\n",
    "favorite_language.rstrip()\n",
    "favorite_language.lstrip()\n",
    "favorite_language.strip()"
   ]
  },
  {
   "cell_type": "code",
   "execution_count": 3,
   "id": "1741af16-a68a-4361-a79c-5b697f6ae8f1",
   "metadata": {},
   "outputs": [
    {
     "data": {
      "text/plain": [
       "'nostarch.com'"
      ]
     },
     "execution_count": 3,
     "metadata": {},
     "output_type": "execute_result"
    }
   ],
   "source": [
    "nostarch_url='https://nostarch.com'\n",
    "nostarch_url.removeprefix('https://')"
   ]
  },
  {
   "cell_type": "code",
   "execution_count": 4,
   "id": "3c7a8c1a-d670-4b91-a40a-a7d2be7af312",
   "metadata": {},
   "outputs": [
    {
     "name": "stdout",
     "output_type": "stream",
     "text": [
      "One of Python's strengths is its diverse community.\n"
     ]
    }
   ],
   "source": [
    "message=\"One of Python's strengths is its diverse community.\"\n",
    "print(message)"
   ]
  },
  {
   "cell_type": "markdown",
   "id": "1d1b1022-a06a-4bbb-acc4-f0fdccb1b4e8",
   "metadata": {},
   "source": [
    "### 动手试一试"
   ]
  },
  {
   "cell_type": "code",
   "execution_count": 6,
   "id": "4e8a8b90-743c-49a1-a0cd-5c355a450f26",
   "metadata": {},
   "outputs": [
    {
     "name": "stdout",
     "output_type": "stream",
     "text": [
      "Hi Sam, glad to see you.\n"
     ]
    }
   ],
   "source": [
    "name=\"Sam\"\n",
    "message=f\"Hi {name}, glad to see you.\"\n",
    "print(message)"
   ]
  },
  {
   "cell_type": "code",
   "execution_count": 7,
   "id": "2625a57e-8b3e-4b2f-b4b2-374a152f5f24",
   "metadata": {},
   "outputs": [
    {
     "name": "stdout",
     "output_type": "stream",
     "text": [
      "SAM\n",
      "sam\n",
      "Sam\n"
     ]
    }
   ],
   "source": [
    "name=\"sam\"\n",
    "print(name.upper())\n",
    "print(name.lower())\n",
    "print(name.title())"
   ]
  },
  {
   "cell_type": "code",
   "execution_count": 8,
   "id": "2340f25f-6b64-440d-9775-d506e3208eba",
   "metadata": {},
   "outputs": [
    {
     "name": "stdout",
     "output_type": "stream",
     "text": [
      "Oscar Wilde once said,\"The supereme object of life is to live.\"\n"
     ]
    }
   ],
   "source": [
    "print('Oscar Wilde once said,\"The supereme object of life is to live.\"')"
   ]
  },
  {
   "cell_type": "code",
   "execution_count": 10,
   "id": "346ea912-577b-47ed-b412-f1243aaf7427",
   "metadata": {},
   "outputs": [
    {
     "name": "stdout",
     "output_type": "stream",
     "text": [
      "Oscar Wilde once said, \"The supereme object of life is to live.\"\n"
     ]
    }
   ],
   "source": [
    "famous_person=\"Oscar Wilde\"\n",
    "message=f'{famous_person} once said, \"The supereme object of life is to live.\"'\n",
    "print(message)"
   ]
  },
  {
   "cell_type": "code",
   "execution_count": 18,
   "id": "377074eb-9e52-439e-8fab-b62d318ae6ae",
   "metadata": {},
   "outputs": [
    {
     "name": "stdout",
     "output_type": "stream",
     "text": [
      "\tHi, \n",
      "Albert \n",
      "\tHi, \n",
      "Albert\n",
      "Hi, \n",
      "Albert\n",
      "Hi, \n",
      "Albert \n"
     ]
    }
   ],
   "source": [
    "print(\"\\tHi, \\nAlbert \")\n",
    "name=\"\\tHi, \\nAlbert \"\n",
    "print(name.rstrip())\n",
    "print(name.strip())\n",
    "print(name.lstrip())"
   ]
  },
  {
   "cell_type": "markdown",
   "id": "b96fecaf-1388-4271-a5ce-c6d61ff1b236",
   "metadata": {},
   "source": [
    "## 2.4数"
   ]
  },
  {
   "cell_type": "code",
   "execution_count": 24,
   "id": "81bd69fe-4725-4caa-9a44-54e74fde6875",
   "metadata": {},
   "outputs": [
    {
     "data": {
      "text/plain": [
       "1.5"
      ]
     },
     "execution_count": 24,
     "metadata": {},
     "output_type": "execute_result"
    }
   ],
   "source": [
    "2+3\n",
    "3-2\n",
    "2*3\n",
    "3/2"
   ]
  },
  {
   "cell_type": "code",
   "execution_count": 27,
   "id": "af2190c2-c143-448d-8adb-c85ae5fe50b6",
   "metadata": {},
   "outputs": [
    {
     "data": {
      "text/plain": [
       "1000000"
      ]
     },
     "execution_count": 27,
     "metadata": {},
     "output_type": "execute_result"
    }
   ],
   "source": [
    "3**2\n",
    "3**3\n",
    "10**6"
   ]
  },
  {
   "cell_type": "code",
   "execution_count": 29,
   "id": "cab2d65e-8a48-4021-93ab-2452f50d5e8b",
   "metadata": {},
   "outputs": [
    {
     "data": {
      "text/plain": [
       "20"
      ]
     },
     "execution_count": 29,
     "metadata": {},
     "output_type": "execute_result"
    }
   ],
   "source": [
    "2+3*4\n",
    "(2+3)*4"
   ]
  },
  {
   "cell_type": "code",
   "execution_count": 31,
   "id": "207128e0-535b-43b1-b563-d56e9af8f7b1",
   "metadata": {},
   "outputs": [
    {
     "data": {
      "text/plain": [
       "0.4"
      ]
     },
     "execution_count": 31,
     "metadata": {},
     "output_type": "execute_result"
    }
   ],
   "source": [
    "0.1+0.1\n",
    "0.2+0.2\n",
    "2*0.2"
   ]
  },
  {
   "cell_type": "code",
   "execution_count": 5,
   "id": "2decadb8-0c1c-4e1d-8e08-b2e69fb0bcdd",
   "metadata": {},
   "outputs": [
    {
     "data": {
      "text/plain": [
       "0.30000000000000004"
      ]
     },
     "execution_count": 5,
     "metadata": {},
     "output_type": "execute_result"
    }
   ],
   "source": [
    "0.2+0.1"
   ]
  },
  {
   "cell_type": "code",
   "execution_count": 6,
   "id": "6026a042-a737-4891-9969-44d55363816b",
   "metadata": {},
   "outputs": [
    {
     "data": {
      "text/plain": [
       "0.30000000000000004"
      ]
     },
     "execution_count": 6,
     "metadata": {},
     "output_type": "execute_result"
    }
   ],
   "source": [
    "3*0.1"
   ]
  },
  {
   "cell_type": "code",
   "execution_count": 7,
   "id": "f9a376fb-cbf2-48b2-95a6-191b0612e6ad",
   "metadata": {},
   "outputs": [
    {
     "data": {
      "text/plain": [
       "2.0"
      ]
     },
     "execution_count": 7,
     "metadata": {},
     "output_type": "execute_result"
    }
   ],
   "source": [
    "4/2"
   ]
  },
  {
   "cell_type": "code",
   "execution_count": 8,
   "id": "915646e9-0332-4e93-8b7c-b748723b64cc",
   "metadata": {},
   "outputs": [
    {
     "data": {
      "text/plain": [
       "3.0"
      ]
     },
     "execution_count": 8,
     "metadata": {},
     "output_type": "execute_result"
    }
   ],
   "source": [
    "1+2.0"
   ]
  },
  {
   "cell_type": "code",
   "execution_count": 9,
   "id": "2bc32e27-a3e7-414e-9f8f-fb1c97b9f5ee",
   "metadata": {},
   "outputs": [
    {
     "data": {
      "text/plain": [
       "6.0"
      ]
     },
     "execution_count": 9,
     "metadata": {},
     "output_type": "execute_result"
    }
   ],
   "source": [
    "2*3.0"
   ]
  },
  {
   "cell_type": "code",
   "execution_count": 10,
   "id": "b210bc7f-edbc-4fe2-93e9-a92b6ed25cd5",
   "metadata": {},
   "outputs": [
    {
     "data": {
      "text/plain": [
       "9.0"
      ]
     },
     "execution_count": 10,
     "metadata": {},
     "output_type": "execute_result"
    }
   ],
   "source": [
    "3.0**2"
   ]
  },
  {
   "cell_type": "code",
   "execution_count": 11,
   "id": "21b823b7-a462-4134-ad37-9826c5db1a2e",
   "metadata": {},
   "outputs": [
    {
     "name": "stdout",
     "output_type": "stream",
     "text": [
      "14000000000\n"
     ]
    }
   ],
   "source": [
    "universe_age=14_000_000_000\n",
    "print(universe_age)"
   ]
  },
  {
   "cell_type": "code",
   "execution_count": 12,
   "id": "766f646b-a303-4e99-950e-4da0d1be14ad",
   "metadata": {},
   "outputs": [
    {
     "name": "stdout",
     "output_type": "stream",
     "text": [
      "3 2 1\n"
     ]
    }
   ],
   "source": [
    "x,y,z=1,2,3\n",
    "print(z,y,x)"
   ]
  },
  {
   "cell_type": "code",
   "execution_count": null,
   "id": "8ceb419b-05c4-4b32-9b64-78242d0053c1",
   "metadata": {},
   "outputs": [],
   "source": [
    "MAX_CONNECTIONS=5000"
   ]
  },
  {
   "cell_type": "code",
   "execution_count": 14,
   "id": "d87ebad0-faf3-49bf-a5f7-d297c82e1c2d",
   "metadata": {},
   "outputs": [
    {
     "name": "stdout",
     "output_type": "stream",
     "text": [
      "Hello Python people!\n"
     ]
    }
   ],
   "source": [
    "#向大家问好\n",
    "print(\"Hello Python people!\")"
   ]
  },
  {
   "cell_type": "markdown",
   "id": "7f29561c-75c9-4098-81d2-b2551ee6d084",
   "metadata": {},
   "source": [
    "### 动手试一试"
   ]
  },
  {
   "cell_type": "code",
   "execution_count": 20,
   "id": "58c5809d-ea38-43ff-b46d-96a7c5a1c8cf",
   "metadata": {},
   "outputs": [
    {
     "name": "stdout",
     "output_type": "stream",
     "text": [
      "8\n",
      "8\n",
      "8\n",
      "8.0\n"
     ]
    }
   ],
   "source": [
    "print(4+4)\n",
    "print(10-2)\n",
    "print(2*4)\n",
    "print(64/8)"
   ]
  }
 ],
 "metadata": {
  "kernelspec": {
   "display_name": "Python 3 (ipykernel)",
   "language": "python",
   "name": "python3"
  },
  "language_info": {
   "codemirror_mode": {
    "name": "ipython",
    "version": 3
   },
   "file_extension": ".py",
   "mimetype": "text/x-python",
   "name": "python",
   "nbconvert_exporter": "python",
   "pygments_lexer": "ipython3",
   "version": "3.11.7"
  }
 },
 "nbformat": 4,
 "nbformat_minor": 5
}
