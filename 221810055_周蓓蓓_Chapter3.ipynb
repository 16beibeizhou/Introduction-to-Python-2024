{
 "cells": [
  {
   "cell_type": "markdown",
   "id": "0d0b8f48-7279-4a52-bc85-0a762cd6aed2",
   "metadata": {},
   "source": [
    "# 第三章 列表简介"
   ]
  },
  {
   "cell_type": "markdown",
   "id": "a5f7bf33-5559-47d7-ad2f-5d90bbff0ffc",
   "metadata": {},
   "source": [
    "## 3.1列表是什么"
   ]
  },
  {
   "cell_type": "code",
   "execution_count": 1,
   "id": "fcea097b-8300-453e-9acb-109343885a15",
   "metadata": {},
   "outputs": [
    {
     "name": "stdout",
     "output_type": "stream",
     "text": [
      "['trek', 'cannondable', 'redline', 'specialized']\n"
     ]
    }
   ],
   "source": [
    "##列表由一系列按特定顺序排列的元素组成\n",
    "bikes=['trek','cannondable','redline','specialized']\n",
    "print(bikes)"
   ]
  },
  {
   "cell_type": "code",
   "execution_count": 2,
   "id": "3f3849e7-5cea-4d3a-9207-a83c4a226bec",
   "metadata": {},
   "outputs": [
    {
     "name": "stdout",
     "output_type": "stream",
     "text": [
      "trek cannondable specialized\n"
     ]
    }
   ],
   "source": [
    "#3.1.0如何访问列表元素\n",
    "#3.1.2索引从0开始而不是1开始\n",
    "bikes=['trek','cannondable','redline','specialized']\n",
    "print(bikes[0],bikes[1],bikes[-1])\n",
    "##-1表示最后一个元素"
   ]
  },
  {
   "cell_type": "code",
   "execution_count": 4,
   "id": "cbd0d7cf-c033-48de-8825-189ded18e40f",
   "metadata": {},
   "outputs": [
    {
     "name": "stdout",
     "output_type": "stream",
     "text": [
      "Trek\n"
     ]
    }
   ],
   "source": [
    "bikes=['trek','cannondable','redline','specialized']\n",
    "print(bikes[0].title())"
   ]
  },
  {
   "cell_type": "code",
   "execution_count": 5,
   "id": "76e38855-6928-4ebf-87e2-ab8ab8e2ab28",
   "metadata": {},
   "outputs": [
    {
     "name": "stdout",
     "output_type": "stream",
     "text": [
      "My first bike was a Trek.\n"
     ]
    }
   ],
   "source": [
    "#3.1.3使用列表中的各个值\n",
    "bikes=['trek','cannondable','redline','specialized']\n",
    "message=f\"My first bike was a {bikes[0].title()}.\"\n",
    "print(message)"
   ]
  },
  {
   "cell_type": "markdown",
   "id": "84748dfe-e489-48cd-a86f-cda24e2bc440",
   "metadata": {},
   "source": [
    "### 动手试一试"
   ]
  },
  {
   "cell_type": "code",
   "execution_count": 1,
   "id": "5486dc04-1f20-41a1-ac8c-ad9a87d015a9",
   "metadata": {},
   "outputs": [
    {
     "name": "stdout",
     "output_type": "stream",
     "text": [
      "amy\n",
      "bob\n",
      "candy\n",
      "david\n"
     ]
    }
   ],
   "source": [
    "#练习3.1姓名\n",
    "names=['amy','bob','candy','david']\n",
    "print(names[0])\n",
    "print(names[1])\n",
    "print(names[2])\n",
    "print(names[3])"
   ]
  },
  {
   "cell_type": "code",
   "execution_count": 2,
   "id": "9deaafdb-f846-4671-8646-e7e6921c1efa",
   "metadata": {},
   "outputs": [
    {
     "name": "stdout",
     "output_type": "stream",
     "text": [
      "Glad to see you here, Amy!\n",
      "Glad to see you here, Bob!\n",
      "Glad to see you here, Candy!\n",
      "Glad to see you here, David!\n"
     ]
    }
   ],
   "source": [
    "#练习3.2 问候语\n",
    "names=['amy','bob','candy','david']\n",
    "print(f\"Glad to see you here, {names[0].title()}!\")\n",
    "print(f\"Glad to see you here, {names[1].title()}!\")\n",
    "print(f\"Glad to see you here, {names[2].title()}!\")\n",
    "print(f\"Glad to see you here, {names[3].title()}!\")"
   ]
  },
  {
   "cell_type": "code",
   "execution_count": 3,
   "id": "7aeb2062-27ec-4e54-ba67-1c00cb4079ed",
   "metadata": {},
   "outputs": [
    {
     "name": "stdout",
     "output_type": "stream",
     "text": [
      "I want to buy a Honda motorcycle.\n",
      "I want to buy a Yamaha motorcycle.\n"
     ]
    }
   ],
   "source": [
    "#练习3.3 自己的列表\n",
    "motorcycles=['honda','yamaha','suzuki']\n",
    "message=f\"I want to buy a {motorcycles[0].title()} motorcycle.\"\n",
    "print(message)\n",
    "message=f\"I want to buy a {motorcycles[1].title()} motorcycle.\"\n",
    "print(message)"
   ]
  },
  {
   "cell_type": "markdown",
   "id": "31208ba5-bd0a-417b-a78c-e2296b623f9b",
   "metadata": {},
   "source": [
    "## 3.2修改、添加和删除元素"
   ]
  },
  {
   "cell_type": "code",
   "execution_count": 4,
   "id": "bc69c1b0-b766-47d1-be95-4d1d89b3662e",
   "metadata": {},
   "outputs": [
    {
     "name": "stdout",
     "output_type": "stream",
     "text": [
      "['honda', 'yamaha', 'suzuki']\n",
      "['ducati', 'yamaha', 'suzuki']\n"
     ]
    }
   ],
   "source": [
    "#3.2.1修改列表元素\n",
    "motorcycles=['honda','yamaha','suzuki']\n",
    "print(motorcycles)\n",
    "\n",
    "motorcycles[0]='ducati'\n",
    "print(motorcycles)"
   ]
  },
  {
   "cell_type": "code",
   "execution_count": 2,
   "id": "daf7a9d7-5cc6-405f-b96d-af5e8ebbb827",
   "metadata": {},
   "outputs": [
    {
     "name": "stdout",
     "output_type": "stream",
     "text": [
      "['honda', 'yamaha', 'suzuki']\n",
      "['honda', 'yamaha', 'suzuki', 'ducati']\n"
     ]
    }
   ],
   "source": [
    "#3.3.2在列表中添加元素\n",
    "##1.在列表末尾添加元素\n",
    "motorcycles=['honda','yamaha','suzuki']\n",
    "print(motorcycles)\n",
    "\n",
    "motorcycles.append('ducati')\n",
    "print(motorcycles)"
   ]
  },
  {
   "cell_type": "code",
   "execution_count": 3,
   "id": "03e7e338-e9d5-4281-a1ad-8d59ec691f35",
   "metadata": {},
   "outputs": [
    {
     "name": "stdout",
     "output_type": "stream",
     "text": [
      "['honda', 'yamaha', 'suzuki']\n"
     ]
    }
   ],
   "source": [
    "motorcycles=[]\n",
    "motorcycles.append('honda')\n",
    "motorcycles.append('yamaha')\n",
    "motorcycles.append('suzuki')\n",
    "print(motorcycles)"
   ]
  },
  {
   "cell_type": "code",
   "execution_count": 5,
   "id": "289f7442-bda5-472f-b3e3-0882ffbfc805",
   "metadata": {},
   "outputs": [
    {
     "name": "stdout",
     "output_type": "stream",
     "text": [
      "['ducati', 'honda', 'yamaha', 'suzuki']\n"
     ]
    }
   ],
   "source": [
    "motorcycles=['honda','yamaha','suzuki']\n",
    "##2.在列表中插入元素\n",
    "motorcycles.insert(0,'ducati')\n",
    "print(motorcycles)"
   ]
  },
  {
   "cell_type": "code",
   "execution_count": 6,
   "id": "f9e2210d-1017-4901-8fcb-f5ddf7262aa2",
   "metadata": {},
   "outputs": [
    {
     "name": "stdout",
     "output_type": "stream",
     "text": [
      "['honda', 'yamaha', 'suzuki']\n",
      "['yamaha', 'suzuki']\n"
     ]
    }
   ],
   "source": [
    "#3.2.3从列表中删除元素\n",
    "motorcycles=['honda','yamaha','suzuki']\n",
    "print(motorcycles)\n",
    "##1.使用del语句删除元素（如果知道要删除的元素在列表中的位置）\n",
    "del motorcycles[0]\n",
    "print(motorcycles)"
   ]
  },
  {
   "cell_type": "code",
   "execution_count": 8,
   "id": "fcbfe680-4170-442e-b697-dda71b22a20c",
   "metadata": {},
   "outputs": [
    {
     "name": "stdout",
     "output_type": "stream",
     "text": [
      "['honda', 'yamaha', 'suzuki']\n",
      "['honda', 'yamaha']\n",
      "suzuki\n"
     ]
    }
   ],
   "source": [
    "motorcycles=['honda','yamaha','suzuki']\n",
    "print(motorcycles)\n",
    "##2.使用pop（）方法删除元素（删除末尾的元素，并接着使用它）\n",
    "popped_motorcycles=motorcycles.pop()\n",
    "print(motorcycles)\n",
    "print(popped_motorcycles)"
   ]
  },
  {
   "cell_type": "code",
   "execution_count": 9,
   "id": "297ad371-7582-4b1d-8eb7-1201f12cfdf7",
   "metadata": {},
   "outputs": [
    {
     "name": "stdout",
     "output_type": "stream",
     "text": [
      "The last motorcycle I owned was a Suzuki.\n"
     ]
    }
   ],
   "source": [
    "motorcycles=['honda','yamaha','suzuki']\n",
    "\n",
    "last_owned=motorcycles.pop()\n",
    "print(f\"The last motorcycle I owned was a {last_owned.title()}.\")"
   ]
  },
  {
   "cell_type": "code",
   "execution_count": 7,
   "id": "256d159a-9ca1-41be-9a70-ce46ea9190a0",
   "metadata": {},
   "outputs": [
    {
     "name": "stdout",
     "output_type": "stream",
     "text": [
      "The first motorcycle I owned was a Honda.\n"
     ]
    }
   ],
   "source": [
    "motorcycles=['honda','yamaha','suzuki']\n",
    "##3.删除列表中任意位置的元素\n",
    "first_owned=motorcycles.pop(0)\n",
    "print(f\"The first motorcycle I owned was a {first_owned.title()}.\")"
   ]
  },
  {
   "cell_type": "code",
   "execution_count": 9,
   "id": "ff5fe181-d5db-42aa-a2dd-e8a8145f6d51",
   "metadata": {},
   "outputs": [
    {
     "name": "stdout",
     "output_type": "stream",
     "text": [
      "['honda', 'yamaha', 'suzuki', 'ducati']\n",
      "['honda', 'yamaha', 'suzuki']\n"
     ]
    }
   ],
   "source": [
    "motorcycles=['honda','yamaha','suzuki','ducati']\n",
    "print(motorcycles)\n",
    "##4.根据值删除元素\n",
    "motorcycles.remove('ducati')\n",
    "print(motorcycles)"
   ]
  },
  {
   "cell_type": "code",
   "execution_count": 14,
   "id": "8eb5238b-9e61-4bdc-9831-ea066a630836",
   "metadata": {},
   "outputs": [
    {
     "name": "stdout",
     "output_type": "stream",
     "text": [
      "['honda', 'yamaha', 'suzuki', 'ducati']\n",
      "['honda', 'yamaha', 'suzuki']\n",
      "\n",
      "A Ducati is too expensive for me.\n"
     ]
    }
   ],
   "source": [
    "motorcycles=['honda','yamaha','suzuki','ducati']\n",
    "print(motorcycles)\n",
    "\n",
    "too_expensive='ducati'\n",
    "motorcycles.remove(too_expensive)\n",
    "print(motorcycles)\n",
    "print(f\"\\nA {too_expensive.title()} is too expensive for me.\")"
   ]
  },
  {
   "cell_type": "markdown",
   "id": "e7b8ae5c-bf77-4c30-b606-0733d962547b",
   "metadata": {},
   "source": [
    "### 动手试一试"
   ]
  },
  {
   "cell_type": "code",
   "execution_count": 10,
   "id": "44f7e837-4794-489b-8358-d62eaa2eaf87",
   "metadata": {},
   "outputs": [
    {
     "name": "stdout",
     "output_type": "stream",
     "text": [
      "Would you like to come over for dinner, Amy?\n",
      "Would you like to come over for dinner, Bob?\n",
      "Would you like to come over for dinner, Candy?\n",
      "Would you like to come over for dinner, David?\n"
     ]
    }
   ],
   "source": [
    "#练习3.4嘉宾名单\n",
    "names=['amy','bob','candy','david']\n",
    "message1=f\"Would you like to come over for dinner, {names[0].title()}?\"\n",
    "message2=f\"Would you like to come over for dinner, {names[1].title()}?\"\n",
    "message3=f\"Would you like to come over for dinner, {names[2].title()}?\"\n",
    "message4=f\"Would you like to come over for dinner, {names[3].title()}?\"\n",
    "print(message1)\n",
    "print(message2)\n",
    "print(message3)\n",
    "print(message4)"
   ]
  },
  {
   "cell_type": "code",
   "execution_count": 13,
   "id": "dfbea2f8-f3c4-4918-917f-3fa4bee7ee98",
   "metadata": {},
   "outputs": [
    {
     "name": "stdout",
     "output_type": "stream",
     "text": [
      "Would you like to come over for dinner, Amy?\n",
      "Would you like to come over for dinner, Bob?\n",
      "I am sorry to know that you can't come over for dinner, Candy.\n",
      "Would you like to come over for dinner, David?\n",
      "\n",
      "Would you like to come over for dinner, Amy?\n",
      "Would you like to come over for dinner, Bob?\n",
      "Would you like to come over for dinner, Cart?\n",
      "Would you like to come over for dinner, David?\n",
      "\n",
      "We have a bigger table now!\n",
      "\n",
      "Would you like to come over for dinner, Emilly?\n",
      "Would you like to come over for dinner, Amy?\n",
      "Would you like to come over for dinner, Bob?\n",
      "Would you like to come over for dinner, Fanny?\n",
      "Would you like to come over for dinner, Cart?\n",
      "Would you like to come over for dinner, David?\n",
      "Would you like to come over for dinner, Mike?\n",
      "/nSorry, we can only invite two people.\n",
      "\n",
      "Sorry, Mike, I can't invite you to dinner.\n",
      "\n",
      "Sorry, David, I can't invite you to dinner.\n",
      "\n",
      "Sorry, Cart, I can't invite you to dinner.\n",
      "\n",
      "Sorry, Fanny, I can't invite you to dinner.\n",
      "\n",
      "Sorry, Bob, I can't invite you to dinner.\n",
      "\n",
      "Emilly, come over for dinner!\n",
      "Amy, come over for dinner!\n",
      "[]\n"
     ]
    }
   ],
   "source": [
    "#练习3.5~3.7修改嘉宾名单\n",
    "names=['amy','bob','candy','david']\n",
    "##candy 不能来参加晚餐，改邀请cart\n",
    "message1=f\"Would you like to come over for dinner, {names[0].title()}?\"\n",
    "message2=f\"Would you like to come over for dinner, {names[1].title()}?\"\n",
    "message3=f\"I am sorry to know that you can't come over for dinner, {names[2].title()}.\"\n",
    "message4=f\"Would you like to come over for dinner, {names[3].title()}?\"\n",
    "print(message1)\n",
    "print(message2)\n",
    "print(message3)\n",
    "print(message4)\n",
    "\n",
    "del(names[2])\n",
    "names.insert(2,'cart')\n",
    "message1=f\"\\nWould you like to come over for dinner, {names[0].title()}?\"\n",
    "message2=f\"Would you like to come over for dinner, {names[1].title()}?\"\n",
    "message3=f\"Would you like to come over for dinner, {names[2].title()}?\"\n",
    "message4=f\"Would you like to come over for dinner, {names[3].title()}?\"\n",
    "print(message1)\n",
    "print(message2)\n",
    "print(message3)\n",
    "print(message4)\n",
    "\n",
    "print(\"\\nWe have a bigger table now!\")\n",
    "names.insert(0,'emilly')\n",
    "names.insert(3,'fanny')\n",
    "names.append('mike')\n",
    "message1=f\"\\nWould you like to come over for dinner, {names[0].title()}?\"\n",
    "message2=f\"Would you like to come over for dinner, {names[1].title()}?\"\n",
    "message3=f\"Would you like to come over for dinner, {names[2].title()}?\"\n",
    "message4=f\"Would you like to come over for dinner, {names[3].title()}?\"\n",
    "message5=f\"Would you like to come over for dinner, {names[4].title()}?\"\n",
    "message6=f\"Would you like to come over for dinner, {names[5].title()}?\"\n",
    "message7=f\"Would you like to come over for dinner, {names[6].title()}?\"\n",
    "print(message1)\n",
    "print(message2)\n",
    "print(message3)\n",
    "print(message4)\n",
    "print(message5)\n",
    "print(message6)\n",
    "print(message7)\n",
    "\n",
    "##餐桌无法及时送达。只能邀请两位嘉宾。\n",
    "print(\"/nSorry, we can only invite two people.\")\n",
    "pity=names.pop()\n",
    "print(f\"\\nSorry, {pity.title()}, I can't invite you to dinner.\")\n",
    "pity=names.pop()\n",
    "print(f\"\\nSorry, {pity.title()}, I can't invite you to dinner.\")\n",
    "pity=names.pop()\n",
    "print(f\"\\nSorry, {pity.title()}, I can't invite you to dinner.\")\n",
    "pity=names.pop()\n",
    "print(f\"\\nSorry, {pity.title()}, I can't invite you to dinner.\")\n",
    "pity=names.pop()\n",
    "print(f\"\\nSorry, {pity.title()}, I can't invite you to dinner.\")\n",
    "\n",
    "message1=f\"\\n{names[0].title()}, come over for dinner!\"\n",
    "message2=f\"{names[1].title()}, come over for dinner!\"\n",
    "print(message1)\n",
    "print(message2)\n",
    "\n",
    "##清空名单\n",
    "del(names[0])\n",
    "del(names[0])\n",
    "print(names)"
   ]
  },
  {
   "cell_type": "markdown",
   "id": "7a383570-0ffc-4f91-b5df-62dad1e3fd37",
   "metadata": {},
   "source": [
    "## 3.3管理列表"
   ]
  },
  {
   "cell_type": "code",
   "execution_count": 14,
   "id": "19f32998-c0d3-4815-bc1c-389d36f17b80",
   "metadata": {},
   "outputs": [
    {
     "name": "stdout",
     "output_type": "stream",
     "text": [
      "['audi', 'bmw', 'subaru', 'toyota']\n"
     ]
    }
   ],
   "source": [
    "#3。3.1使用sort()方法对列表进行永久排序\n",
    "cars=['bmw','audi','toyota','subaru']\n",
    "cars.sort()\n",
    "print(cars)"
   ]
  },
  {
   "cell_type": "code",
   "execution_count": 16,
   "id": "4610716d-bab9-43a7-9cd7-c4ae81b66dd7",
   "metadata": {},
   "outputs": [
    {
     "name": "stdout",
     "output_type": "stream",
     "text": [
      "['toyota', 'subaru', 'bmw', 'audi']\n"
     ]
    }
   ],
   "source": [
    "cars=['bmw','audi','toyota','subaru']\n",
    "cars.sort(reverse=True)\n",
    "print(cars)"
   ]
  },
  {
   "cell_type": "code",
   "execution_count": 15,
   "id": "e9c153e8-2afa-403c-9321-94968a584329",
   "metadata": {},
   "outputs": [
    {
     "name": "stdout",
     "output_type": "stream",
     "text": [
      "Here is the original list:\n",
      "['bmw', 'audi', 'toyota', 'subaru']\n",
      "\n",
      "Here is the sorted list:\n",
      "['audi', 'bmw', 'subaru', 'toyota']\n",
      "Here is the original list:\n",
      "['bmw', 'audi', 'toyota', 'subaru']\n"
     ]
    }
   ],
   "source": [
    "#3.3.2使用sorted函数对列表进行临时排序\n",
    "cars=['bmw','audi','toyota','subaru']\n",
    "\n",
    "print(\"Here is the original list:\")\n",
    "print(cars)\n",
    "\n",
    "print(\"\\nHere is the sorted list:\")\n",
    "print(sorted(cars))\n",
    "\n",
    "print(\"Here is the original list:\")\n",
    "print(cars)"
   ]
  },
  {
   "cell_type": "code",
   "execution_count": 16,
   "id": "73636892-88d1-4944-992d-e9d85f80b00c",
   "metadata": {},
   "outputs": [
    {
     "name": "stdout",
     "output_type": "stream",
     "text": [
      "['bmw', 'audi', 'toyota', 'subaru']\n",
      "['subaru', 'toyota', 'audi', 'bmw']\n"
     ]
    }
   ],
   "source": [
    "#3.3.3反向打印列表\n",
    "cars=['bmw','audi','toyota','subaru']\n",
    "print(cars)\n",
    "cars.reverse()\n",
    "print(cars)"
   ]
  },
  {
   "cell_type": "code",
   "execution_count": 17,
   "id": "32af96be-e138-4767-bc55-b7f5339e3c66",
   "metadata": {},
   "outputs": [
    {
     "data": {
      "text/plain": [
       "4"
      ]
     },
     "execution_count": 17,
     "metadata": {},
     "output_type": "execute_result"
    }
   ],
   "source": [
    "#3.3.4确定列表的长度\n",
    "cars=['bmw','audi','toyota','subaru']\n",
    "len(cars)"
   ]
  },
  {
   "cell_type": "markdown",
   "id": "82d57567-44c7-4ff4-86b1-a68b42e1f5fb",
   "metadata": {},
   "source": [
    "### 动手试一试"
   ]
  },
  {
   "cell_type": "code",
   "execution_count": 18,
   "id": "7b023226-4668-40c3-a85c-920eefcc0739",
   "metadata": {},
   "outputs": [
    {
     "name": "stdout",
     "output_type": "stream",
     "text": [
      "Original list:\n",
      "['shanghai', 'beijing', 'hangzhou', 'lijiang', 'kelamayi']\n",
      "\n",
      "字母顺序：\n",
      "['beijing', 'hangzhou', 'kelamayi', 'lijiang', 'shanghai']\n",
      "\n",
      "Original list:\n",
      "['shanghai', 'beijing', 'hangzhou', 'lijiang', 'kelamayi']\n",
      "\n",
      "字母反向：\n",
      "['shanghai', 'lijiang', 'kelamayi', 'hangzhou', 'beijing']\n",
      "\n",
      "Original list:\n",
      "['shanghai', 'beijing', 'hangzhou', 'lijiang', 'kelamayi']\n",
      "\n",
      "字母顺序更改:\n",
      "['beijing', 'hangzhou', 'kelamayi', 'lijiang', 'shanghai']\n",
      "\n",
      "字母反向更改:\n",
      "['shanghai', 'lijiang', 'kelamayi', 'hangzhou', 'beijing']\n"
     ]
    }
   ],
   "source": [
    "#练习3.8 放眼世界\n",
    "places=['shanghai','beijing','hangzhou','lijiang','kelamayi']\n",
    "print(\"Original list:\")\n",
    "print(places)\n",
    "\n",
    "print(\"\\n字母顺序：\")\n",
    "print(sorted(places))\n",
    "\n",
    "print(\"\\nOriginal list:\")\n",
    "print(places)\n",
    "\n",
    "print(\"\\n字母反向：\")\n",
    "print(sorted(places,reverse=True))\n",
    "\n",
    "print(\"\\nOriginal list:\")\n",
    "print(places)\n",
    "\n",
    "print(\"\\n字母顺序更改:\")\n",
    "places.sort()\n",
    "print(places)\n",
    "print(\"\\n字母反向更改:\")\n",
    "places.sort(reverse=True)\n",
    "print(places)"
   ]
  },
  {
   "cell_type": "code",
   "execution_count": 19,
   "id": "d769d6ec-6f05-4312-b58e-ced32710d0c5",
   "metadata": {},
   "outputs": [
    {
     "data": {
      "text/plain": [
       "4"
      ]
     },
     "execution_count": 19,
     "metadata": {},
     "output_type": "execute_result"
    }
   ],
   "source": [
    "#练习3.9 晚餐嘉宾\n",
    "names=['amy','bob','candy','david']\n",
    "len(names)"
   ]
  },
  {
   "cell_type": "markdown",
   "id": "6a36f9bd-6788-417a-8729-7dd635b25c63",
   "metadata": {},
   "source": [
    "## 3.4使用列表时避免索引错误"
   ]
  },
  {
   "cell_type": "code",
   "execution_count": 20,
   "id": "3e9b3228-7e66-4ba1-a3d2-bd04bf39376b",
   "metadata": {},
   "outputs": [
    {
     "ename": "IndexError",
     "evalue": "list index out of range",
     "output_type": "error",
     "traceback": [
      "\u001b[1;31m---------------------------------------------------------------------------\u001b[0m",
      "\u001b[1;31mIndexError\u001b[0m                                Traceback (most recent call last)",
      "Cell \u001b[1;32mIn[20], line 2\u001b[0m\n\u001b[0;32m      1\u001b[0m motorcycles\u001b[38;5;241m=\u001b[39m[\u001b[38;5;124m'\u001b[39m\u001b[38;5;124mhonda\u001b[39m\u001b[38;5;124m'\u001b[39m,\u001b[38;5;124m'\u001b[39m\u001b[38;5;124myamaha\u001b[39m\u001b[38;5;124m'\u001b[39m,\u001b[38;5;124m'\u001b[39m\u001b[38;5;124msuzuki\u001b[39m\u001b[38;5;124m'\u001b[39m]\n\u001b[1;32m----> 2\u001b[0m \u001b[38;5;28mprint\u001b[39m(motorcycles[\u001b[38;5;241m3\u001b[39m])\n",
      "\u001b[1;31mIndexError\u001b[0m: list index out of range"
     ]
    }
   ],
   "source": [
    "motorcycles=['honda','yamaha','suzuki']\n",
    "print(motorcycles[3])"
   ]
  },
  {
   "cell_type": "code",
   "execution_count": 21,
   "id": "b26bf321-a1d8-421c-9928-194fc3e2df99",
   "metadata": {},
   "outputs": [
    {
     "name": "stdout",
     "output_type": "stream",
     "text": [
      "suzuki\n"
     ]
    }
   ],
   "source": [
    "motorcycles=['honda','yamaha','suzuki']\n",
    "print(motorcycles[-1])"
   ]
  },
  {
   "cell_type": "code",
   "execution_count": 22,
   "id": "8e45349a-53f4-462f-bdad-1fb949998cdd",
   "metadata": {},
   "outputs": [
    {
     "ename": "IndexError",
     "evalue": "list index out of range",
     "output_type": "error",
     "traceback": [
      "\u001b[1;31m---------------------------------------------------------------------------\u001b[0m",
      "\u001b[1;31mIndexError\u001b[0m                                Traceback (most recent call last)",
      "Cell \u001b[1;32mIn[22], line 2\u001b[0m\n\u001b[0;32m      1\u001b[0m motorcycles\u001b[38;5;241m=\u001b[39m[]\n\u001b[1;32m----> 2\u001b[0m \u001b[38;5;28mprint\u001b[39m(motorcycles[\u001b[38;5;241m-\u001b[39m\u001b[38;5;241m1\u001b[39m])\n",
      "\u001b[1;31mIndexError\u001b[0m: list index out of range"
     ]
    }
   ],
   "source": [
    "motorcycles=[]\n",
    "print(motorcycles[-1])"
   ]
  },
  {
   "cell_type": "code",
   "execution_count": null,
   "id": "57fa96a3-98a4-49b0-8313-d3be090be3ff",
   "metadata": {},
   "outputs": [],
   "source": []
  }
 ],
 "metadata": {
  "kernelspec": {
   "display_name": "Python 3 (ipykernel)",
   "language": "python",
   "name": "python3"
  },
  "language_info": {
   "codemirror_mode": {
    "name": "ipython",
    "version": 3
   },
   "file_extension": ".py",
   "mimetype": "text/x-python",
   "name": "python",
   "nbconvert_exporter": "python",
   "pygments_lexer": "ipython3",
   "version": "3.11.7"
  }
 },
 "nbformat": 4,
 "nbformat_minor": 5
}
