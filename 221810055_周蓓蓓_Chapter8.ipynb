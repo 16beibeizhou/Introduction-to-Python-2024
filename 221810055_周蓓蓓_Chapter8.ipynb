{
 "cells": [
  {
   "cell_type": "markdown",
   "id": "e524b2c8-9372-40c8-bd91-0401bf3888ae",
   "metadata": {},
   "source": [
    "# 函数"
   ]
  },
  {
   "cell_type": "markdown",
   "id": "5823b43a-f4d5-48e9-988d-3d46d8c0982e",
   "metadata": {},
   "source": [
    "# 8.1 定义函数"
   ]
  },
  {
   "cell_type": "code",
   "execution_count": 1,
   "id": "6f916f82-b58e-4edc-a45d-53faad4f8256",
   "metadata": {},
   "outputs": [
    {
     "name": "stdout",
     "output_type": "stream",
     "text": [
      "Hello!\n"
     ]
    }
   ],
   "source": [
    "def greet_user():\n",
    "    \"\"\"显示简单的问候语\"\"\"\n",
    "    print(\"Hello!\")\n",
    "greet_user()"
   ]
  },
  {
   "cell_type": "markdown",
   "id": "80bbfcdb-a1fb-4a7d-8eb6-8aed052e4317",
   "metadata": {},
   "source": [
    "### 8.1.1向函数传递信息"
   ]
  },
  {
   "cell_type": "code",
   "execution_count": 4,
   "id": "f61ef397-215d-4024-adb0-12693d785c9c",
   "metadata": {},
   "outputs": [
    {
     "name": "stdout",
     "output_type": "stream",
     "text": [
      "Hello,Jeese!\n"
     ]
    }
   ],
   "source": [
    "# 8.1.1向函数传递信息\n",
    "def greet_user(username):\n",
    "    \"\"\"显示简单的问候语\"\"\"\n",
    "    print(f\"Hello,{username.title()}!\")\n",
    "greet_user('jeese')\n",
    "##其中，变量username是一个形参，即函数完成工作所需的信息。值jesse是一个实参，即在调用函数时传递给函数的信息。"
   ]
  },
  {
   "cell_type": "markdown",
   "id": "292589e9-d290-46e0-9841-a8f67b9fc7f7",
   "metadata": {},
   "source": [
    "### 动手试一试"
   ]
  },
  {
   "cell_type": "code",
   "execution_count": 7,
   "id": "56b4a283-5a3b-4644-9010-b6f3d2f4da88",
   "metadata": {},
   "outputs": [
    {
     "name": "stdout",
     "output_type": "stream",
     "text": [
      "The topic of this chapter is Function.\n"
     ]
    }
   ],
   "source": [
    "#练习8.1\n",
    "def display_message(topic):\n",
    "    print(f\"The topic of this chapter is {topic.title()}.\")\n",
    "display_message('function')"
   ]
  },
  {
   "cell_type": "code",
   "execution_count": 11,
   "id": "dc6fa76a-e351-4942-a0a3-ad912f7d39ed",
   "metadata": {},
   "outputs": [
    {
     "name": "stdout",
     "output_type": "stream",
     "text": [
      "One of my favorite books is Alice in Wonderland.\n"
     ]
    }
   ],
   "source": [
    "#练习8.2\n",
    "def favorite_book(title):\n",
    "    print(f\"One of my favorite books is {title}.\")\n",
    "favorite_book('Alice in Wonderland')"
   ]
  },
  {
   "cell_type": "markdown",
   "id": "47ac51c7-81e6-4ede-a4e7-98a32082d8d3",
   "metadata": {},
   "source": [
    "## 8.2 传递实参"
   ]
  },
  {
   "cell_type": "markdown",
   "id": "6b0dcfd2-5a3d-4d17-a562-d0ef4a60d9c5",
   "metadata": {},
   "source": [
    "### 8.2.1 位置实参"
   ]
  },
  {
   "cell_type": "code",
   "execution_count": 15,
   "id": "c3ee24dd-72f7-4621-a3c1-c7f22826495c",
   "metadata": {},
   "outputs": [
    {
     "name": "stdout",
     "output_type": "stream",
     "text": [
      "\n",
      "I have a hamster.\n",
      "My hamster's name is Harry.\n",
      "\n",
      "I have a dog.\n",
      "My dog's name is Willie.\n"
     ]
    }
   ],
   "source": [
    "#8.2.1 位置实参\n",
    "##基于实参的顺序进行关联的实参成为位置实参\n",
    "def describe_pet(animal_type,pet_name):\n",
    "    \"\"\"显示宠物信息\"\"\"\n",
    "    print(f\"\\nI have a {animal_type}.\")\n",
    "    print(f\"My {animal_type}'s name is {pet_name.title()}.\")\n",
    "describe_pet('hamster','harry')\n",
    "##在这个函数中，实参'hamster'被赋予形参’animal_type'，实参'harry'被赋予形参'pet_name'\n",
    "describe_pet('dog','willie')\n",
    "##位置实参的顺序很重要，如果顺序不正确，会造成信息传递的混乱。"
   ]
  },
  {
   "cell_type": "markdown",
   "id": "98861c48-8c26-489a-b147-2795b8982c77",
   "metadata": {},
   "source": [
    "### 8.2.2 关键字实参"
   ]
  },
  {
   "cell_type": "code",
   "execution_count": 16,
   "id": "8a9d803d-7042-4909-81d3-93067fc60c0e",
   "metadata": {},
   "outputs": [
    {
     "name": "stdout",
     "output_type": "stream",
     "text": [
      "\n",
      "I have a hamster.\n",
      "My hamster's name is Harry.\n"
     ]
    }
   ],
   "source": [
    "#8.2.2 关键字实参\n",
    "## 关键字实参是传递给函数的名值对\n",
    "def describe_pet(animal_type,pet_name):\n",
    "    \"\"\"显示宠物信息\"\"\"\n",
    "    print(f\"\\nI have a {animal_type}.\")\n",
    "    print(f\"My {animal_type}'s name is {pet_name.title()}.\")\n",
    "describe_pet(animal_type='hamster', pet_name='harry')\n",
    "##关键字实参位置无关紧要，因为已经明确对应起来了"
   ]
  },
  {
   "cell_type": "code",
   "execution_count": 18,
   "id": "9d5635b4-18fd-4f84-8acd-3fd2f2cf95a3",
   "metadata": {},
   "outputs": [
    {
     "name": "stdout",
     "output_type": "stream",
     "text": [
      "\n",
      "I have a dog.\n",
      "My dog's name is Willie.\n",
      "\n",
      "I have a hamster.\n",
      "My hamster's name is Harry.\n"
     ]
    }
   ],
   "source": [
    "#8.2.3 默认值\n",
    "## 可以给每个形参设定默认值\n",
    "def describe_pet(pet_name,animal_type='dog'):\n",
    "##因为给animal_type指定了默认值，所以函数调用之包含一个实参pet_name.Python仍将这个实参视为位置形参，因而要将其放在开头\n",
    "##（即形参列表中，先列无默认值的形参，再列有默认值的）\n",
    "    \"\"\"显示宠物信息\"\"\"\n",
    "    print(f\"\\nI have a {animal_type}.\")\n",
    "    print(f\"My {animal_type}'s name is {pet_name.title()}.\")\n",
    "describe_pet(pet_name='willie')\n",
    "\n",
    "describe_pet(animal_type='hamster', pet_name='harry')"
   ]
  },
  {
   "cell_type": "markdown",
   "id": "36d0e7ec-ac9b-495e-bfdb-547bcda13668",
   "metadata": {},
   "source": [
    "### 8.2.4 等效的函数调用"
   ]
  },
  {
   "cell_type": "code",
   "execution_count": 21,
   "id": "37071ea7-46c6-4163-94bc-e7c1de0f1e04",
   "metadata": {},
   "outputs": [
    {
     "name": "stdout",
     "output_type": "stream",
     "text": [
      "\n",
      "I have a dog.\n",
      "My dog's name is Willie.\n",
      "\n",
      "I have a dog.\n",
      "My dog's name is Willie.\n",
      "\n",
      "I have a hamster.\n",
      "My hamster's name is Harry.\n",
      "\n",
      "I have a hamster.\n",
      "My hamster's name is Harry.\n",
      "\n",
      "I have a hamster.\n",
      "My hamster's name is Harry.\n"
     ]
    }
   ],
   "source": [
    "#8.2.4 等效的函数调用\n",
    "def describe_pet(pet_name,animal_type='dog'):\n",
    "    print(f\"\\nI have a {animal_type}.\")\n",
    "    print(f\"My {animal_type}'s name is {pet_name.title()}.\")\n",
    "##一条名为Wille的小狗\n",
    "describe_pet('willie')\n",
    "describe_pet(pet_name='willie')\n",
    "##一直名为Harry的仓鼠\n",
    "describe_pet('harry','hamster')\n",
    "describe_pet(pet_name='harry', animal_type='hamster')\n",
    "describe_pet(animal_type='hamster', pet_name='harry')"
   ]
  },
  {
   "cell_type": "markdown",
   "id": "8bdcb688-cbe2-45c3-9dad-c71d2c49c831",
   "metadata": {},
   "source": [
    "### 8.2.5 避免实参错误"
   ]
  },
  {
   "cell_type": "code",
   "execution_count": 22,
   "id": "ca61b7d9-d5a2-434e-84ba-bdd2023fabfe",
   "metadata": {},
   "outputs": [
    {
     "ename": "TypeError",
     "evalue": "describe_pet() missing 2 required positional arguments: 'animal_type' and 'pet_name'",
     "output_type": "error",
     "traceback": [
      "\u001b[1;31m---------------------------------------------------------------------------\u001b[0m",
      "\u001b[1;31mTypeError\u001b[0m                                 Traceback (most recent call last)",
      "Cell \u001b[1;32mIn[22], line 6\u001b[0m\n\u001b[0;32m      4\u001b[0m     \u001b[38;5;28mprint\u001b[39m(\u001b[38;5;124mf\u001b[39m\u001b[38;5;124m\"\u001b[39m\u001b[38;5;130;01m\\n\u001b[39;00m\u001b[38;5;124mI have a \u001b[39m\u001b[38;5;132;01m{\u001b[39;00manimal_type\u001b[38;5;132;01m}\u001b[39;00m\u001b[38;5;124m.\u001b[39m\u001b[38;5;124m\"\u001b[39m)\n\u001b[0;32m      5\u001b[0m     \u001b[38;5;28mprint\u001b[39m(\u001b[38;5;124mf\u001b[39m\u001b[38;5;124m\"\u001b[39m\u001b[38;5;124mMy \u001b[39m\u001b[38;5;132;01m{\u001b[39;00manimal_type\u001b[38;5;132;01m}\u001b[39;00m\u001b[38;5;124m'\u001b[39m\u001b[38;5;124ms name is \u001b[39m\u001b[38;5;132;01m{\u001b[39;00mpet_name\u001b[38;5;241m.\u001b[39mtitle()\u001b[38;5;132;01m}\u001b[39;00m\u001b[38;5;124m.\u001b[39m\u001b[38;5;124m\"\u001b[39m)\n\u001b[1;32m----> 6\u001b[0m describe_pet()\n",
      "\u001b[1;31mTypeError\u001b[0m: describe_pet() missing 2 required positional arguments: 'animal_type' and 'pet_name'"
     ]
    }
   ],
   "source": [
    "#8.2.5 避免实参错误\n",
    "def describe_pet(animal_type,pet_name):\n",
    "    \"\"\"显示宠物信息\"\"\"\n",
    "    print(f\"\\nI have a {animal_type}.\")\n",
    "    print(f\"My {animal_type}'s name is {pet_name.title()}.\")\n",
    "describe_pet()"
   ]
  },
  {
   "cell_type": "markdown",
   "id": "6086e9f5-b91e-4050-b1f1-f5d7d0f58b0e",
   "metadata": {},
   "source": [
    "### 动手试一试"
   ]
  },
  {
   "cell_type": "code",
   "execution_count": 24,
   "id": "aa48ec93-b4f8-485c-b7a4-d37921e291b7",
   "metadata": {},
   "outputs": [
    {
     "name": "stdout",
     "output_type": "stream",
     "text": [
      "A large T-shirt is to be made.\n",
      "The message on it will be: \"Hello World.\"\n",
      "A small T-shirt is to be made.\n",
      "The message on it will be: \"I LOVE YOU!\"\n"
     ]
    }
   ],
   "source": [
    "#练习8.3\n",
    "def make_shirt(size,message):\n",
    "    \"\"\"说明衬衫的尺码和印的文字\"\"\"\n",
    "    print(f\"A {size} T-shirt is to be made.\")\n",
    "    print(f'The message on it will be: \"{message}\"')\n",
    "make_shirt('large','Hello World.')\n",
    "make_shirt(message='I LOVE YOU!',size='small')"
   ]
  },
  {
   "cell_type": "code",
   "execution_count": 25,
   "id": "884e0917-5d2d-420b-add2-239621c7ee8d",
   "metadata": {},
   "outputs": [
    {
     "name": "stdout",
     "output_type": "stream",
     "text": [
      "A large T-shirt is to be made.\n",
      "The message on it will be: \"I love Python!\"\n",
      "A medium T-shirt is to be made.\n",
      "The message on it will be: \"I love Python!\"\n",
      "A small T-shirt is to be made.\n",
      "The message on it will be: \"I LOVE YOU!\"\n"
     ]
    }
   ],
   "source": [
    "#练习8.4\n",
    "def make_shirt(size,message='I love Python!'):\n",
    "    \"\"\"说明衬衫的尺码和印的文字\"\"\"\n",
    "    print(f\"A {size} T-shirt is to be made.\")\n",
    "    print(f'The message on it will be: \"{message}\"')\n",
    "make_shirt('large')\n",
    "make_shirt('medium')\n",
    "make_shirt(message='I LOVE YOU!',size='small')"
   ]
  },
  {
   "cell_type": "code",
   "execution_count": 27,
   "id": "d47e97ff-602d-453e-bd63-182aad9b0fea",
   "metadata": {},
   "outputs": [
    {
     "name": "stdout",
     "output_type": "stream",
     "text": [
      "Shanghai is in China.\n"
     ]
    }
   ],
   "source": [
    "#练习8.5\n",
    "def describe_city(city,country):\n",
    "    print(f\"{city.title()} is in {country.title()}.\")\n",
    "describe_city('shanghai','china')"
   ]
  },
  {
   "cell_type": "code",
   "execution_count": 29,
   "id": "644ae52c-77ba-4db6-aca0-c1aec3403d97",
   "metadata": {},
   "outputs": [
    {
     "name": "stdout",
     "output_type": "stream",
     "text": [
      "Shanghai is in China.\n",
      "Nanjing is in China.\n",
      "London is in England.\n"
     ]
    }
   ],
   "source": [
    "#练习8.5\n",
    "def describe_city(city,country='china'):\n",
    "    print(f\"{city.title()} is in {country.title()}.\")\n",
    "describe_city('shanghai','china')\n",
    "describe_city('nanjing')\n",
    "describe_city('london','england')"
   ]
  },
  {
   "cell_type": "markdown",
   "id": "f6221d5d-33c1-4a83-9c62-ef0572c00686",
   "metadata": {},
   "source": [
    "## 8.3 返回值"
   ]
  },
  {
   "cell_type": "markdown",
   "id": "a37e7b1c-fa0f-4f6d-b50f-3de80ff03712",
   "metadata": {},
   "source": [
    "### 8.3.1 返回简单的值"
   ]
  },
  {
   "cell_type": "code",
   "execution_count": 5,
   "id": "8cf87ca8-e310-43f9-96df-d4aa80ee3ec8",
   "metadata": {},
   "outputs": [
    {
     "name": "stdout",
     "output_type": "stream",
     "text": [
      "Jimi Hendrix\n"
     ]
    }
   ],
   "source": [
    "def get_formatted_name(first_name, last_name):\n",
    "    \"\"\"返回标准格式的姓名。\"\"\"\n",
    "    full_name = f\"{first_name} {last_name}\"\n",
    "    return full_name.title()\n",
    "\n",
    "musician = get_formatted_name('jimi', 'hendrix')\n",
    "print(musician)"
   ]
  },
  {
   "cell_type": "markdown",
   "id": "f93d6fa0-e747-4490-974a-8acb037fd1ab",
   "metadata": {},
   "source": [
    "### 8.3.2 让实参变成可选的"
   ]
  },
  {
   "cell_type": "code",
   "execution_count": 6,
   "id": "07762ad0-cd19-4c58-baac-32ceac85da02",
   "metadata": {},
   "outputs": [
    {
     "name": "stdout",
     "output_type": "stream",
     "text": [
      "John Lee Hooker\n"
     ]
    }
   ],
   "source": [
    "def get_formatted_name(first_name, middle_name, last_name):\n",
    "    \"\"\"返回标准格式的姓名。\"\"\"\n",
    "    full_name = f\"{first_name} {middle_name} {last_name}\"\n",
    "    return full_name.title()\n",
    "\n",
    "musician = get_formatted_name('john', 'lee', 'hooker')\n",
    "print(musician)"
   ]
  },
  {
   "cell_type": "code",
   "execution_count": 7,
   "id": "bf61f140-84ac-47e2-b280-e1a241f91f04",
   "metadata": {},
   "outputs": [
    {
     "name": "stdout",
     "output_type": "stream",
     "text": [
      "Jimi Hendrix\n",
      "John Lee Hooker\n"
     ]
    }
   ],
   "source": [
    "def get_formatted_name(first_name, last_name, middle_name=''):\n",
    "    \"\"\"返回标准格式的姓名。\"\"\"\n",
    "    if middle_name:\n",
    "        full_name = f\"{first_name} {middle_name} {last_name}\"\n",
    "    else:\n",
    "        full_name = f\"{first_name} {last_name}\"\n",
    "    return full_name.title()\n",
    "\n",
    "musician = get_formatted_name('jimi', 'hendrix')\n",
    "print(musician)\n",
    "\n",
    "musician = get_formatted_name('john', 'hooker', 'lee')\n",
    "print(musician)"
   ]
  },
  {
   "cell_type": "markdown",
   "id": "35f1d0e5-9d18-43df-8cde-d30fbab52f74",
   "metadata": {},
   "source": [
    "### 8.3.3返回字典"
   ]
  },
  {
   "cell_type": "code",
   "execution_count": 9,
   "id": "ee5f6357-c457-4e5b-9396-25a43ffa7f28",
   "metadata": {},
   "outputs": [
    {
     "name": "stdout",
     "output_type": "stream",
     "text": [
      "{'first': 'jimi', 'last': 'hendrix'}\n"
     ]
    }
   ],
   "source": [
    "def build_person(first_name, last_name):\n",
    "    \"\"\"返回一个字典，其中包含一个人的信息。\"\"\"\n",
    "    person = {'first': first_name, 'last': last_name}\n",
    "    return person\n",
    "\n",
    "musician = build_person('jimi', 'hendrix')\n",
    "print(musician)"
   ]
  },
  {
   "cell_type": "code",
   "execution_count": 8,
   "id": "02e80b34-2b8f-4f72-89b1-14fd72217d7f",
   "metadata": {},
   "outputs": [
    {
     "name": "stdout",
     "output_type": "stream",
     "text": [
      "{'first': 'jimi', 'last': 'hendrix', 'age': 27}\n"
     ]
    }
   ],
   "source": [
    "def build_person(first_name, last_name, age=None):\n",
    "    \"\"\"返回一个字典，其中包含一个人的信息。\"\"\"\n",
    "    person = {'first': first_name, 'last': last_name}\n",
    "    if age:\n",
    "        person['age'] = age\n",
    "    return person\n",
    "\n",
    "musician = build_person('jimi', 'hendrix', age=27)\n",
    "print(musician)"
   ]
  },
  {
   "cell_type": "markdown",
   "id": "88e740ac-6993-4e6b-aead-97bf1b5c5b53",
   "metadata": {},
   "source": [
    "### 8.3.4 结合函数和while循环"
   ]
  },
  {
   "cell_type": "code",
   "execution_count": 11,
   "id": "9c4e8a93-fb82-49f0-8e57-aeecfe97c869",
   "metadata": {},
   "outputs": [
    {
     "name": "stdout",
     "output_type": "stream",
     "text": [
      "\n",
      "Please tell me your name:\n",
      "(enter 'q' at any time to quit)\n"
     ]
    },
    {
     "name": "stdin",
     "output_type": "stream",
     "text": [
      "First name:  eric\n",
      "Last name:  matthes\n"
     ]
    },
    {
     "name": "stdout",
     "output_type": "stream",
     "text": [
      "\n",
      "Hello, Eric Matthes!\n",
      "\n",
      "Please tell me your name:\n",
      "(enter 'q' at any time to quit)\n"
     ]
    },
    {
     "name": "stdin",
     "output_type": "stream",
     "text": [
      "First name:  q\n"
     ]
    }
   ],
   "source": [
    "def get_formatted_name(first_name, last_name):\n",
    "    \"\"\"返回规范格式的姓名\"\"\"\n",
    "    full_name = f\"{first_name} {last_name}\"\n",
    "    return full_name.title()\n",
    "\n",
    "while True:\n",
    "    print(\"\\nPlease tell me your name:\")\n",
    "    print(\"(enter 'q' at any time to quit)\")\n",
    "\n",
    "    f_name = input(\"First name: \")\n",
    "    if f_name == 'q':\n",
    "        break\n",
    "\n",
    "    l_name = input(\"Last name: \")\n",
    "    if l_name == 'q':\n",
    "        break\n",
    "\n",
    "    formatted_name = get_formatted_name(f_name, l_name)\n",
    "    print(f\"\\nHello, {formatted_name}!\")"
   ]
  },
  {
   "cell_type": "markdown",
   "id": "1b0bbfb6-cf1a-4292-b730-65f3545900fb",
   "metadata": {},
   "source": [
    "### 动手试一试"
   ]
  },
  {
   "cell_type": "code",
   "execution_count": 3,
   "id": "90a1be1a-dd97-4812-bf03-677d623087b0",
   "metadata": {},
   "outputs": [
    {
     "name": "stdout",
     "output_type": "stream",
     "text": [
      "Santiago,Chile\n",
      "Shanghai,China\n",
      "London,United Kingdom\n"
     ]
    }
   ],
   "source": [
    "#练习8.6 城市名\n",
    "def city_country(city, country):\n",
    "    return f\"{city.title()},{country.title()}\"\n",
    "\n",
    "city = city_country('santiago','chile')\n",
    "print(city)\n",
    "\n",
    "city = city_country('shanghai','china')\n",
    "print(city)\n",
    "\n",
    "city = city_country('london','united kingdom')\n",
    "print(city)"
   ]
  },
  {
   "cell_type": "code",
   "execution_count": 6,
   "id": "3239372e-30de-445b-bb13-05f9c75157f8",
   "metadata": {},
   "outputs": [
    {
     "name": "stdout",
     "output_type": "stream",
     "text": [
      "{'singer': 'Jack', 'album_name': 'The Sun'}\n",
      "{'singer': 'Lucy', 'album_name': 'Enjoy The Moonlight'}\n",
      "{'singer': 'Billy', 'album_name': 'Have Fun!!!'}\n"
     ]
    }
   ],
   "source": [
    "#练习8.7 专辑\n",
    "def make_album(singer, album_name):\n",
    "    albums = {\n",
    "        'singer':singer.title(),\n",
    "        'album_name':album_name.title(),\n",
    "    }\n",
    "    return albums\n",
    "album = make_album('jack','the sun')\n",
    "print(album)\n",
    "\n",
    "album = make_album('lucy','enjoy the moonlight')\n",
    "print(album)\n",
    "\n",
    "album = make_album('billy','have fun!!!')\n",
    "print(album)"
   ]
  },
  {
   "cell_type": "code",
   "execution_count": 16,
   "id": "325d8f27-d611-4946-a925-e639046efbcd",
   "metadata": {},
   "outputs": [
    {
     "name": "stdout",
     "output_type": "stream",
     "text": [
      "Enter 'quit' if you want to stop.\n"
     ]
    },
    {
     "name": "stdin",
     "output_type": "stream",
     "text": [
      "\n",
      "What's the title of the album? the sun\n",
      "Who is the singer? amy\n"
     ]
    },
    {
     "name": "stdout",
     "output_type": "stream",
     "text": [
      "{'singer': 'Amy', 'album_name': 'The Sun'}\n"
     ]
    },
    {
     "name": "stdin",
     "output_type": "stream",
     "text": [
      "\n",
      "What's the title of the album? the stars\n",
      "Who is the singer? anna\n"
     ]
    },
    {
     "name": "stdout",
     "output_type": "stream",
     "text": [
      "{'singer': 'Anna', 'album_name': 'The Stars'}\n"
     ]
    },
    {
     "name": "stdin",
     "output_type": "stream",
     "text": [
      "\n",
      "What's the title of the album? quit\n"
     ]
    }
   ],
   "source": [
    "def make_album(singer, album_title):\n",
    "    albums = {\n",
    "        'singer':singer.title(),\n",
    "        'album_name':album_title.title(),\n",
    "    }\n",
    "    return albums\n",
    "\n",
    "title_prompt = \"\\nWhat's the title of the album?\"\n",
    "singer_prompt = \"Who is the singer?\"\n",
    "\n",
    "print(\"Enter 'quit' if you want to stop.\")\n",
    "while True:\n",
    "    album_title = input(title_prompt)\n",
    "    if album_title == 'quit':\n",
    "        break\n",
    "    singer = input(singer_prompt)\n",
    "    if singer == 'quit':\n",
    "        break\n",
    "    album =make_album(singer, album_title)\n",
    "    print(album)"
   ]
  },
  {
   "cell_type": "markdown",
   "id": "b7bd6a2d-8245-47be-9e6f-5e8cc79377b1",
   "metadata": {},
   "source": [
    "## 8.4 传递列表"
   ]
  },
  {
   "cell_type": "code",
   "execution_count": 7,
   "id": "ff0bbffb-ade0-4191-9d33-5fcdf39a1315",
   "metadata": {},
   "outputs": [
    {
     "name": "stdout",
     "output_type": "stream",
     "text": [
      "Hello, Hannah!\n",
      "Hello, Ty!\n",
      "Hello, Margot!\n"
     ]
    }
   ],
   "source": [
    "#向函数传递列表，从而让函数直接访问列表，提高处理列表的效率\n",
    "def greet_users(names):\n",
    "    \"\"\"向列表中的每个用户发出简单的问候\"\"\"\n",
    "    for name in names:\n",
    "        msg = f\"Hello, {name.title()}!\"\n",
    "        print(msg)\n",
    "\n",
    "usernames = ['hannah', 'ty', 'margot']\n",
    "greet_users(usernames)"
   ]
  },
  {
   "cell_type": "markdown",
   "id": "ac6d46b3-7d2c-4b40-baeb-2c229d96cd06",
   "metadata": {},
   "source": [
    "### 8.4.1 在函数中修改列表"
   ]
  },
  {
   "cell_type": "code",
   "execution_count": 8,
   "id": "3b6e74af-e9cf-474e-a4de-05f91926b03f",
   "metadata": {},
   "outputs": [
    {
     "name": "stdout",
     "output_type": "stream",
     "text": [
      "Printing model: dodecahedron\n",
      "Printing model: robot pendant\n",
      "Printing model: phone case\n",
      "\n",
      "The following models have been printed:\n",
      "dodecahedron\n",
      "robot pendant\n",
      "phone case\n"
     ]
    }
   ],
   "source": [
    "#首先创建一个列表，其中包含一些要打印的设计\n",
    "unprinted_designs = ['phone case', 'robot pendant', 'dodecahedron']\n",
    "completed_models = []\n",
    "\n",
    "#模拟打印每个设计，直到没有未打印的设计为止\n",
    "#打印每个设计后，都将其移到列表completed_models中\n",
    "while unprinted_designs:\n",
    "    current_design = unprinted_designs.pop()\n",
    "    print(f\"Printing model: {current_design}\")\n",
    "    completed_models.append(current_design)\n",
    "\n",
    "#显示打印好的所有模型\n",
    "print(\"\\nThe following models have been printed:\")\n",
    "for completed_model in completed_models:\n",
    "    print(completed_model)"
   ]
  },
  {
   "cell_type": "code",
   "execution_count": 9,
   "id": "d0be4c9c-683b-4307-bacd-e82cf3a42b08",
   "metadata": {},
   "outputs": [
    {
     "name": "stdout",
     "output_type": "stream",
     "text": [
      "Printing model: dodecahedron\n",
      "Printing model: robot pendant\n",
      "Printing model: phone case\n",
      "\n",
      "The following models have been printed:\n",
      "dodecahedron\n",
      "robot pendant\n",
      "phone case\n"
     ]
    }
   ],
   "source": [
    "def print_models(unprinted_designs, completed_models):\n",
    "    \"\"\"\n",
    "    模拟打印每个设计，直到没有未打印的设计为止\n",
    "    打印每个设计后，都将其移到列表completed_models中\n",
    "    \"\"\"\n",
    "    while unprinted_designs:\n",
    "        current_design = unprinted_designs.pop()\n",
    "        print(f\"Printing model: {current_design}\")\n",
    "        completed_models.append(current_design)\n",
    "\n",
    "def show_completed_models(completed_models):\n",
    "    \"\"\"显示打印好的所有模型\"\"\"\n",
    "    print(\"\\nThe following models have been printed:\")\n",
    "    for completed_model in completed_models:\n",
    "        print(completed_model)\n",
    "\n",
    "unprinted_designs = ['phone case', 'robot pendant', 'dodecahedron']\n",
    "completed_models = []\n",
    "\n",
    "print_models(unprinted_designs, completed_models)\n",
    "show_completed_models(completed_models)"
   ]
  },
  {
   "cell_type": "markdown",
   "id": "baa755f6-eb12-4a0e-8a43-d1ec8a4ac312",
   "metadata": {},
   "source": [
    "### 8.4.2 禁止函数修改列表"
   ]
  },
  {
   "cell_type": "code",
   "execution_count": 13,
   "id": "e4b512b4-0481-4375-a463-98c7837dcee3",
   "metadata": {},
   "outputs": [
    {
     "name": "stdout",
     "output_type": "stream",
     "text": [
      "Printing model: dodecahedron\n",
      "Printing model: robot pendant\n",
      "Printing model: phone case\n",
      "\n",
      "The following models have been printed:\n",
      "dodecahedron\n",
      "robot pendant\n",
      "phone case\n"
     ]
    }
   ],
   "source": [
    "#要将列表的副本传递给函数，可以：\n",
    "#function_name(list[:])\n",
    "#切片表示法[:]创建列表的副本。\n",
    "def print_models(unprinted_designs, completed_models):\n",
    "    \"\"\"\n",
    "    模拟打印每个设计，直到没有未打印的设计为止\n",
    "    打印每个设计后，都将其移到列表completed_models中\n",
    "    \"\"\"\n",
    "    while unprinted_designs:\n",
    "        current_design = unprinted_designs.pop()\n",
    "        print(f\"Printing model: {current_design}\")\n",
    "        completed_models.append(current_design)\n",
    "\n",
    "def show_completed_models(completed_models):\n",
    "    \"\"\"显示打印好的所有模型\"\"\"\n",
    "    print(\"\\nThe following models have been printed:\")\n",
    "    for completed_model in completed_models:\n",
    "        print(completed_model)\n",
    "\n",
    "unprinted_designs = ['phone case', 'robot pendant', 'dodecahedron']\n",
    "completed_models = []\n",
    "\n",
    "print_models(unprinted_designs[:], completed_models)\n",
    "show_completed_models(completed_models)"
   ]
  },
  {
   "cell_type": "markdown",
   "id": "0cb74833-eacc-4934-85c7-243090407758",
   "metadata": {},
   "source": [
    "### 动手试一试"
   ]
  },
  {
   "cell_type": "code",
   "execution_count": 18,
   "id": "a2ade7f9-e9cc-4079-8393-a24c57a9943f",
   "metadata": {},
   "outputs": [
    {
     "name": "stdout",
     "output_type": "stream",
     "text": [
      "hello\n",
      "nice to see you\n",
      "you look good\n"
     ]
    }
   ],
   "source": [
    "#练习8.9消息\n",
    "def show_messages(messages):\n",
    "    for message in messages:\n",
    "        print(message)\n",
    "messages = ['hello','nice to see you','you look good']\n",
    "show_messages(messages)"
   ]
  },
  {
   "cell_type": "code",
   "execution_count": 2,
   "id": "3edb90a7-e68b-4e4f-aaf8-bd1d99989554",
   "metadata": {},
   "outputs": [
    {
     "name": "stdout",
     "output_type": "stream",
     "text": [
      "hello\n",
      "nice to see you!\n",
      "you look good^^\n",
      "\n",
      "Sending messages:\n",
      "you look good^^\n",
      "nice to see you!\n",
      "hello\n",
      "\n",
      "\n",
      "[]\n",
      "['you look good^^', 'nice to see you!', 'hello']\n"
     ]
    }
   ],
   "source": [
    "#练习8.10发送消息\n",
    "def show_messages(messages):\n",
    "    for message in messages:\n",
    "        print(message)\n",
    "\n",
    "def send_messages(messages,sent_messages):\n",
    "    print(\"\\nSending messages:\")\n",
    "    while messages:\n",
    "        current_message = messages.pop()\n",
    "        print(current_message)\n",
    "        sent_messages.append(current_message)\n",
    "#打印show_messages的消息\n",
    "messages = ['hello','nice to see you!','you look good^^']\n",
    "show_messages(messages)\n",
    "#messages里的消息被移到了sent_messages当中\n",
    "sent_messages = []\n",
    "send_messages(messages, sent_messages)\n",
    "print(\"\\n\")\n",
    "print(messages)\n",
    "print(sent_messages)"
   ]
  },
  {
   "cell_type": "code",
   "execution_count": 4,
   "id": "c2ec7563-51fc-4b1d-a9eb-1fff41a58179",
   "metadata": {},
   "outputs": [
    {
     "name": "stdout",
     "output_type": "stream",
     "text": [
      "hello\n",
      "nice to see you!\n",
      "you look good^^\n",
      "\n",
      "Sending messages:\n",
      "you look good^^\n",
      "nice to see you!\n",
      "hello\n",
      "\n",
      "\n",
      "['hello', 'nice to see you!', 'you look good^^']\n",
      "['you look good^^', 'nice to see you!', 'hello']\n"
     ]
    }
   ],
   "source": [
    "#练习8.11 消息归档\n",
    "def show_messages(messages):\n",
    "    for message in messages:\n",
    "        print(message)\n",
    "\n",
    "def send_messages(messages,sent_messages):\n",
    "    print(\"\\nSending messages:\")\n",
    "    while messages:\n",
    "        current_message = messages.pop()\n",
    "        print(current_message)\n",
    "        sent_messages.append(current_message)\n",
    "#打印show_messages的消息\n",
    "messages = ['hello','nice to see you!','you look good^^']\n",
    "show_messages(messages)\n",
    "#messages副本的消息移动到sent_messages里，本身没变\n",
    "sent_messages = []\n",
    "send_messages(messages[:], sent_messages)\n",
    "print(\"\\n\")\n",
    "print(messages)\n",
    "print(sent_messages)"
   ]
  },
  {
   "cell_type": "markdown",
   "id": "429edd3b-2ce0-4a9f-8faa-d998f2fd8d41",
   "metadata": {},
   "source": [
    "## 8.5 传递任意数量的实参"
   ]
  },
  {
   "cell_type": "code",
   "execution_count": 10,
   "id": "4bd5090c-12de-4c04-a63e-039262755d8a",
   "metadata": {},
   "outputs": [
    {
     "name": "stdout",
     "output_type": "stream",
     "text": [
      "('pepperoni',)\n",
      "('mushrooms', 'green peppers', 'extra cheese')\n"
     ]
    }
   ],
   "source": [
    "#一个形参*toppings可以接受多个实参\n",
    "def make_pizza(*toppings):\n",
    "    \"\"\"打印顾客点的所有配料\"\"\"\n",
    "    print(toppings)\n",
    "\n",
    "make_pizza('pepperoni')\n",
    "make_pizza('mushrooms', 'green peppers', 'extra cheese')\n",
    "#形参名*toppings的星号让python创建一个叫toppings的元组，该元组包括函数收到的所有值。且会将实参（哪怕只有一个）封装到一个元组之中。"
   ]
  },
  {
   "cell_type": "code",
   "execution_count": 11,
   "id": "90b40f69-fe61-4a67-aff4-9be51416b832",
   "metadata": {},
   "outputs": [
    {
     "name": "stdout",
     "output_type": "stream",
     "text": [
      "\n",
      "Making a pizza with the following toppings:\n",
      "- pepperoni\n",
      "\n",
      "Making a pizza with the following toppings:\n",
      "- mushrooms\n",
      "- green peppers\n",
      "- extra cheese\n"
     ]
    }
   ],
   "source": [
    "#将直接的print换成循环，也可妥善处理\n",
    "def make_pizza( *toppings):\n",
    "    \"\"\"概述要制作的比萨\"\"\"\n",
    "    print(f\"\\nMaking a pizza with the following toppings:\")\n",
    "    for topping in toppings:\n",
    "        print(f\"- {topping}\")\n",
    "\n",
    "make_pizza('pepperoni')\n",
    "make_pizza('mushrooms', 'green peppers', 'extra cheese')"
   ]
  },
  {
   "cell_type": "markdown",
   "id": "0244bc24-0fd5-4bb8-910d-f04cf7afd39c",
   "metadata": {},
   "source": [
    "### 8.5.1 结合使用位置实参和任意数量的实参"
   ]
  },
  {
   "cell_type": "code",
   "execution_count": 12,
   "id": "25b132b7-6404-4331-aaf0-7be35e0f379d",
   "metadata": {},
   "outputs": [
    {
     "name": "stdout",
     "output_type": "stream",
     "text": [
      "\n",
      "Making a 16-inch pizza with the following toppings:\n",
      "- pepperoni\n",
      "\n",
      "Making a 12-inch pizza with the following toppings:\n",
      "- mushrooms\n",
      "- green peppers\n",
      "- extra cheese\n"
     ]
    }
   ],
   "source": [
    "#必须将可以处理任意数量实参的形参放在最后\n",
    "def make_pizza(size, *toppings):\n",
    "    \"\"\"打印顾客点的所有配料\"\"\"\n",
    "    print(f\"\\nMaking a {size}-inch pizza with the following toppings:\")\n",
    "    for topping in toppings:\n",
    "        print(f\"- {topping}\")\n",
    "\n",
    "make_pizza(16, 'pepperoni')\n",
    "make_pizza(12, 'mushrooms', 'green peppers', 'extra cheese')"
   ]
  },
  {
   "cell_type": "markdown",
   "id": "6a64b37e-b520-440b-9285-7422767b199a",
   "metadata": {},
   "source": [
    "### 8.5.2 使用任意数量的关键字实参"
   ]
  },
  {
   "cell_type": "code",
   "execution_count": 13,
   "id": "4214af29-b757-4d91-a857-9036c527befe",
   "metadata": {},
   "outputs": [
    {
     "name": "stdout",
     "output_type": "stream",
     "text": [
      "{'location': 'princeton', 'field': 'physics', 'first_name': 'albert', 'last_name': 'einstein'}\n"
     ]
    }
   ],
   "source": [
    "#两个星号让python创建一个名为user_info的字典，字典包含函数收到的其他所有名值对。\n",
    "def build_profile(first, last, **user_info):\n",
    "    \"\"\"创建一个字典，其中包含我们知道的有关用户的一切\"\"\"\n",
    "    user_info['first_name'] = first\n",
    "    user_info['last_name'] = last\n",
    "    return user_info\n",
    "\n",
    "user_profile = build_profile('albert', 'einstein',\n",
    "                             location='princeton',\n",
    "                             field='physics')\n",
    "print(user_profile)"
   ]
  },
  {
   "cell_type": "markdown",
   "id": "482b7a82-3bbd-4833-9cd9-021b6d04d3e1",
   "metadata": {},
   "source": [
    "### 动手试一试"
   ]
  },
  {
   "cell_type": "code",
   "execution_count": 18,
   "id": "49238b6a-bece-4207-b8d6-dea7b2645d81",
   "metadata": {},
   "outputs": [
    {
     "name": "stdout",
     "output_type": "stream",
     "text": [
      "\n",
      "The sandwich includes:\n",
      "bacon\n",
      "tomato\n",
      "fried eggs\n",
      "Here is your sandwich!\n",
      "\n",
      "The sandwich includes:\n",
      "chicken\n",
      "cheese\n",
      "roasted vegetables\n",
      "Here is your sandwich!\n",
      "\n",
      "The sandwich includes:\n",
      "roast beef\n",
      "onion\n",
      "pesto\n",
      "Here is your sandwich!\n"
     ]
    }
   ],
   "source": [
    "#练习8.12 三明治\n",
    "def sandwich(*items):\n",
    "    print(\"\\nThe sandwich includes:\")\n",
    "    for item in items:\n",
    "        print(item)\n",
    "    print(\"Here is your sandwich!\")\n",
    "sandwich('bacon','tomato','fried eggs')\n",
    "sandwich('chicken','cheese','roasted vegetables')\n",
    "sandwich('roast beef','onion','pesto')"
   ]
  },
  {
   "cell_type": "code",
   "execution_count": 19,
   "id": "d5cf25fd-7b52-4915-ba40-397eaf74d9fa",
   "metadata": {},
   "outputs": [
    {
     "name": "stdout",
     "output_type": "stream",
     "text": [
      "{'location': 'nanjing', 'campus': 'nanjing univesity', 'age': 20, 'first_name': 'beibei', 'last_name': 'zhou'}\n"
     ]
    }
   ],
   "source": [
    "#练习8.13 用户简介\n",
    "def build_profile(first, last, **user_info):\n",
    "    \"\"\"创建一个字典，其中包含我们知道的有关用户的一切\"\"\"\n",
    "    user_info['first_name'] = first\n",
    "    user_info['last_name'] = last\n",
    "    return user_info\n",
    "\n",
    "user_profile = build_profile('beibei', 'zhou',\n",
    "                             location='nanjing',\n",
    "                             campus='nanjing univesity',\n",
    "                            age=20)\n",
    "print(user_profile)"
   ]
  },
  {
   "cell_type": "code",
   "execution_count": 20,
   "id": "84450914-9005-4a35-9bdc-3ac8a7f892e6",
   "metadata": {},
   "outputs": [
    {
     "name": "stdout",
     "output_type": "stream",
     "text": [
      "{'color': 'blue', 'tow_package': True, 'manufacturer': 'Subaru', 'model': 'Outback'}\n"
     ]
    }
   ],
   "source": [
    "#练习8.14 汽车\n",
    "def make_car(manufacturer, model, **info):\n",
    "    info['manufacturer'] = manufacturer.title()\n",
    "    info['model'] = model.title()\n",
    "    return info\n",
    "\n",
    "car = make_car('subaru','outback',\n",
    "               color='blue',\n",
    "               tow_package=True)\n",
    "print(car)"
   ]
  },
  {
   "cell_type": "markdown",
   "id": "41fad7da-6252-4588-9a47-463032a4c4c6",
   "metadata": {},
   "source": [
    "## 8.6 将函数存储在模块中"
   ]
  },
  {
   "cell_type": "markdown",
   "id": "814f5ee4-f344-4286-85fc-bd7558611045",
   "metadata": {},
   "source": [
    "### 8.6.1 导入整个模块"
   ]
  },
  {
   "cell_type": "code",
   "execution_count": 23,
   "id": "e17cb1ba-989a-44ee-a301-267c8796a45e",
   "metadata": {},
   "outputs": [
    {
     "name": "stdout",
     "output_type": "stream",
     "text": [
      "\n",
      "Making a 16-inch pizza with the following toppings:\n",
      "- pepperoni\n",
      "\n",
      "Making a 12-inch pizza with the following toppings:\n",
      "- mushrooms\n",
      "- green peppers\n",
      "- extra cheese\n"
     ]
    }
   ],
   "source": [
    "#模块是扩展名为.py的文件，包含要导入程序的代码。\n",
    "import pizza\n",
    "pizza.make_pizza(16,'pepperoni')\n",
    "pizza.make_pizza(12, 'mushrooms', 'green peppers', 'extra cheese')"
   ]
  },
  {
   "cell_type": "markdown",
   "id": "415d9beb-e8f1-4367-a426-eb6bf05b8aa1",
   "metadata": {},
   "source": [
    "### 8.6.2 导入特定的函数"
   ]
  },
  {
   "cell_type": "code",
   "execution_count": 27,
   "id": "ffe53ebc-7225-4225-a6b7-79a6fa770730",
   "metadata": {},
   "outputs": [
    {
     "name": "stdout",
     "output_type": "stream",
     "text": [
      "\n",
      "Making a 16-inch pizza with the following toppings:\n",
      "- pepperoni\n",
      "\n",
      "Making a 12-inch pizza with the following toppings:\n",
      "- mushrooms\n",
      "- green peppers\n",
      "- extra cheese\n"
     ]
    }
   ],
   "source": [
    "#还可以只导入模块中的特定函数\n",
    "from pizza import make_pizza\n",
    "\n",
    "make_pizza(16,'pepperoni')\n",
    "make_pizza(12, 'mushrooms', 'green peppers', 'extra cheese')"
   ]
  },
  {
   "cell_type": "markdown",
   "id": "d0e596b3-ea11-4e5b-b4f5-3c5bc5895d47",
   "metadata": {},
   "source": [
    "### 8.6.3 使用as给函数指定别名"
   ]
  },
  {
   "cell_type": "code",
   "execution_count": 26,
   "id": "748f7a09-90ff-42eb-842a-10797ab48d24",
   "metadata": {},
   "outputs": [
    {
     "name": "stdout",
     "output_type": "stream",
     "text": [
      "\n",
      "Making a 16-inch pizza with the following toppings:\n",
      "- pepperoni\n",
      "\n",
      "Making a 12-inch pizza with the following toppings:\n",
      "- mushrooms\n",
      "- green peppers\n",
      "- extra cheese\n"
     ]
    }
   ],
   "source": [
    "from pizza import make_pizza as mp\n",
    "\n",
    "mp(16,'pepperoni')\n",
    "mp(12, 'mushrooms', 'green peppers', 'extra cheese')"
   ]
  },
  {
   "cell_type": "markdown",
   "id": "b9215d8d-27ce-460d-860f-fbcd52fe58fe",
   "metadata": {},
   "source": [
    "### 8.6.4 使用as给模块指定别名"
   ]
  },
  {
   "cell_type": "code",
   "execution_count": 28,
   "id": "598b5faf-445d-47cd-b70a-694ceba83732",
   "metadata": {},
   "outputs": [
    {
     "name": "stdout",
     "output_type": "stream",
     "text": [
      "\n",
      "Making a 16-inch pizza with the following toppings:\n",
      "- pepperoni\n",
      "\n",
      "Making a 12-inch pizza with the following toppings:\n",
      "- mushrooms\n",
      "- green peppers\n",
      "- extra cheese\n"
     ]
    }
   ],
   "source": [
    "import pizza as p\n",
    "\n",
    "p.make_pizza(16,'pepperoni')\n",
    "p.make_pizza(12, 'mushrooms', 'green peppers', 'extra cheese')"
   ]
  },
  {
   "cell_type": "markdown",
   "id": "53164635-3ea7-4d62-aeb6-58c8078f194a",
   "metadata": {},
   "source": [
    "### 8.6.5 导入模块中的所有函数"
   ]
  },
  {
   "cell_type": "code",
   "execution_count": 29,
   "id": "cb62ce7f-d194-4c3f-a940-545b0f8bee4f",
   "metadata": {},
   "outputs": [
    {
     "name": "stdout",
     "output_type": "stream",
     "text": [
      "\n",
      "Making a 16-inch pizza with the following toppings:\n",
      "- pepperoni\n",
      "\n",
      "Making a 12-inch pizza with the following toppings:\n",
      "- mushrooms\n",
      "- green peppers\n",
      "- extra cheese\n"
     ]
    }
   ],
   "source": [
    "from pizza import *\n",
    "from pizza import make_pizza\n",
    "\n",
    "make_pizza(16,'pepperoni')\n",
    "make_pizza(12, 'mushrooms', 'green peppers', 'extra cheese')"
   ]
  },
  {
   "cell_type": "markdown",
   "id": "b03ca682-c9bd-4e15-8dea-cb512e6095d0",
   "metadata": {},
   "source": [
    "## 8.7 函数编写指南"
   ]
  },
  {
   "cell_type": "code",
   "execution_count": null,
   "id": "66180ad6-c8a3-4815-8659-c36cbf446c04",
   "metadata": {},
   "outputs": [],
   "source": [
    "#简要阐述函数功能的注释紧跟在函数定义之后，并采用文档字符串的格式。\n",
    "#在给形参设置默认值时，等号两边不要有空格\n",
    "#def function_name(parameter_0,parameter_1='default value')\n",
    "#函数调用中的关键字实参也是如此\n",
    "#代码行的长度不要超过79个字符\n",
    "#所有的import语句都应放在文件开头"
   ]
  },
  {
   "cell_type": "markdown",
   "id": "ead3240a-a363-44ba-b781-185eb416a9fb",
   "metadata": {},
   "source": [
    "### 动手试一试"
   ]
  },
  {
   "cell_type": "code",
   "execution_count": 1,
   "id": "11e2af22-bfdc-4cb1-9a68-11dfe5aaa6f8",
   "metadata": {},
   "outputs": [
    {
     "name": "stdout",
     "output_type": "stream",
     "text": [
      "Printing model: dodecahedron\n",
      "Printing model: robot pendant\n",
      "Printing model: phone case\n",
      "\n",
      "The following models have been printed:\n",
      "dodecahedron\n",
      "robot pendant\n",
      "phone case\n"
     ]
    }
   ],
   "source": [
    "#练习8.15 打印模型\n",
    "import printing_functions as pf\n",
    "unprinted_designs = ['phone case', 'robot pendant', 'dodecahedron']\n",
    "completed_models = []\n",
    "\n",
    "pf.print_models(unprinted_designs, completed_models)\n",
    "pf.show_completed_models(completed_models)"
   ]
  }
 ],
 "metadata": {
  "kernelspec": {
   "display_name": "Python 3 (ipykernel)",
   "language": "python",
   "name": "python3"
  },
  "language_info": {
   "codemirror_mode": {
    "name": "ipython",
    "version": 3
   },
   "file_extension": ".py",
   "mimetype": "text/x-python",
   "name": "python",
   "nbconvert_exporter": "python",
   "pygments_lexer": "ipython3",
   "version": "3.11.7"
  }
 },
 "nbformat": 4,
 "nbformat_minor": 5
}
