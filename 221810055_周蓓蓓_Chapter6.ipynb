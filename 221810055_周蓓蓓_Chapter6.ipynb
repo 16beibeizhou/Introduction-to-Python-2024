{
 "cells": [
  {
   "cell_type": "markdown",
   "id": "2a60375a-0750-4f36-a974-6176f9a36f25",
   "metadata": {},
   "source": [
    "# 第六章 字典"
   ]
  },
  {
   "cell_type": "markdown",
   "id": "d984e4a2-607a-4712-b315-ed91b1f9cb72",
   "metadata": {},
   "source": [
    "## 6.1 一个简单的字典"
   ]
  },
  {
   "cell_type": "code",
   "execution_count": 2,
   "id": "d416bc1d-85ab-42fc-a928-1e280e5fe926",
   "metadata": {},
   "outputs": [
    {
     "name": "stdout",
     "output_type": "stream",
     "text": [
      "green\n",
      "5\n"
     ]
    }
   ],
   "source": [
    "alien_0={'color':'green','point':5}\n",
    "print(alien_0['color'])\n",
    "print(alien_0['point'])"
   ]
  },
  {
   "cell_type": "markdown",
   "id": "6fdfb30a-604e-46f9-9134-0de6fadca516",
   "metadata": {},
   "source": [
    "## 6.2 使用字典"
   ]
  },
  {
   "cell_type": "code",
   "execution_count": 2,
   "id": "db403dde-bd9d-49c3-bfcd-637e3a130b1e",
   "metadata": {},
   "outputs": [],
   "source": [
    "## 字典：一系列键值对，每个键都与一个值关联，可以用键来访问对应的值。\n",
    "## 与键关联的值可以是数、字符串、列表乃至字典"
   ]
  },
  {
   "cell_type": "markdown",
   "id": "ea679a3d-8764-44ce-8c74-9e6c4c704b4f",
   "metadata": {},
   "source": [
    "### 6.2.1 访问字典中的值"
   ]
  },
  {
   "cell_type": "code",
   "execution_count": 3,
   "id": "d61b97d6-8279-44de-9533-f9455299e6bb",
   "metadata": {},
   "outputs": [
    {
     "name": "stdout",
     "output_type": "stream",
     "text": [
      "You just earned 5 points!\n"
     ]
    }
   ],
   "source": [
    "alien_0={'color':'green','point':5}\n",
    "new_points=alien_0['point']\n",
    "print(f\"You just earned {new_points} points!\")"
   ]
  },
  {
   "cell_type": "markdown",
   "id": "c2c8b300-8d3f-4e96-a267-4c7ca9b1b55b",
   "metadata": {},
   "source": [
    "### 6.2.2 添加键值对"
   ]
  },
  {
   "cell_type": "code",
   "execution_count": 4,
   "id": "9e3b1680-e34f-49ee-97bf-a0c1223add8a",
   "metadata": {},
   "outputs": [
    {
     "name": "stdout",
     "output_type": "stream",
     "text": [
      "{'color': 'green', 'point': 5}\n",
      "{'color': 'green', 'point': 5, 'x_position': 0, 'y_position': 25}\n"
     ]
    }
   ],
   "source": [
    "alien_0={'color':'green','point':5}\n",
    "print(alien_0)\n",
    "alien_0['x_position']=0\n",
    "alien_0['y_position']=25\n",
    "print(alien_0)"
   ]
  },
  {
   "cell_type": "markdown",
   "id": "0954a87f-db68-4f3b-9d31-a48fe6dc06fe",
   "metadata": {},
   "source": [
    "### 6.2.3 从创建一个空字典开始"
   ]
  },
  {
   "cell_type": "code",
   "execution_count": 6,
   "id": "9f3cd59d-1b93-439d-9946-73d70b175154",
   "metadata": {},
   "outputs": [
    {
     "name": "stdout",
     "output_type": "stream",
     "text": [
      "{'color': 'green', 'point': 5}\n"
     ]
    }
   ],
   "source": [
    "alien_0={}\n",
    "#列表中的元素是按顺序存在一块，而字典不一样\n",
    "alien_0['color']='green'\n",
    "alien_0['point']=5\n",
    "print(alien_0)"
   ]
  },
  {
   "cell_type": "markdown",
   "id": "e444b7d3-6faf-41f8-bb26-45578b471c5e",
   "metadata": {},
   "source": [
    "### 6.2.4 修改字典中的值"
   ]
  },
  {
   "cell_type": "code",
   "execution_count": 4,
   "id": "ab62c7cf-84cc-4862-a6c0-14342903d82a",
   "metadata": {},
   "outputs": [
    {
     "name": "stdout",
     "output_type": "stream",
     "text": [
      "The alien is green.\n",
      "The alien is now yellow.\n"
     ]
    }
   ],
   "source": [
    "alien_0={'color':'green'}\n",
    "print(f\"The alien is {alien_0['color']}.\")\n",
    "alien_0['color']='yellow'\n",
    "print(f\"The alien is now {alien_0['color']}.\")"
   ]
  },
  {
   "cell_type": "code",
   "execution_count": 6,
   "id": "776236df-5343-4e74-ac02-38d364cb3533",
   "metadata": {},
   "outputs": [
    {
     "name": "stdout",
     "output_type": "stream",
     "text": [
      "Original position:0\n",
      "New position: 2\n"
     ]
    }
   ],
   "source": [
    "alien_0={'x_position':0,'y_position':25,'speed':'medium'}\n",
    "print(f\"Original position:{alien_0['x_position']}\")\n",
    "##向右移动外星人\n",
    "##根据当前速度确定将外星人向右移动多远\n",
    "if alien_0['speed']=='slow':\n",
    "    x_increment = 1\n",
    "elif alien_0['speed']=='medium':\n",
    "    x_increment = 2\n",
    "else:\n",
    "    ##这个外星人的移动速度为快\n",
    "    x_increment = 3\n",
    "##新位置为旧位置加上移动距离\n",
    "alien_0['x_position']=alien_0['x_position']+x_increment\n",
    "print(f\"New position: {alien_0['x_position']}\")"
   ]
  },
  {
   "cell_type": "markdown",
   "id": "24243615-7cf9-428a-b2b6-900cacacbaf5",
   "metadata": {},
   "source": [
    "### 6.2.5 删除键值对"
   ]
  },
  {
   "cell_type": "code",
   "execution_count": 5,
   "id": "18be741d-9fa1-4e2e-b89e-5fc2bbc42e9b",
   "metadata": {},
   "outputs": [
    {
     "name": "stdout",
     "output_type": "stream",
     "text": [
      "{'color': 'green', 'point': 5}\n",
      "{'color': 'green'}\n"
     ]
    }
   ],
   "source": [
    "alien_0={'color':'green','point':5}\n",
    "print(alien_0)\n",
    "del alien_0['point']\n",
    "print(alien_0)"
   ]
  },
  {
   "cell_type": "markdown",
   "id": "b82c8062-bec6-4c89-a307-2a4f83d7da62",
   "metadata": {},
   "source": [
    "### 6.2.6由类似的对象组成的字典"
   ]
  },
  {
   "cell_type": "code",
   "execution_count": 7,
   "id": "d238cef7-43cf-41f4-88cd-ce020a3b3667",
   "metadata": {},
   "outputs": [
    {
     "name": "stdout",
     "output_type": "stream",
     "text": [
      "Sarah's favorite language is C.\n"
     ]
    }
   ],
   "source": [
    "favorite_languages={\n",
    "    'gen':'python',\n",
    "    'sarah':'c',\n",
    "    'edward':'rust',\n",
    "    'phil':'python',\n",
    "    }\n",
    "language=favorite_languages['sarah'].title()\n",
    "print(f\"Sarah's favorite language is {language}.\")"
   ]
  },
  {
   "cell_type": "markdown",
   "id": "56b5c598-7b86-4be6-ab5a-94b4ee1c201d",
   "metadata": {},
   "source": [
    "### 6.2.7 使用get来访问值"
   ]
  },
  {
   "cell_type": "code",
   "execution_count": 6,
   "id": "a3df25a3-505f-4475-89c7-3055c5140d08",
   "metadata": {},
   "outputs": [
    {
     "ename": "KeyError",
     "evalue": "'points'",
     "output_type": "error",
     "traceback": [
      "\u001b[1;31m---------------------------------------------------------------------------\u001b[0m",
      "\u001b[1;31mKeyError\u001b[0m                                  Traceback (most recent call last)",
      "Cell \u001b[1;32mIn[6], line 2\u001b[0m\n\u001b[0;32m      1\u001b[0m alien_0\u001b[38;5;241m=\u001b[39m{\u001b[38;5;124m'\u001b[39m\u001b[38;5;124mcolor\u001b[39m\u001b[38;5;124m'\u001b[39m:\u001b[38;5;124m'\u001b[39m\u001b[38;5;124mgreen\u001b[39m\u001b[38;5;124m'\u001b[39m,\u001b[38;5;124m'\u001b[39m\u001b[38;5;124mspeed\u001b[39m\u001b[38;5;124m'\u001b[39m:\u001b[38;5;124m'\u001b[39m\u001b[38;5;124mslow\u001b[39m\u001b[38;5;124m'\u001b[39m}\n\u001b[1;32m----> 2\u001b[0m \u001b[38;5;28mprint\u001b[39m(alien_0[\u001b[38;5;124m'\u001b[39m\u001b[38;5;124mpoints\u001b[39m\u001b[38;5;124m'\u001b[39m])\n",
      "\u001b[1;31mKeyError\u001b[0m: 'points'"
     ]
    }
   ],
   "source": [
    "alien_0={'color':'green','speed':'slow'}\n",
    "print(alien_0['points'])"
   ]
  },
  {
   "cell_type": "code",
   "execution_count": 8,
   "id": "1a23ff47-2116-43fe-8bb9-d7ff74b4655e",
   "metadata": {},
   "outputs": [
    {
     "name": "stdout",
     "output_type": "stream",
     "text": [
      "No point value assigned.\n"
     ]
    }
   ],
   "source": [
    "alien_0={'color':'green','speed':'slow'}\n",
    "point_value=alien_0.get('points','No point value assigned.')\n",
    "print(point_value)"
   ]
  },
  {
   "cell_type": "markdown",
   "id": "37569f60-c28e-42f3-ae8d-105762ecd8f0",
   "metadata": {},
   "source": [
    "### 动手试一试"
   ]
  },
  {
   "cell_type": "code",
   "execution_count": 9,
   "id": "0ffc67ba-0c1b-4130-91e1-04b29f9b8b16",
   "metadata": {},
   "outputs": [
    {
     "name": "stdout",
     "output_type": "stream",
     "text": [
      "{'fisrt_name': 'Harry', 'last_name': 'Potter', 'age': 17, 'city': 'London'}\n"
     ]
    }
   ],
   "source": [
    "#练习6.1 人\n",
    "message={\n",
    "    'fisrt_name':'Harry',\n",
    "    'last_name':'Potter',\n",
    "    'age':17,\n",
    "    'city':'London',\n",
    "}\n",
    "print(message)"
   ]
  },
  {
   "cell_type": "code",
   "execution_count": 14,
   "id": "99adcfe5-6786-46e6-b213-47f85f5c7e1e",
   "metadata": {},
   "outputs": [
    {
     "name": "stdout",
     "output_type": "stream",
     "text": [
      "Anna's favorite number is 7.\n",
      "Bob's favorite number is 12.\n",
      "Sally's favorite number is 25.\n",
      "Harry's favorite number is 99.\n",
      "David's favorite number is 100.\n"
     ]
    }
   ],
   "source": [
    "#练习6.2 喜欢的数1\n",
    "numbers={\n",
    "    'Anna':7,\n",
    "    'Bob':12,\n",
    "    'Sally':25,\n",
    "    'Harry':99,\n",
    "    'David':100\n",
    "}\n",
    "print(f\"Anna's favorite number is {numbers['Anna']}.\")\n",
    "print(f\"Bob's favorite number is {numbers['Bob']}.\")\n",
    "print(f\"Sally's favorite number is {numbers['Sally']}.\")\n",
    "print(f\"Harry's favorite number is {numbers['Harry']}.\")\n",
    "print(f\"David's favorite number is {numbers['David']}.\")"
   ]
  },
  {
   "cell_type": "code",
   "execution_count": 2,
   "id": "2f1c1612-7b64-46a9-9c11-31506665a9cd",
   "metadata": {},
   "outputs": [
    {
     "name": "stdout",
     "output_type": "stream",
     "text": [
      "\n",
      "Value: 与变量相关联的信息\n",
      "\n",
      "String: 一系列字符串\n",
      "\n",
      "Float: 带小数点的数\n",
      "\n",
      "List: 由一系列安特定顺序排列的元素组成\n",
      "\n",
      "Tuple: 不可变的列表\n"
     ]
    }
   ],
   "source": [
    "#练习6.3 词汇表1\n",
    "编程术语={\n",
    "    'value':'与变量相关联的信息',\n",
    "    'string':'一系列字符串',\n",
    "    'float':'带小数点的数',\n",
    "    'list':'由一系列安特定顺序排列的元素组成',\n",
    "    'slice':'列表中的部分元素',\n",
    "    'tuple':'不可变的列表',\n",
    "}\n",
    "print(f\"\\nValue: {编程术语['value']}\")\n",
    "print(f\"\\nString: {编程术语['string']}\")\n",
    "print(f\"\\nFloat: {编程术语['float']}\")\n",
    "print(f\"\\nList: {编程术语['list']}\")\n",
    "print(f\"\\nTuple: {编程术语['tuple']}\")"
   ]
  },
  {
   "cell_type": "markdown",
   "id": "dfdbc2c0-8697-419f-b505-fc45657e915c",
   "metadata": {},
   "source": [
    "## 6.3 遍历字典"
   ]
  },
  {
   "cell_type": "markdown",
   "id": "f0fc4f4a-2c8b-4aad-a26f-0d0aa89e7a68",
   "metadata": {},
   "source": [
    "### 6.3.1遍历所有的键值对"
   ]
  },
  {
   "cell_type": "code",
   "execution_count": 4,
   "id": "02031813-5bed-4dc9-92aa-d3a16b0a530f",
   "metadata": {},
   "outputs": [
    {
     "name": "stdout",
     "output_type": "stream",
     "text": [
      "\n",
      "Keys:username\n",
      "Value:efermi\n",
      "\n",
      "Keys:first\n",
      "Value:enrico\n",
      "\n",
      "Keys:last\n",
      "Value:firmi\n"
     ]
    }
   ],
   "source": [
    "user_0={\n",
    "    'username':'efermi',\n",
    "    'first':'enrico',\n",
    "    'last':'firmi',\n",
    "    }\n",
    "for key, value in user_0.items():\n",
    "    print(f\"\\nKeys:{key}\")\n",
    "    print(f\"Value:{value}\")\n",
    "##声明两个变量分别用于存储键和值即可"
   ]
  },
  {
   "cell_type": "code",
   "execution_count": 8,
   "id": "47ee08e7-294c-4481-a07c-74e9ec76ef8a",
   "metadata": {},
   "outputs": [
    {
     "name": "stdout",
     "output_type": "stream",
     "text": [
      "Gen's favorite language is Python.\n",
      "Sarah's favorite language is C.\n",
      "Edward's favorite language is Rust.\n",
      "Phil's favorite language is Python.\n"
     ]
    }
   ],
   "source": [
    "favorite_languages={\n",
    "    'gen':'python',\n",
    "    'sarah':'c',\n",
    "    'edward':'rust',\n",
    "    'phil':'python',\n",
    "}\n",
    "for name,language in favorite_languages.items():\n",
    "    print(f\"{name.title()}'s favorite language is {language.title()}.\")"
   ]
  },
  {
   "cell_type": "markdown",
   "id": "29eaaa82-b1e5-419e-90d0-19d6f870c037",
   "metadata": {},
   "source": [
    "### 6.3.2遍历字典中的所有键"
   ]
  },
  {
   "cell_type": "code",
   "execution_count": 9,
   "id": "af3fcfed-c5d0-47a0-9a65-492b5559d119",
   "metadata": {},
   "outputs": [
    {
     "name": "stdout",
     "output_type": "stream",
     "text": [
      "Gen\n",
      "Sarah\n",
      "Edward\n",
      "Phil\n"
     ]
    }
   ],
   "source": [
    "favorite_languages={\n",
    "    'gen':'python',\n",
    "    'sarah':'c',\n",
    "    'edward':'rust',\n",
    "    'phil':'python',\n",
    "}\n",
    "for name in favorite_languages.keys():\n",
    "    print(name.title())"
   ]
  },
  {
   "cell_type": "code",
   "execution_count": 10,
   "id": "2d4179fa-bbd5-4ea3-9c15-9565118746a4",
   "metadata": {},
   "outputs": [
    {
     "name": "stdout",
     "output_type": "stream",
     "text": [
      "Gen\n",
      "Sarah\n",
      "Edward\n",
      "Phil\n"
     ]
    }
   ],
   "source": [
    "for name in favorite_languages:\n",
    "    print(name.title())"
   ]
  },
  {
   "cell_type": "code",
   "execution_count": 12,
   "id": "4d44b9ca-84df-4134-8be8-c9c9c13b7abe",
   "metadata": {},
   "outputs": [
    {
     "name": "stdout",
     "output_type": "stream",
     "text": [
      "Hi,Gen.\n",
      "Hi,Sarah.\n",
      "\tSarah, I see you love C!\n",
      "Hi,Edward.\n",
      "Hi,Phil.\n",
      "\tPhil, I see you love Python!\n"
     ]
    }
   ],
   "source": [
    "favorite_languages={\n",
    "    'gen':'python',\n",
    "    'sarah':'c',\n",
    "    'edward':'rust',\n",
    "    'phil':'python',\n",
    "}\n",
    "friends=['phil','sarah']\n",
    "for name in favorite_languages.keys():\n",
    "    print(f\"Hi,{name.title()}.\")\n",
    "    if name in friends:\n",
    "        language=favorite_languages[name].title()\n",
    "        print(f\"\\t{name.title()}, I see you love {language}!\")"
   ]
  },
  {
   "cell_type": "code",
   "execution_count": 17,
   "id": "b13771cf-fbe6-42ca-a14e-ed8dc5de0c08",
   "metadata": {},
   "outputs": [
    {
     "name": "stdout",
     "output_type": "stream",
     "text": [
      "Erin, please take our poll!\n"
     ]
    }
   ],
   "source": [
    "favorite_languages={\n",
    "    'gen':'python',\n",
    "    'sarah':'c',\n",
    "    'edward':'rust',\n",
    "    'phil':'python',\n",
    "}\n",
    "if 'erin' not in favorite_languages.keys():\n",
    "    print(\"Erin, please take our poll!\")"
   ]
  },
  {
   "cell_type": "markdown",
   "id": "27812b52-79f6-4800-b2ab-219488503b77",
   "metadata": {},
   "source": [
    "### 6.3.3按特定的顺序遍历字典中的所有键"
   ]
  },
  {
   "cell_type": "code",
   "execution_count": 19,
   "id": "32d5e129-9b1f-425b-af6e-6aeb7bb5bccc",
   "metadata": {},
   "outputs": [
    {
     "name": "stdout",
     "output_type": "stream",
     "text": [
      "Edward, thank you for taking the poll.\n",
      "Gen, thank you for taking the poll.\n",
      "Phil, thank you for taking the poll.\n",
      "Sarah, thank you for taking the poll.\n"
     ]
    }
   ],
   "source": [
    "favorite_languages={\n",
    "    'gen':'python',\n",
    "    'sarah':'c',\n",
    "    'edward':'rust',\n",
    "    'phil':'python',\n",
    "}\n",
    "for name in sorted(favorite_languages.keys()):\n",
    "    print(f\"{name.title()}, thank you for taking the poll.\")"
   ]
  },
  {
   "cell_type": "markdown",
   "id": "888cf4e1-98e7-4b8a-989c-10ea2c1924d6",
   "metadata": {},
   "source": [
    "### 6.3.4遍历字典中的所有值"
   ]
  },
  {
   "cell_type": "code",
   "execution_count": 20,
   "id": "941663ed-6fe3-4e5d-b79c-90da12007225",
   "metadata": {},
   "outputs": [
    {
     "name": "stdout",
     "output_type": "stream",
     "text": [
      "Python\n",
      "C\n",
      "Rust\n",
      "Python\n"
     ]
    }
   ],
   "source": [
    "favorite_languages={\n",
    "    'gen':'python',\n",
    "    'sarah':'c',\n",
    "    'edward':'rust',\n",
    "    'phil':'python',\n",
    "}\n",
    "for language in favorite_languages.values():\n",
    "    print(language.title())"
   ]
  },
  {
   "cell_type": "code",
   "execution_count": 22,
   "id": "8a7f8252-bdb4-44dc-b2e0-b8f04054dc7b",
   "metadata": {},
   "outputs": [
    {
     "name": "stdout",
     "output_type": "stream",
     "text": [
      "The following languages have been mentioned.\n",
      "Python\n",
      "C\n",
      "Rust\n"
     ]
    }
   ],
   "source": [
    "favorite_languages={\n",
    "    'gen':'python',\n",
    "    'sarah':'c',\n",
    "    'edward':'rust',\n",
    "    'phil':'python',\n",
    "}\n",
    "print(\"The following languages have been mentioned.\")\n",
    "for language in set(favorite_languages.values()):\n",
    "    print(language.title())\n",
    "##用set()来剔除重复的元素"
   ]
  },
  {
   "cell_type": "markdown",
   "id": "ec544eb8-857c-471b-956c-94763957e37f",
   "metadata": {},
   "source": [
    "### 动手试一试"
   ]
  },
  {
   "cell_type": "code",
   "execution_count": null,
   "id": "396a4836-4ae3-4fd7-82fb-0b612dc16118",
   "metadata": {},
   "outputs": [],
   "source": [
    "#练习6.4 词汇表2"
   ]
  },
  {
   "cell_type": "code",
   "execution_count": null,
   "id": "11a419c0-3604-4858-88e4-3aba09b8a293",
   "metadata": {},
   "outputs": [],
   "source": [
    "#练习6.5 河流"
   ]
  },
  {
   "cell_type": "code",
   "execution_count": null,
   "id": "b7eebe3d-e610-47e2-a613-cea8294e71fd",
   "metadata": {},
   "outputs": [],
   "source": [
    "#练习6.6 调整"
   ]
  },
  {
   "cell_type": "markdown",
   "id": "84488afe-6331-4885-9516-24d938de1da6",
   "metadata": {},
   "source": [
    "## 6.4 嵌套"
   ]
  },
  {
   "cell_type": "markdown",
   "id": "18fc2837-0476-4dba-bbde-f7abe40a96bb",
   "metadata": {},
   "source": [
    "### 6.4.1字典列表"
   ]
  },
  {
   "cell_type": "code",
   "execution_count": 24,
   "id": "e14ea9b5-d0bf-4ed7-8727-ab7d93bc78a8",
   "metadata": {},
   "outputs": [
    {
     "name": "stdout",
     "output_type": "stream",
     "text": [
      "{'color': 'green', 'points': 5}\n",
      "{'color': 'yellow', 'points': 10}\n",
      "{'color': 'red', 'points': 15}\n"
     ]
    }
   ],
   "source": [
    "alien_0 = {'color': 'green', 'points': 5}\n",
    "alien_1 = {'color': 'yellow', 'points': 10}\n",
    "alien_2 = {'color': 'red', 'points': 15}\n",
    "\n",
    "aliens = [alien_0, alien_1, alien_2]\n",
    "\n",
    "for alien in aliens:\n",
    "    print(alien)"
   ]
  },
  {
   "cell_type": "code",
   "execution_count": 26,
   "id": "f03a8126-0428-4f15-9f88-29b6e69d0ea3",
   "metadata": {},
   "outputs": [
    {
     "name": "stdout",
     "output_type": "stream",
     "text": [
      "{'color': 'green', 'points': 5, 'speed': 'slow'}\n",
      "{'color': 'green', 'points': 5, 'speed': 'slow'}\n",
      "{'color': 'green', 'points': 5, 'speed': 'slow'}\n",
      "{'color': 'green', 'points': 5, 'speed': 'slow'}\n",
      "{'color': 'green', 'points': 5, 'speed': 'slow'}\n",
      "...\n",
      "Total number of aliens: 30\n"
     ]
    }
   ],
   "source": [
    "##创建一个用于储存外星人的空列表\n",
    "aliens = []\n",
    "\n",
    "##创建30个绿色的外星人\n",
    "for alien_number in range(30):\n",
    "    new_alien = {'color': 'green', 'points': 5, 'speed': 'slow'}\n",
    "    aliens.append(new_alien)\n",
    "\n",
    "##显示前5个外星人\n",
    "for alien in aliens[:5]:\n",
    "    print(alien)\n",
    "print(\"...\")\n",
    "\n",
    "#显示创建了多少个外星人\n",
    "print(f\"Total number of aliens: {len(aliens)}\")"
   ]
  },
  {
   "cell_type": "code",
   "execution_count": 28,
   "id": "0801b386-4f02-440e-a340-21d8408aed87",
   "metadata": {},
   "outputs": [
    {
     "name": "stdout",
     "output_type": "stream",
     "text": [
      "{'color': 'yellow', 'points': 10, 'speed': 'medium'}\n",
      "{'color': 'yellow', 'points': 10, 'speed': 'medium'}\n",
      "{'color': 'yellow', 'points': 10, 'speed': 'medium'}\n",
      "{'color': 'green', 'points': 5, 'speed': 'slow'}\n",
      "{'color': 'green', 'points': 5, 'speed': 'slow'}\n",
      "...\n",
      "Total number of aliens: 30\n"
     ]
    }
   ],
   "source": [
    "##创建一个用于储存外星人的空列表\n",
    "aliens = []\n",
    "\n",
    "##创建30个绿色的外星人\n",
    "for alien_number in range(30):\n",
    "    new_alien = {'color': 'green', 'points': 5, 'speed': 'slow'}\n",
    "    aliens.append(new_alien)\n",
    "\n",
    "for alien in aliens[:3]:\n",
    "    if alien['color'] == 'green':\n",
    "        alien['color'] = 'yellow'\n",
    "        alien['speed'] = 'medium'\n",
    "        alien['points'] = 10\n",
    "        \n",
    "##显示前5个外星人\n",
    "for alien in aliens[:5]:\n",
    "    print(alien)\n",
    "print(\"...\")\n",
    "        \n",
    "#显示创建了多少个外星人\n",
    "print(f\"Total number of aliens: {len(aliens)}\")"
   ]
  },
  {
   "cell_type": "markdown",
   "id": "b9f5f021-1a3e-4c91-bc4c-1efa5bf5af37",
   "metadata": {},
   "source": [
    "### 6.4.2 在字典中存储列表"
   ]
  },
  {
   "cell_type": "code",
   "execution_count": 29,
   "id": "993ad996-0e47-4ebf-968c-8507a2f0f21b",
   "metadata": {},
   "outputs": [
    {
     "name": "stdout",
     "output_type": "stream",
     "text": [
      "You ordered a thick-crust pizza with the following toppings:\n",
      "\tmushrooms\n",
      "\textra cheese\n"
     ]
    }
   ],
   "source": [
    "##存储顾客所点比萨的信息\n",
    "pizza = {\n",
    "    'crust': 'thick',\n",
    "    'toppings': ['mushrooms', 'extra cheese'],\n",
    "    }\n",
    "\n",
    "##概述顾客点的比萨\n",
    "print(f\"You ordered a {pizza['crust']}-crust pizza \"\n",
    "    \"with the following toppings:\")\n",
    "\n",
    "for topping in pizza['toppings']:\n",
    "    print(f\"\\t{topping}\")"
   ]
  },
  {
   "cell_type": "code",
   "execution_count": 35,
   "id": "ea4c830e-67ba-4ffa-92ae-8fd6fa283d72",
   "metadata": {},
   "outputs": [
    {
     "name": "stdout",
     "output_type": "stream",
     "text": [
      "\n",
      "Jen's favorite languages are:\n",
      "\tPython\n",
      "\tRust\n",
      "\n",
      "Sarah's favorite languages are:\n",
      "\tC\n",
      "\n",
      "Edward's favorite languages are:\n",
      "\tRust\n",
      "\tGo\n",
      "\n",
      "Phil's favorite languages are:\n",
      "\tPython\n",
      "\tHaskell\n"
     ]
    }
   ],
   "source": [
    "favorite_languages = {\n",
    "      'jen': ['python', 'rust'],\n",
    "      'sarah': ['c'],\n",
    "      'edward': ['rust', 'go'],\n",
    "      'phil': ['python', 'haskell'],\n",
    "      }\n",
    "\n",
    "for name, languages in favorite_languages.items():\n",
    "    print(f\"\\n{name.title()}'s favorite languages are:\")\n",
    "    for language in languages:\n",
    "        print(f\"\\t{language.title()}\")"
   ]
  },
  {
   "cell_type": "code",
   "execution_count": 34,
   "id": "e4df2482-5c94-4a33-ac42-8611bab85f8c",
   "metadata": {},
   "outputs": [],
   "source": [
    "##列表和字典的嵌套层级不应太多，否则很可能有更简单的结局方案"
   ]
  },
  {
   "cell_type": "markdown",
   "id": "9e7150de-2d02-4dc3-bd93-10a002b686ae",
   "metadata": {},
   "source": [
    "### 6.4.3 在字典中存储字典"
   ]
  },
  {
   "cell_type": "code",
   "execution_count": 36,
   "id": "80c192af-dc11-4e88-84ac-b66f2a90e229",
   "metadata": {},
   "outputs": [
    {
     "name": "stdout",
     "output_type": "stream",
     "text": [
      "\n",
      "Username: aeinstein\n",
      "\tFull name: Albert Einstein\n",
      "\tLocation: Princeton\n",
      "\n",
      "Username: mcurie\n",
      "\tFull name: Marie Curie\n",
      "\tLocation: Paris\n"
     ]
    }
   ],
   "source": [
    "users = {\n",
    "    'aeinstein': {\n",
    "        'first': 'albert',\n",
    "        'last': 'einstein',\n",
    "        'location': 'princeton',\n",
    "        },\n",
    "\n",
    "    'mcurie': {\n",
    "        'first': 'marie',\n",
    "        'last': 'curie',\n",
    "        'location': 'paris',\n",
    "        },\n",
    "\n",
    "    }\n",
    "\n",
    "for username, user_info in users.items():\n",
    "    print(f\"\\nUsername: {username}\")\n",
    "    full_name = f\"{user_info['first']} {user_info['last']}\"\n",
    "    location = user_info['location']\n",
    "    \n",
    "    print(f\"\\tFull name: {full_name.title()}\")\n",
    "    print(f\"\\tLocation: {location.title()}\")"
   ]
  },
  {
   "cell_type": "markdown",
   "id": "bf6eb759-19cc-4639-b72a-7168a9bbbe7a",
   "metadata": {},
   "source": [
    "### 动手试一试"
   ]
  },
  {
   "cell_type": "code",
   "execution_count": null,
   "id": "2e5f014c-cf4b-422d-91dd-7e8a2e5d7678",
   "metadata": {},
   "outputs": [],
   "source": [
    "#6.7人们"
   ]
  },
  {
   "cell_type": "code",
   "execution_count": null,
   "id": "c778f099-9c63-4399-9b0d-605b5bf651db",
   "metadata": {},
   "outputs": [],
   "source": [
    "#6.8 宠物"
   ]
  },
  {
   "cell_type": "code",
   "execution_count": null,
   "id": "e08d3ab6-4637-4744-9805-10161a84345c",
   "metadata": {},
   "outputs": [],
   "source": [
    "#6.9 喜欢的城市"
   ]
  },
  {
   "cell_type": "code",
   "execution_count": null,
   "id": "f067f81e-4917-4dbb-97b2-13b414660ce5",
   "metadata": {},
   "outputs": [],
   "source": [
    "#6.10喜欢的数2"
   ]
  },
  {
   "cell_type": "code",
   "execution_count": null,
   "id": "a6502aeb-73dd-46c2-9b0f-6dd559068622",
   "metadata": {},
   "outputs": [],
   "source": [
    "#6.11城市"
   ]
  },
  {
   "cell_type": "code",
   "execution_count": 37,
   "id": "4b60ddff-bbd9-4495-bcb6-a1f421e16d19",
   "metadata": {},
   "outputs": [],
   "source": [
    "#6.12 扩展"
   ]
  }
 ],
 "metadata": {
  "kernelspec": {
   "display_name": "Python 3 (ipykernel)",
   "language": "python",
   "name": "python3"
  },
  "language_info": {
   "codemirror_mode": {
    "name": "ipython",
    "version": 3
   },
   "file_extension": ".py",
   "mimetype": "text/x-python",
   "name": "python",
   "nbconvert_exporter": "python",
   "pygments_lexer": "ipython3",
   "version": "3.11.7"
  }
 },
 "nbformat": 4,
 "nbformat_minor": 5
}
