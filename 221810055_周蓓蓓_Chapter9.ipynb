{
 "cells": [
  {
   "cell_type": "markdown",
   "id": "7939ee04-3c45-4028-8412-d04cc8f352d1",
   "metadata": {},
   "source": [
    "# 第九章 类"
   ]
  },
  {
   "cell_type": "code",
   "execution_count": null,
   "id": "53e88f2c-71e1-4ca6-aa44-d7b1496f3e05",
   "metadata": {},
   "outputs": [],
   "source": [
    "##面向编程对象（object-oriented programming,OOP)是最有效的软件编写方法之一。\n",
    "##基于表示现实中的事物与场景的类（class）来创建对象(object)\n",
    "##根据类来创建对象称为实例化，让人能够使用类的实例（instance）"
   ]
  },
  {
   "cell_type": "markdown",
   "id": "de090284-7077-4bf4-affe-ea568b189896",
   "metadata": {},
   "source": [
    "## 9.1 创建和使用类"
   ]
  },
  {
   "cell_type": "markdown",
   "id": "8168fe69-f9a3-4010-af36-01287d984214",
   "metadata": {},
   "source": [
    "### 9.1.1 创建Dog类"
   ]
  },
  {
   "cell_type": "code",
   "execution_count": 2,
   "id": "da5670c2-a172-4036-8f48-c47477afc262",
   "metadata": {},
   "outputs": [],
   "source": [
    "class Dog:\n",
    "    \"\"\"一次模拟小狗的简单尝试\"\"\"\n",
    "\n",
    "    def __init__(self, name, age):\n",
    "        \"\"\"初始化属性name和age\"\"\"\n",
    "        self.name = name\n",
    "        self.age = age\n",
    "\n",
    "    def sit(self):\n",
    "        \"\"\"模拟小狗收到命令时坐下\"\"\"\n",
    "        print(f\"{self.name} is now sitting.\")\n",
    "\n",
    "    def roll_over(self):\n",
    "        \"\"\"模拟小狗收到命令时打滚\"\"\"\n",
    "        print(f\"{self.name} rolled over!\")"
   ]
  },
  {
   "cell_type": "code",
   "execution_count": null,
   "id": "4a97b850-874e-4264-8051-0bb61094621c",
   "metadata": {},
   "outputs": [],
   "source": [
    "#__init__()方法\n",
    "##类中的函数被称为方法。__init__()是一个特殊方法，当根据Dog类创建新实例时，Python会自动运行它。\n",
    "##将__init__()定义为包含三个形参：self,name 和age.其中，self必不可少且在前面。\n",
    "##以self为前缀的变量可供类中的方法使用，可以通过类的任意实例来传递。\n",
    "##可通过实例访问的变量被称为属性（attribute)"
   ]
  },
  {
   "cell_type": "markdown",
   "id": "1469a26c-49a4-421f-818e-85d869041027",
   "metadata": {},
   "source": [
    "### 9.1.2 根据类创建实例"
   ]
  },
  {
   "cell_type": "code",
   "execution_count": 4,
   "id": "f2b20edd-42aa-46a4-838b-22652f41cc65",
   "metadata": {},
   "outputs": [
    {
     "name": "stdout",
     "output_type": "stream",
     "text": [
      "My dog's name is Willie.\n",
      "My dog is 6 years old.\n"
     ]
    },
    {
     "data": {
      "text/plain": [
       "'Willie'"
      ]
     },
     "execution_count": 4,
     "metadata": {},
     "output_type": "execute_result"
    }
   ],
   "source": [
    "class Dog:\n",
    "    \"\"\"一次模拟小狗的简单尝试\"\"\"\n",
    "\n",
    "    def __init__(self, name, age):\n",
    "        \"\"\"初始化属性name和age\"\"\"\n",
    "        self.name = name\n",
    "        self.age = age\n",
    "\n",
    "    def sit(self):\n",
    "        \"\"\"模拟小狗收到命令时坐下\"\"\"\n",
    "        print(f\"{self.name} is now sitting.\")\n",
    "\n",
    "    def roll_over(self):\n",
    "        \"\"\"模拟小狗收到命令时打滚\"\"\"\n",
    "        print(f\"{self.name} rolled over!\")\n",
    "my_dog = Dog('Willie', 6)\n",
    "\n",
    "print(f\"My dog's name is {my_dog.name}.\")\n",
    "print(f\"My dog is {my_dog.age} years old.\")\n",
    "#1.访问属性\n",
    "my_dog.name"
   ]
  },
  {
   "cell_type": "code",
   "execution_count": 5,
   "id": "3da14add-5835-4d13-8035-6ae2234f80b3",
   "metadata": {},
   "outputs": [
    {
     "name": "stdout",
     "output_type": "stream",
     "text": [
      "Willie is now sitting.\n",
      "Willie rolled over!\n"
     ]
    }
   ],
   "source": [
    "class Dog:\n",
    "    \"\"\"一次模拟小狗的简单尝试\"\"\"\n",
    "\n",
    "    def __init__(self, name, age):\n",
    "        \"\"\"初始化属性name和age\"\"\"\n",
    "        self.name = name\n",
    "        self.age = age\n",
    "\n",
    "    def sit(self):\n",
    "        \"\"\"模拟小狗收到命令时坐下\"\"\"\n",
    "        print(f\"{self.name} is now sitting.\")\n",
    "\n",
    "    def roll_over(self):\n",
    "        \"\"\"模拟小狗收到命令时打滚\"\"\"\n",
    "        print(f\"{self.name} rolled over!\")\n",
    "my_dog = Dog('Willie', 6)\n",
    "#2.调用方法\n",
    "my_dog.sit()\n",
    "my_dog.roll_over()"
   ]
  },
  {
   "cell_type": "code",
   "execution_count": 7,
   "id": "f0677995-1632-4bfb-a41d-0b16ea8c0a4c",
   "metadata": {},
   "outputs": [
    {
     "name": "stdout",
     "output_type": "stream",
     "text": [
      "My dog's name is Willie.\n",
      "My dog is 6 years old.\n",
      "Willie is now sitting.\n",
      "\n",
      "Your dog's name is Lucy.\n",
      "Your dog is 3 years old.\n",
      "Lucy rolled over!\n"
     ]
    }
   ],
   "source": [
    "class Dog:\n",
    "    \"\"\"一次模拟小狗的简单尝试\"\"\"\n",
    "    def __init__(self, name, age):\n",
    "        \"\"\"初始化属性name和age\"\"\"\n",
    "        self.name = name\n",
    "        self.age = age\n",
    "\n",
    "    def sit(self):\n",
    "        \"\"\"模拟小狗收到命令时坐下\"\"\"\n",
    "        print(f\"{self.name} is now sitting.\")\n",
    "\n",
    "    def roll_over(self):\n",
    "        \"\"\"模拟小狗收到命令时打滚\"\"\"\n",
    "        print(f\"{self.name} rolled over!\")\n",
    "my_dog = Dog('Willie', 6)\n",
    "your_dog = Dog('Lucy',3)\n",
    "#3.创建多个实例\n",
    "print(f\"My dog's name is {my_dog.name}.\")\n",
    "print(f\"My dog is {my_dog.age} years old.\")\n",
    "my_dog.sit()\n",
    "\n",
    "print(f\"\\nYour dog's name is {your_dog.name}.\")\n",
    "print(f\"Your dog is {your_dog.age} years old.\")\n",
    "your_dog.roll_over()"
   ]
  },
  {
   "cell_type": "markdown",
   "id": "2a235388-a23c-4619-b890-79425899caf9",
   "metadata": {},
   "source": [
    "### 动手试一试"
   ]
  },
  {
   "cell_type": "code",
   "execution_count": 1,
   "id": "c656c683-71d0-4d49-8d67-e94f2f5368bc",
   "metadata": {},
   "outputs": [
    {
     "name": "stdout",
     "output_type": "stream",
     "text": [
      "Kfc\n",
      "fried chicken\n",
      "Kfc serves wonderful fried chicken.\n",
      "Kfc is open.Welcome!\n"
     ]
    }
   ],
   "source": [
    "#9.1 餐馆\n",
    "class Restaurant:\n",
    "    \"\"\"一个表示餐馆的类\"\"\"\n",
    "    def __init__(self,name,cuisine_type):\n",
    "        \"\"\"初始化餐馆\"\"\"\n",
    "        self.name = name.title()\n",
    "        self.cuisine_type = cuisine_type\n",
    "    def describe_restaurant(self):\n",
    "        \"\"\"显示两项信息\"\"\"\n",
    "        print(f\"{self.name} serves wonderful {self.cuisine_type}.\")\n",
    "    def open_restaurant(self):\n",
    "        \"\"\"显示消息指出餐馆正在营业\"\"\"\n",
    "        print(f\"{self.name} is open.Welcome!\")\n",
    "restaurant = Restaurant('KFC','fried chicken')\n",
    "print(restaurant.name)\n",
    "print(restaurant.cuisine_type)\n",
    "restaurant.describe_restaurant()\n",
    "restaurant.open_restaurant()"
   ]
  },
  {
   "cell_type": "code",
   "execution_count": 2,
   "id": "0b8a1c0b-0268-4a32-9c22-7d3a13b02d7c",
   "metadata": {},
   "outputs": [
    {
     "name": "stdout",
     "output_type": "stream",
     "text": [
      "Kfc serves wonderful fried chicken.\n",
      "Nanjing_Impression serves wonderful nanjing food.\n",
      "Haidilao serves wonderful hot pot.\n"
     ]
    }
   ],
   "source": [
    "#9.2 三家餐馆\n",
    "class Restaurant:\n",
    "    \"\"\"一个表示餐馆的类\"\"\"\n",
    "    def __init__(self,name,cuisine_type):\n",
    "        \"\"\"初始化餐馆\"\"\"\n",
    "        self.name = name.title()\n",
    "        self.cuisine_type = cuisine_type\n",
    "    def describe_restaurant(self):\n",
    "        \"\"\"显示两项信息\"\"\"\n",
    "        print(f\"{self.name} serves wonderful {self.cuisine_type}.\")\n",
    "    def open_restaurant(self):\n",
    "        \"\"\"显示消息指出餐馆正在营业\"\"\"\n",
    "        print(f\"{self.name} is open.Welcome!\")\n",
    "kfc = Restaurant('KFC','fried chicken')\n",
    "kfc.describe_restaurant()\n",
    "\n",
    "nanjing_impression = Restaurant('nanjing_impression','nanjing food')\n",
    "nanjing_impression.describe_restaurant()\n",
    "\n",
    "haidilao = Restaurant('haidilao','hot pot')\n",
    "haidilao.describe_restaurant()"
   ]
  },
  {
   "cell_type": "code",
   "execution_count": 6,
   "id": "15dc33f8-b376-4ff6-a0d0-8de05f696d95",
   "metadata": {},
   "outputs": [
    {
     "name": "stdout",
     "output_type": "stream",
     "text": [
      "\n",
      "Anna Smith\n",
      " Username:aaannnaaa\n",
      " Email:anansmith@163.com\n",
      " Location:Shanghai\n",
      "\n",
      "Welcome, aaannnaaa!\n",
      "\n",
      "Bob Jones\n",
      " Username:bj\n",
      " Email:b_jones@163.com\n",
      " Location:Guangzhou\n",
      "\n",
      "Welcome, bj!\n"
     ]
    }
   ],
   "source": [
    "#9.3 用户\n",
    "class User:\n",
    "    \"\"\"一个表示用户的类\"\"\"\n",
    "    def __init__(self,first_name,last_name,username,email,location):\n",
    "        \"\"\"初始化用户\"\"\"\n",
    "        self.first_name = first_name.title()\n",
    "        self.last_name = last_name.title()\n",
    "        self.username = username\n",
    "        self.email = email\n",
    "        self.location = location.title()\n",
    "    def describe_user(self):\n",
    "        \"\"\"显示用户信息\"\"\"\n",
    "        print(f\"\\n{self.first_name} {self.last_name}\")\n",
    "        print(f\" Username:{self.username}\")\n",
    "        print(f\" Email:{self.email}\")\n",
    "        print(f\" Location:{self.location}\")\n",
    "    def greet_user(self):\n",
    "        \"\"\"向用户发出个性化问候\"\"\"\n",
    "        print(f\"\\nWelcome, {self.username}!\")\n",
    "anna = User('anna','smith','aaannnaaa','anansmith@163.com','shanghai')\n",
    "anna.describe_user()\n",
    "anna.greet_user()\n",
    "\n",
    "bob = User('bob','Jones','bj','b_jones@163.com','guangzhou')\n",
    "bob.describe_user()\n",
    "bob.greet_user()"
   ]
  },
  {
   "cell_type": "markdown",
   "id": "1eb1f409-658d-4054-a697-5054ac8e0e16",
   "metadata": {},
   "source": [
    "## 9.2 使用类和实例 "
   ]
  },
  {
   "cell_type": "markdown",
   "id": "3e480129-6796-4819-a35d-6c288a4be705",
   "metadata": {},
   "source": [
    "### 9.2.1 Car实例"
   ]
  },
  {
   "cell_type": "code",
   "execution_count": 9,
   "id": "d988fb82-e74c-4a01-aa98-bf78f37733b7",
   "metadata": {},
   "outputs": [
    {
     "name": "stdout",
     "output_type": "stream",
     "text": [
      "2024 Audi A4\n"
     ]
    }
   ],
   "source": [
    "class Car:\n",
    "    \"\"\"一次模拟汽车的简单尝试\"\"\"\n",
    "\n",
    "    def __init__(self, make, model, year):\n",
    "        \"\"\"初始化描述汽车的属性\"\"\"\n",
    "        self.make = make\n",
    "        self.model = model\n",
    "        self.year = year\n",
    "\n",
    "    def get_descriptive_name(self):\n",
    "        \"\"\"返回格式规范的描述性信息\"\"\"\n",
    "        long_name = f\"{self.year} {self.make} {self.model}\"\n",
    "        return long_name.title()\n",
    "\n",
    "my_new_car = Car('audi', 'a4', 2024)\n",
    "print(my_new_car.get_descriptive_name())"
   ]
  },
  {
   "cell_type": "markdown",
   "id": "3d6cdf19-059c-4a4e-a773-216675f8eb9e",
   "metadata": {},
   "source": [
    "### 9.2.2 给属性指定默认值"
   ]
  },
  {
   "cell_type": "code",
   "execution_count": 10,
   "id": "fe8a8bc0-7bd3-4fc6-b832-b10d5668ef89",
   "metadata": {},
   "outputs": [
    {
     "name": "stdout",
     "output_type": "stream",
     "text": [
      "2024 Audi A4\n",
      "This car has 0 miles on it.\n"
     ]
    }
   ],
   "source": [
    "class Car:\n",
    "    \"\"\"一次模拟汽车的简单尝试\"\"\"\n",
    "\n",
    "    def __init__(self, make, model, year):\n",
    "        \"\"\"初始化描述汽车的属性\"\"\"\n",
    "        self.make = make\n",
    "        self.model = model\n",
    "        self.year = year\n",
    "        self.odometer_reading = 0\n",
    "\n",
    "    def get_descriptive_name(self):\n",
    "        \"\"\"返回格式规范的描述性信息\"\"\"\n",
    "        long_name = f\"{self.year} {self.make} {self.model}\"\n",
    "        return long_name.title()\n",
    "\n",
    "    def read_odometer(self):\n",
    "        \"\"\"打印一条指出汽车行驶里程的消息\"\"\"\n",
    "        print(f\"This car has {self.odometer_reading} miles on it.\")\n",
    "\n",
    "my_new_car = Car('audi', 'a4', 2024)\n",
    "print(my_new_car.get_descriptive_name())\n",
    "my_new_car.read_odometer()"
   ]
  },
  {
   "cell_type": "markdown",
   "id": "f45341b9-c085-44f2-af1d-e7b1c730c362",
   "metadata": {},
   "source": [
    "### 9.2.3 修改属性的值"
   ]
  },
  {
   "cell_type": "code",
   "execution_count": 11,
   "id": "f71683b4-acb7-4f14-94d7-5654bd82e2f1",
   "metadata": {},
   "outputs": [
    {
     "name": "stdout",
     "output_type": "stream",
     "text": [
      "2024 Audi A4\n",
      "This car has 23 miles on it.\n"
     ]
    }
   ],
   "source": [
    "#1.直接修改属性的值\n",
    "class Car:\n",
    "    \"\"\"一次模拟汽车的简单尝试\"\"\"\n",
    "\n",
    "    def __init__(self, make, model, year):\n",
    "        \"\"\"初始化描述汽车的属性\"\"\"\n",
    "        self.make = make\n",
    "        self.model = model\n",
    "        self.year = year\n",
    "        self.odometer_reading = 0\n",
    "\n",
    "    def get_descriptive_name(self):\n",
    "        \"\"\"返回格式规范的描述性信息\"\"\"\n",
    "        long_name = f\"{self.year} {self.make} {self.model}\"\n",
    "        return long_name.title()\n",
    "\n",
    "    def read_odometer(self):\n",
    "        \"\"\"打印一条指出汽车行驶里程的消息\"\"\"\n",
    "        print(f\"This car has {self.odometer_reading} miles on it.\")\n",
    "\n",
    "my_new_car = Car('audi', 'a4', 2024)\n",
    "print(my_new_car.get_descriptive_name())\n",
    "my_new_car.odometer_reading = 23\n",
    "my_new_car.read_odometer()"
   ]
  },
  {
   "cell_type": "code",
   "execution_count": 12,
   "id": "7f80c50b-9984-4f42-83e3-e47a57c80d1d",
   "metadata": {},
   "outputs": [
    {
     "name": "stdout",
     "output_type": "stream",
     "text": [
      "2024 Audi A4\n",
      "This car has 23 miles on it.\n"
     ]
    }
   ],
   "source": [
    "#2.通过方法修改属性的值\n",
    "class Car:\n",
    "    \"\"\"一次模拟汽车的简单尝试\"\"\"\n",
    "\n",
    "    def __init__(self, make, model, year):\n",
    "        \"\"\"初始化描述汽车的属性\"\"\"\n",
    "        self.make = make\n",
    "        self.model = model\n",
    "        self.year = year\n",
    "        self.odometer_reading = 0\n",
    "\n",
    "    def get_descriptive_name(self):\n",
    "        \"\"\"返回格式规范的描述性信息\"\"\"\n",
    "        long_name = f\"{self.year} {self.make} {self.model}\"\n",
    "        return long_name.title()\n",
    "\n",
    "    def read_odometer(self):\n",
    "        \"\"\"打印一条指出汽车行驶里程的消息\"\"\"\n",
    "        print(f\"This car has {self.odometer_reading} miles on it.\")\n",
    "    \n",
    "    def update_odometer(self,mileage):\n",
    "        \"\"\"将里程表读数设置为指定的值\"\"\"\n",
    "        self.odometer_reading = mileage\n",
    "my_new_car = Car('audi', 'a4', 2024)\n",
    "print(my_new_car.get_descriptive_name())\n",
    "my_new_car.update_odometer(23)\n",
    "my_new_car.read_odometer()"
   ]
  },
  {
   "cell_type": "code",
   "execution_count": 11,
   "id": "71a35df1-2c37-4ea9-bcb8-1bc979815a57",
   "metadata": {},
   "outputs": [
    {
     "name": "stdout",
     "output_type": "stream",
     "text": [
      "2024 Audi A4\n",
      "This car has 23 miles on it.\n"
     ]
    }
   ],
   "source": [
    "class Car:\n",
    "    \"\"\"一次模拟汽车的简单尝试\"\"\"\n",
    "\n",
    "    def __init__(self, make, model, year):\n",
    "        \"\"\"初始化描述汽车的属性\"\"\"\n",
    "        self.make = make\n",
    "        self.model = model\n",
    "        self.year = year\n",
    "        self.odometer_reading = 0\n",
    "\n",
    "    def get_descriptive_name(self):\n",
    "        \"\"\"返回格式规范的描述性信息\"\"\"\n",
    "        long_name = f\"{self.year} {self.make} {self.model}\"\n",
    "        return long_name.title()\n",
    "\n",
    "    def read_odometer(self):\n",
    "        \"\"\"打印一条指出汽车行驶里程的消息\"\"\"\n",
    "        print(f\"This car has {self.odometer_reading} miles on it.\")\n",
    "    \n",
    "    def update_odometer(self,mileage):\n",
    "        \"\"\"将里程表读数设置为指定的值\n",
    "       禁止将里程表读数往回调\"\"\"\n",
    "        if mileage >= self.odometer_reading:\n",
    "            self.odometer_reading = mileage\n",
    "        else:\n",
    "            print(\"You can't roll back an odometer!\")\n",
    "\n",
    "my_new_car = Car('audi', 'a4', 2024)\n",
    "print(my_new_car.get_descriptive_name())\n",
    "my_new_car.update_odometer(23)\n",
    "my_new_car.read_odometer()"
   ]
  },
  {
   "cell_type": "code",
   "execution_count": 12,
   "id": "0c51d694-96a4-4c4f-bd52-6cf389b1f5c9",
   "metadata": {},
   "outputs": [
    {
     "name": "stdout",
     "output_type": "stream",
     "text": [
      "2019 Subaru Outback\n",
      "This car has 23500 miles on it.\n",
      "This car has 23600 miles on it.\n"
     ]
    }
   ],
   "source": [
    "#3.通过方法让属性的值递增\n",
    "class Car:\n",
    "    \"\"\"一次模拟汽车的简单尝试\"\"\"\n",
    "\n",
    "    def __init__(self, make, model, year):\n",
    "        \"\"\"初始化描述汽车的属性\"\"\"\n",
    "        self.make = make\n",
    "        self.model = model\n",
    "        self.year = year\n",
    "        self.odometer_reading = 0\n",
    "\n",
    "    def get_descriptive_name(self):\n",
    "        \"\"\"返回格式规范的描述性信息\"\"\"\n",
    "        long_name = f\"{self.year} {self.make} {self.model}\"\n",
    "        return long_name.title()\n",
    "\n",
    "    def read_odometer(self):\n",
    "        \"\"\"打印一条指出汽车行驶里程的消息\"\"\"\n",
    "        print(f\"This car has {self.odometer_reading} miles on it.\")\n",
    "    \n",
    "    def update_odometer(self,mileage):\n",
    "        \"\"\"将里程表读数设置为指定的值\n",
    "       禁止将里程表读数往回调\"\"\"\n",
    "        if mileage >= self.odometer_reading:\n",
    "            self.odometer_reading = mileage\n",
    "        else:\n",
    "            print(\"You can't roll back an odometer!\")\n",
    "\n",
    "    def increment_odometer(self, miles):\n",
    "        \"\"\"Add the given amount to the odometer reading.\"\"\"\n",
    "        self.odometer_reading += miles\n",
    "\n",
    "\n",
    "my_used_car = Car('subaru', 'outback', 2019)\n",
    "print(my_used_car.get_descriptive_name())\n",
    "\n",
    "my_used_car.update_odometer(23_500)\n",
    "my_used_car.read_odometer()\n",
    "\n",
    "my_used_car.increment_odometer(100)\n",
    "my_used_car.read_odometer()"
   ]
  },
  {
   "cell_type": "markdown",
   "id": "3080b1cf-0d1f-4fc9-8cf5-859c001872db",
   "metadata": {},
   "source": [
    "### 动手试一试"
   ]
  },
  {
   "cell_type": "code",
   "execution_count": 7,
   "id": "eb28f60b-4c87-46be-9ebb-1d8ca76b0510",
   "metadata": {},
   "outputs": [
    {
     "name": "stdout",
     "output_type": "stream",
     "text": [
      "Kfc serves wonderful fried chicken.\n",
      "\n",
      "Number served:0\n",
      "Number served:300\n",
      "Number served: 500\n",
      "Number served: 750\n"
     ]
    }
   ],
   "source": [
    "#9.4就餐人数\n",
    "class Restaurant:\n",
    "    \"\"\"一个表示餐馆的类\"\"\"\n",
    "    def __init__(self,name,cuisine_type):\n",
    "        \"\"\"初始化餐馆\"\"\"\n",
    "        self.name = name.title()\n",
    "        self.cuisine_type = cuisine_type\n",
    "        self.number_served = 0\n",
    "        \n",
    "    def describe_restaurant(self):\n",
    "        \"\"\"显示两项信息\"\"\"\n",
    "        print(f\"{self.name} serves wonderful {self.cuisine_type}.\")\n",
    "    def open_restaurant(self):\n",
    "        \"\"\"显示消息指出餐馆正在营业\"\"\"\n",
    "        print(f\"{self.name} is open.Welcome!\")\n",
    "\n",
    "    def set_number_served(self,number_served):\n",
    "        \"\"\"设置用餐人数\"\"\"\n",
    "        self.number_served = number_served\n",
    "\n",
    "    def increment_number_served(self,additional_served):\n",
    "        \"\"\"用来让就餐人数递增\"\"\"\n",
    "        self.number_served += additional_served\n",
    "        \n",
    "restaurant = Restaurant('KFC','fried chicken')\n",
    "restaurant.describe_restaurant()\n",
    "\n",
    "print(f\"\\nNumber served:{restaurant.number_served}\")\n",
    "restaurant.number_served = 300\n",
    "print(f\"Number served:{restaurant.number_served}\")\n",
    "\n",
    "restaurant.set_number_served(500)\n",
    "print(f\"Number served: {restaurant.number_served}\")\n",
    "\n",
    "restaurant.increment_number_served(250)\n",
    "print(f\"Number served: {restaurant.number_served}\")"
   ]
  },
  {
   "cell_type": "code",
   "execution_count": null,
   "id": "42a15fcf-ad32-40cb-9557-22a64b7d349c",
   "metadata": {},
   "outputs": [],
   "source": [
    "#9.5尝试登陆次数\n",
    "class User:\n",
    "    \"\"\"一个表示用户的类\"\"\"\n",
    "    def __init__(self,first_name,last_name,username,email,location):\n",
    "        \"\"\"初始化用户\"\"\"\n",
    "        self.first_name = first_name.title()\n",
    "        self.last_name = last_name.title()\n",
    "        self.username = username\n",
    "        self.email = email\n",
    "        self.location = location.title()\n",
    "        self.login_attempts = 0\n",
    "        \n",
    "    def describe_user(self):\n",
    "        \"\"\"显示用户信息\"\"\"\n",
    "        print(f\"\\n{self.first_name} {self.last_name}\")\n",
    "        print(f\" Username:{self.username}\")\n",
    "        print(f\" Email:{self.email}\")\n",
    "        print(f\" Location:{self.location}\")\n",
    "    def greet_user(self):\n",
    "        \"\"\"向用户发出个性化问候\"\"\"\n",
    "        print(f\"\\nWelcome, {self.username}!\")\n",
    "\n",
    "    def increment_login_attempts(self):\n",
    "        \"\"\"将属性login_attempts的值加1\"\"\"\n",
    "        self.login_attempts += 1\n",
    "\n",
    "    def reset_login_attempts(self):\n",
    "        \"\"\"将属性login_attempts的值充值为0\"\"\"\n",
    "        self.login_attempts = 0\n",
    "        \n",
    "anna = User('anna','smith','aaannnaaa','anansmith@163.com','shanghai')\n",
    "anna.describe_user()\n",
    "anna.greet_user()\n",
    "print(\"\\n"
   ]
  },
  {
   "cell_type": "markdown",
   "id": "f06edfcf-265e-4e4c-84e8-2eb091676d96",
   "metadata": {},
   "source": [
    "## 9.3继承"
   ]
  },
  {
   "cell_type": "markdown",
   "id": "73d38155-9d68-4682-9233-b0be584f6d02",
   "metadata": {},
   "source": [
    "### 9.3.1子类的__init__()方法"
   ]
  },
  {
   "cell_type": "code",
   "execution_count": 14,
   "id": "920485d9-1d06-4c52-8662-2b08eb1e52ee",
   "metadata": {},
   "outputs": [
    {
     "name": "stdout",
     "output_type": "stream",
     "text": [
      "2024 Nissan Leaf\n"
     ]
    }
   ],
   "source": [
    "### 9.3.1子类的__init__()方法\n",
    "class Car:\n",
    "    \"\"\"一次模拟汽车的简单尝试\"\"\"\n",
    "\n",
    "    def __init__(self, make, model, year):\n",
    "        \"\"\"初始化描述汽车的属性\"\"\"\n",
    "        self.make = make\n",
    "        self.model = model\n",
    "        self.year = year\n",
    "        self.odometer_reading = 0\n",
    "\n",
    "    def get_descriptive_name(self):\n",
    "        \"\"\"返回格式规范的描述性名称\"\"\"\n",
    "        long_name = f\"{self.year} {self.make} {self.model}\"\n",
    "        return long_name.title()\n",
    "\n",
    "    def read_odometer(self):\n",
    "        \"\"\"打印一个句子，指出汽车的行驶里程\"\"\"\n",
    "        print(f\"This car has {self.odometer_reading} miles on it.\")\n",
    "\n",
    "    def update_odometer(self, mileage):\n",
    "        \"\"\"将里程表读数设置为给定的值\"\"\"\n",
    "        if mileage >= self.odometer_reading:\n",
    "            self.odometer_reading = mileage\n",
    "        else:\n",
    "            print(\"You can't roll back an odometer!\")\n",
    "\n",
    "    def increment_odometer(self, miles):\n",
    "        \"\"\"让里程表读数增加给定的量\"\"\"\n",
    "        self.odometer_reading += miles\n",
    "\n",
    "class ElectricCar(Car):\n",
    "    \"\"\"电动汽车的独特之处\"\"\"\n",
    "\n",
    "    def __init__(self, make, model, year):\n",
    "        \"\"\"初始化父类的属性\"\"\"\n",
    "        super().__init__(make, model, year)\n",
    "\n",
    "my_leaf = ElectricCar('nissan', 'leaf', 2024)\n",
    "print(my_leaf.get_descriptive_name())"
   ]
  },
  {
   "cell_type": "markdown",
   "id": "b60476e7-cccb-4513-9b74-477e2c1ca72c",
   "metadata": {},
   "source": [
    "### 9.3.2 给子类定义属性和方法"
   ]
  },
  {
   "cell_type": "code",
   "execution_count": 16,
   "id": "68eb1f8f-f967-45ec-8d63-80ea8b0482b1",
   "metadata": {},
   "outputs": [
    {
     "name": "stdout",
     "output_type": "stream",
     "text": [
      "2024 Nissan Leaf\n",
      "This car has a 40-kWh battery.\n"
     ]
    }
   ],
   "source": [
    "#9.3.2 给子类定义属性和方法\n",
    "class Car:\n",
    "    \"\"\"一次模拟汽车的简单尝试\"\"\"\n",
    "\n",
    "    def __init__(self, make, model, year):\n",
    "        \"\"\"初始化描述汽车的属性\"\"\"\n",
    "        self.make = make\n",
    "        self.model = model\n",
    "        self.year = year\n",
    "        self.odometer_reading = 0\n",
    "\n",
    "    def get_descriptive_name(self):\n",
    "        \"\"\"返回格式规范的描述性名称\"\"\"\n",
    "        long_name = f\"{self.year} {self.make} {self.model}\"\n",
    "        return long_name.title()\n",
    "\n",
    "    def read_odometer(self):\n",
    "        \"\"\"打印一个句子，指出汽车的行驶里程\"\"\"\n",
    "        print(f\"This car has {self.odometer_reading} miles on it.\")\n",
    "\n",
    "    def update_odometer(self, mileage):\n",
    "        \"\"\"将里程表读数设置为给定的值\"\"\"\n",
    "        if mileage >= self.odometer_reading:\n",
    "            self.odometer_reading = mileage\n",
    "        else:\n",
    "            print(\"You can't roll back an odometer!\")\n",
    "\n",
    "    def increment_odometer(self, miles):\n",
    "        \"\"\"让里程表读数增加给定的量\"\"\"\n",
    "        self.odometer_reading += miles\n",
    "\n",
    "class ElectricCar(Car):\n",
    "    \"\"\"电动汽车的独特之处\"\"\"\n",
    "\n",
    "    def __init__(self, make, model, year):\n",
    "        \"\"\"先初始化父类的属性，再初始化电动汽车的特有的属性\"\"\"\n",
    "        super().__init__(make, model, year)\n",
    "        self.battery_size = 40\n",
    "        \n",
    "    def describe_battery(self):\n",
    "        \"\"\"打印一条描述电池容量的消息\"\"\"\n",
    "        print(f\"This car has a {self.battery_size}-kWh battery.\")\n",
    "\n",
    "my_leaf = ElectricCar('nissan', 'leaf', 2024)\n",
    "print(my_leaf.get_descriptive_name())\n",
    "my_leaf.describe_battery()"
   ]
  },
  {
   "cell_type": "markdown",
   "id": "0c69093e-8183-4593-ad70-84d3279124b5",
   "metadata": {},
   "source": [
    "### 9.3.3 重写父类中的方法"
   ]
  },
  {
   "cell_type": "code",
   "execution_count": 19,
   "id": "542fd7d1-606e-46f8-8c3c-cc45b0ee88d1",
   "metadata": {},
   "outputs": [],
   "source": [
    "class Car:\n",
    "    \"\"\"一次模拟汽车的简单尝试\"\"\"\n",
    "\n",
    "    def __init__(self, make, model, year):\n",
    "        \"\"\"初始化描述汽车的属性\"\"\"\n",
    "        self.make = make\n",
    "        self.model = model\n",
    "        self.year = year\n",
    "        self.odometer_reading = 0\n",
    "\n",
    "    def get_descriptive_name(self):\n",
    "        \"\"\"返回格式规范的描述性名称\"\"\"\n",
    "        long_name = f\"{self.year} {self.make} {self.model}\"\n",
    "        return long_name.title()\n",
    "\n",
    "    def read_odometer(self):\n",
    "        \"\"\"打印一个句子，指出汽车的行驶里程\"\"\"\n",
    "        print(f\"This car has {self.odometer_reading} miles on it.\")\n",
    "\n",
    "    def update_odometer(self, mileage):\n",
    "        \"\"\"将里程表读数设置为给定的值\"\"\"\n",
    "        if mileage >= self.odometer_reading:\n",
    "            self.odometer_reading = mileage\n",
    "        else:\n",
    "            print(\"You can't roll back an odometer!\")\n",
    "\n",
    "    def increment_odometer(self, miles):\n",
    "        \"\"\"让里程表读数增加给定的量\"\"\"\n",
    "        self.odometer_reading += miles\n",
    "\n",
    "class ElectricCar(Car):\n",
    "    \"\"\"电动汽车的独特之处\"\"\"\n",
    "\n",
    "    def __init__(self, make, model, year):\n",
    "        \"\"\"先初始化父类的属性，再初始化电动汽车的特有的属性\"\"\"\n",
    "        super().__init__(make, model, year)\n",
    "        self.battery_size = 40\n",
    "        \n",
    "    def describe_battery(self):\n",
    "        \"\"\"打印一条描述电池容量的消息\"\"\"\n",
    "        print(f\"This car has a {self.battery_size}-kWh battery.\")\n",
    "\n",
    "    def fill_gas_tank(self):\n",
    "        \"\"\"电动汽车没有油箱\"\"\"\n",
    "        print(\"This car doesn't have a gas tank!\")\n",
    "#如果父类中的一些方法不能满足子类的需求，就可以：在子类中定义一个与要重写的父类方法同名的方法"
   ]
  },
  {
   "cell_type": "markdown",
   "id": "b65e2660-a550-4abb-94c0-e28fb794c7f0",
   "metadata": {},
   "source": [
    "### 9.3.4 将实例用作属性"
   ]
  },
  {
   "cell_type": "code",
   "execution_count": 20,
   "id": "dbdecdb3-1349-4661-86d9-df027f1dd390",
   "metadata": {},
   "outputs": [
    {
     "name": "stdout",
     "output_type": "stream",
     "text": [
      "2024 Nissan Leaf\n",
      "This car has a 40-kWh battery.\n"
     ]
    }
   ],
   "source": [
    "class Car:\n",
    "    \"\"\"一次模拟汽车的简单尝试\"\"\"\n",
    "\n",
    "    def __init__(self, make, model, year):\n",
    "        \"\"\"初始化描述汽车的属性\"\"\"\n",
    "        self.make = make\n",
    "        self.model = model\n",
    "        self.year = year\n",
    "        self.odometer_reading = 0\n",
    "\n",
    "    def get_descriptive_name(self):\n",
    "        \"\"\"返回格式规范的描述性名称\"\"\"\n",
    "        long_name = f\"{self.year} {self.make} {self.model}\"\n",
    "        return long_name.title()\n",
    "\n",
    "    def read_odometer(self):\n",
    "        \"\"\"打印一个句子，指出汽车的行驶里程\"\"\"\n",
    "        print(f\"This car has {self.odometer_reading} miles on it.\")\n",
    "\n",
    "    def update_odometer(self, mileage):\n",
    "        \"\"\"将里程表读数设置为给定的值\"\"\"\n",
    "        if mileage >= self.odometer_reading:\n",
    "            self.odometer_reading = mileage\n",
    "        else:\n",
    "            print(\"You can't roll back an odometer!\")\n",
    "\n",
    "    def increment_odometer(self, miles):\n",
    "        \"\"\"让里程表读数增加给定的量\"\"\"\n",
    "        self.odometer_reading += miles\n",
    "\n",
    "class Battery:\n",
    "    \"\"\"一次模拟电动汽车电池的简单尝试\"\"\"\n",
    "\n",
    "    def __init__(self, battery_size=40):\n",
    "        \"\"\"初始化电池的属性\"\"\"\n",
    "        self.battery_size = battery_size\n",
    "\n",
    "    def describe_battery(self):\n",
    "        \"\"\"打印一条描述电池容量的消息\"\"\"\n",
    "        print(f\"This car has a {self.battery_size}-kWh battery.\")\n",
    "\n",
    "\n",
    "class ElectricCar(Car):\n",
    "    \"\"\"电动汽车的独特之处\"\"\"\n",
    "\n",
    "    def __init__(self, make, model, year):\n",
    "        \"\"\"\n",
    "        先初始化父类的属性，再初始化电动汽车特有的属性\n",
    "        \"\"\"\n",
    "        super().__init__(make, model, year)\n",
    "        self.battery = Battery()\n",
    "\n",
    "\n",
    "my_leaf = ElectricCar('nissan', 'leaf', 2024)\n",
    "print(my_leaf.get_descriptive_name())\n",
    "my_leaf.battery.describe_battery()"
   ]
  },
  {
   "cell_type": "markdown",
   "id": "d6f470b7-69cf-44c3-ab7a-b1a118a4708f",
   "metadata": {},
   "source": [
    "### 9.3.5 模拟实物"
   ]
  },
  {
   "cell_type": "code",
   "execution_count": 22,
   "id": "4ce7416b-28d8-4eab-9466-76afbb5f4152",
   "metadata": {},
   "outputs": [
    {
     "name": "stdout",
     "output_type": "stream",
     "text": [
      "2024 Nissan Leaf\n",
      "This car has a 40-kWh battery.\n",
      "This car can go about 150 miles on a full charge.\n"
     ]
    }
   ],
   "source": [
    "class Car:\n",
    "    \"\"\"一次模拟汽车的简单尝试\"\"\"\n",
    "\n",
    "    def __init__(self, make, model, year):\n",
    "        \"\"\"初始化描述汽车的属性\"\"\"\n",
    "        self.make = make\n",
    "        self.model = model\n",
    "        self.year = year\n",
    "        self.odometer_reading = 0\n",
    "\n",
    "    def get_descriptive_name(self):\n",
    "        \"\"\"返回格式规范的描述性名称\"\"\"\n",
    "        long_name = f\"{self.year} {self.make} {self.model}\"\n",
    "        return long_name.title()\n",
    "\n",
    "    def read_odometer(self):\n",
    "        \"\"\"打印一个句子，指出汽车的行驶里程\"\"\"\n",
    "        print(f\"This car has {self.odometer_reading} miles on it.\")\n",
    "\n",
    "    def update_odometer(self, mileage):\n",
    "        \"\"\"将里程表读数设置为给定的值\"\"\"\n",
    "        if mileage >= self.odometer_reading:\n",
    "            self.odometer_reading = mileage\n",
    "        else:\n",
    "            print(\"You can't roll back an odometer!\")\n",
    "\n",
    "    def increment_odometer(self, miles):\n",
    "        \"\"\"让里程表读数增加给定的量\"\"\"\n",
    "        self.odometer_reading += miles\n",
    "\n",
    "class Battery:\n",
    "    \"\"\"一次模拟电动汽车电池的简单尝试\"\"\"\n",
    "\n",
    "    def __init__(self, battery_size=40):\n",
    "        \"\"\"初始化电池的属性\"\"\"\n",
    "        self.battery_size = battery_size\n",
    "\n",
    "    def describe_battery(self):\n",
    "        \"\"\"打印一条描述电池容量的消息\"\"\"\n",
    "        print(f\"This car has a {self.battery_size}-kWh battery.\")\n",
    "    def get_range(self):\n",
    "        \"\"\"打印一条信息，指出电池的续航里程\"\"\"\n",
    "        if self.battery_size == 40:\n",
    "            range = 150\n",
    "        elif self.battery_size == 65:\n",
    "            range = 225\n",
    "\n",
    "        print(f\"This car can go about {range} miles on a full charge.\")\n",
    "\n",
    "class ElectricCar(Car):\n",
    "    \"\"\"电动汽车的独特之处\"\"\"\n",
    "\n",
    "    def __init__(self, make, model, year):\n",
    "        \"\"\"\n",
    "        先初始化父类的属性，再初始化电动汽车特有的属性\n",
    "        \"\"\"\n",
    "        super().__init__(make, model, year)\n",
    "        self.battery = Battery()\n",
    "\n",
    "\n",
    "my_leaf = ElectricCar('nissan', 'leaf', 2024)\n",
    "print(my_leaf.get_descriptive_name())\n",
    "my_leaf.battery.describe_battery()\n",
    "my_leaf.battery.get_range()"
   ]
  },
  {
   "cell_type": "markdown",
   "id": "c0083b2a-7e7f-41ac-83a2-f951c30d6966",
   "metadata": {},
   "source": [
    "### 动手试一试"
   ]
  },
  {
   "cell_type": "code",
   "execution_count": 7,
   "id": "2f5a8180-56d4-44a7-948b-3f9fa00f18cd",
   "metadata": {},
   "outputs": [
    {
     "name": "stdout",
     "output_type": "stream",
     "text": [
      "Icy World serves wonderful ice cream.\n",
      "\n",
      "We have these flavors:\n",
      "-Chocolate\n",
      "-Vanilla\n",
      "-Strawberry\n"
     ]
    }
   ],
   "source": [
    "#练习9.6 冰淇淋小店\n",
    "class Restaurant:\n",
    "    \"\"\"一个表示餐馆的类\"\"\"\n",
    "    def __init__(self,name,cuisine_type):\n",
    "        \"\"\"初始化餐馆\"\"\"\n",
    "        self.name = name.title()\n",
    "        self.cuisine_type = cuisine_type\n",
    "    def describe_restaurant(self):\n",
    "        \"\"\"显示两项信息\"\"\"\n",
    "        print(f\"{self.name} serves wonderful {self.cuisine_type}.\")\n",
    "    def open_restaurant(self):\n",
    "        \"\"\"显示消息指出餐馆正在营业\"\"\"\n",
    "        print(f\"{self.name} is open.Welcome!\")\n",
    "\n",
    "class IceCreamStand(Restaurant):\n",
    "    def __init__(self, name, cuisine_type='ice cream'):\n",
    "        super().__init__(name, cuisine_type)\n",
    "        self.flavors = []\n",
    "    def show_flavors(self):\n",
    "        print(\"\\nWe have these flavors:\")\n",
    "        for flavor in self.flavors:\n",
    "            print(f\"-{flavor.title()}\")\n",
    "\n",
    "icy_world = IceCreamStand('Icy World')\n",
    "icy_world.flavors = ['chocolate','vanilla','strawberry']\n",
    "icy_world.describe_restaurant()\n",
    "icy_world.show_flavors()"
   ]
  },
  {
   "cell_type": "code",
   "execution_count": 13,
   "id": "d9cebc72-4c38-4a1d-97f7-452730cbba84",
   "metadata": {},
   "outputs": [
    {
     "name": "stdout",
     "output_type": "stream",
     "text": [
      "\n",
      "Amy Jones\n",
      " Username:ammier\n",
      " Email:amyjones@163.com\n",
      " Location:Sanya\n",
      "\n",
      "Privileges:\n",
      "-can add post\n",
      "-can delete post\n",
      "-can ban user\n"
     ]
    }
   ],
   "source": [
    "#练习9.7 管理员\n",
    "class User:\n",
    "    \"\"\"一个表示用户的类\"\"\"\n",
    "    def __init__(self,first_name,last_name,username,email,location):\n",
    "        \"\"\"初始化用户\"\"\"\n",
    "        self.first_name = first_name.title()\n",
    "        self.last_name = last_name.title()\n",
    "        self.username = username\n",
    "        self.email = email\n",
    "        self.location = location.title()\n",
    "        self.login_attempts = 0\n",
    "        \n",
    "    def describe_user(self):\n",
    "        \"\"\"显示用户信息\"\"\"\n",
    "        print(f\"\\n{self.first_name} {self.last_name}\")\n",
    "        print(f\" Username:{self.username}\")\n",
    "        print(f\" Email:{self.email}\")\n",
    "        print(f\" Location:{self.location}\")\n",
    "    def greet_user(self):\n",
    "        \"\"\"向用户发出个性化问候\"\"\"\n",
    "        print(f\"\\nWelcome, {self.username}!\")\n",
    "\n",
    "    def increment_login_attempts(self):\n",
    "        \"\"\"将属性login_attempts的值加1\"\"\"\n",
    "        self.login_attempts += 1\n",
    "\n",
    "    def reset_login_attempts(self):\n",
    "        \"\"\"将属性login_attempts的值充值为0\"\"\"\n",
    "        self.login_attempts = 0\n",
    "\n",
    "class Admin(User):\n",
    "    def __init__(self, first_name,last_name,username,email,location):\n",
    "        super().__init__(first_name,last_name,username,email,location)\n",
    "        self.privileges = []\n",
    "    def show_privileges(self):\n",
    "        \"\"\"显示目前管理员的权限\"\"\"\n",
    "        print(\"\\nPrivileges:\")\n",
    "        for privilege in self.privileges:\n",
    "            print(f\"-{privilege}\")\n",
    "\n",
    "amy = Admin('amy','jones','ammier','amyjones@163.com','sanya')\n",
    "amy.describe_user()\n",
    "amy.privileges =['can add post','can delete post','can ban user']\n",
    "amy.show_privileges()"
   ]
  },
  {
   "cell_type": "code",
   "execution_count": 22,
   "id": "d4f675c3-ab86-4747-a15e-f9af4cd83aab",
   "metadata": {},
   "outputs": [
    {
     "name": "stdout",
     "output_type": "stream",
     "text": [
      "\n",
      "Amy Jones\n",
      " Username:ammier\n",
      " Email:amyjones@163.com\n",
      " Location:Sanya\n",
      "\n",
      "Privileges:\n",
      "-This user has no privileges.\n",
      "\n",
      "Privileges here:\n",
      "\n",
      "Privileges:\n",
      "-can add post\n",
      "-can delete post\n",
      "-can ban user\n"
     ]
    }
   ],
   "source": [
    "#练习9.8 权限\n",
    "class User:\n",
    "    \"\"\"一个表示用户的类\"\"\"\n",
    "    def __init__(self,first_name,last_name,username,email,location):\n",
    "        \"\"\"初始化用户\"\"\"\n",
    "        self.first_name = first_name.title()\n",
    "        self.last_name = last_name.title()\n",
    "        self.username = username\n",
    "        self.email = email\n",
    "        self.location = location.title()\n",
    "        self.login_attempts = 0\n",
    "        \n",
    "    def describe_user(self):\n",
    "        \"\"\"显示用户信息\"\"\"\n",
    "        print(f\"\\n{self.first_name} {self.last_name}\")\n",
    "        print(f\" Username:{self.username}\")\n",
    "        print(f\" Email:{self.email}\")\n",
    "        print(f\" Location:{self.location}\")\n",
    "    def greet_user(self):\n",
    "        \"\"\"向用户发出个性化问候\"\"\"\n",
    "        print(f\"\\nWelcome, {self.username}!\")\n",
    "\n",
    "    def increment_login_attempts(self):\n",
    "        \"\"\"将属性login_attempts的值加1\"\"\"\n",
    "        self.login_attempts += 1\n",
    "\n",
    "    def reset_login_attempts(self):\n",
    "        \"\"\"将属性login_attempts的值充值为0\"\"\"\n",
    "        self.login_attempts = 0\n",
    "\n",
    "class Admin(User):\n",
    "    def __init__(self, first_name,last_name,username,email,location):\n",
    "        super().__init__(first_name,last_name,username,email,location)\n",
    "        #将权限集初始化为空\n",
    "        self.privileges = Privileges()\n",
    "    \n",
    "class Privileges:\n",
    "    def __init__(self, privileges=[]):\n",
    "        self.privileges = privileges\n",
    "    def show_privileges(self):\n",
    "        print(\"\\nPrivileges:\")\n",
    "        if self.privileges:\n",
    "            for privilege in self.privileges:\n",
    "                print(f\"-{privilege}\")\n",
    "        else:\n",
    "            print(\"-This user has no privileges.\")\n",
    "\n",
    "amy = Admin('amy','jones','ammier','amyjones@163.com','sanya')\n",
    "amy.describe_user()\n",
    "amy.privileges.show_privileges()\n",
    "\n",
    "print(\"\\nPrivileges here:\")\n",
    "amy_privileges = ['can add post','can delete post','can ban user']\n",
    "amy.privileges.privileges = amy_privileges\n",
    "amy.privileges.show_privileges()"
   ]
  },
  {
   "cell_type": "code",
   "execution_count": 25,
   "id": "44ad4b3d-44bc-42fb-bf02-7ac2aece1627",
   "metadata": {},
   "outputs": [
    {
     "name": "stdout",
     "output_type": "stream",
     "text": [
      "2024 Nissan Leaf\n",
      "This car has a 40-kWh battery.\n",
      "This car can go about 150 miles on a full charge.\n",
      "\n",
      "Upgrade the battery:\n",
      "Upgraded the battery to 65 kWh.\n",
      "This car can go about 225 miles on a full charge.\n"
     ]
    }
   ],
   "source": [
    "#练习9.9 电池升级\n",
    "class Car:\n",
    "    \"\"\"一次模拟汽车的简单尝试\"\"\"\n",
    "\n",
    "    def __init__(self, make, model, year):\n",
    "        \"\"\"初始化描述汽车的属性\"\"\"\n",
    "        self.make = make\n",
    "        self.model = model\n",
    "        self.year = year\n",
    "        self.odometer_reading = 0\n",
    "\n",
    "    def get_descriptive_name(self):\n",
    "        \"\"\"返回格式规范的描述性名称\"\"\"\n",
    "        long_name = f\"{self.year} {self.make} {self.model}\"\n",
    "        return long_name.title()\n",
    "\n",
    "    def read_odometer(self):\n",
    "        \"\"\"打印一个句子，指出汽车的行驶里程\"\"\"\n",
    "        print(f\"This car has {self.odometer_reading} miles on it.\")\n",
    "\n",
    "    def update_odometer(self, mileage):\n",
    "        \"\"\"将里程表读数设置为给定的值\"\"\"\n",
    "        if mileage >= self.odometer_reading:\n",
    "            self.odometer_reading = mileage\n",
    "        else:\n",
    "            print(\"You can't roll back an odometer!\")\n",
    "\n",
    "    def increment_odometer(self, miles):\n",
    "        \"\"\"让里程表读数增加给定的量\"\"\"\n",
    "        self.odometer_reading += miles\n",
    "\n",
    "class Battery:\n",
    "    \"\"\"一次模拟电动汽车电池的简单尝试\"\"\"\n",
    "\n",
    "    def __init__(self, battery_size=40):\n",
    "        \"\"\"初始化电池的属性\"\"\"\n",
    "        self.battery_size = battery_size\n",
    "\n",
    "    def describe_battery(self):\n",
    "        \"\"\"打印一条描述电池容量的消息\"\"\"\n",
    "        print(f\"This car has a {self.battery_size}-kWh battery.\")\n",
    "    def get_range(self):\n",
    "        \"\"\"打印一条信息，指出电池的续航里程\"\"\"\n",
    "        if self.battery_size == 40:\n",
    "            range = 150\n",
    "        elif self.battery_size == 65:\n",
    "            range = 225\n",
    "\n",
    "        print(f\"This car can go about {range} miles on a full charge.\")\n",
    "\n",
    "    def upgrade_battery(self):\n",
    "        \"\"\"给电池升级\"\"\"\n",
    "        if self.battery_size == 40:\n",
    "            self.battery_size = 65\n",
    "            print(\"Upgraded the battery to 65 kWh.\")\n",
    "        else:\n",
    "            print(\"The battery is already upgraded.\")\n",
    "            \n",
    "\n",
    "class ElectricCar(Car):\n",
    "    \"\"\"电动汽车的独特之处\"\"\"\n",
    "\n",
    "    def __init__(self, make, model, year):\n",
    "        \"\"\"\n",
    "        先初始化父类的属性，再初始化电动汽车特有的属性\n",
    "        \"\"\"\n",
    "        super().__init__(make, model, year)\n",
    "        self.battery = Battery()\n",
    "\n",
    "\n",
    "my_leaf = ElectricCar('nissan', 'leaf', 2024)\n",
    "print(my_leaf.get_descriptive_name())\n",
    "my_leaf.battery.describe_battery()\n",
    "my_leaf.battery.get_range()\n",
    "\n",
    "print(\"\\nUpgrade the battery:\")\n",
    "my_leaf.battery.upgrade_battery()\n",
    "my_leaf.battery.get_range()\n"
   ]
  },
  {
   "cell_type": "markdown",
   "id": "a7d208f1-dcf5-4dda-adc0-87a3881b47fd",
   "metadata": {},
   "source": [
    "## 9.4 导入类"
   ]
  },
  {
   "cell_type": "markdown",
   "id": "3ac1f0fd-8e97-485b-a85b-62be4ed59fe0",
   "metadata": {},
   "source": [
    "### 9.4.1 导入单个类"
   ]
  },
  {
   "cell_type": "code",
   "execution_count": null,
   "id": "7c70b7d9-5346-48aa-89c0-fee2a4895ca1",
   "metadata": {},
   "outputs": [],
   "source": [
    "#命名问题。将Car类存储为一个名为car.py的模块中，该模块将覆盖前面的文件car.py,从现在起，使用该模块的程序比如使用更具体的命名，比如my_car.py."
   ]
  },
  {
   "cell_type": "code",
   "execution_count": 24,
   "id": "a43467d0-1742-44ac-9983-08fa683483a8",
   "metadata": {},
   "outputs": [],
   "source": [
    "\"\"\"一个用来表示汽车的类\"\"\"\n",
    "#上为一个模块级文档字符串\n",
    "class Car:\n",
    "    \"\"\"一次模拟汽车的简单尝试\"\"\"\n",
    "\n",
    "    def __init__(self, make, model, year):\n",
    "        \"\"\"初始化描述汽车的属性\"\"\"\n",
    "        self.make = make\n",
    "        self.model = model\n",
    "        self.year = year\n",
    "        self.odometer_reading = 0\n",
    "\n",
    "    def get_descriptive_name(self):\n",
    "        \"\"\"返回格式规范的描述性名称\"\"\"\n",
    "        long_name = f\"{self.year} {self.make} {self.model}\"\n",
    "        return long_name.title()\n",
    "\n",
    "    def read_odometer(self):\n",
    "        \"\"\"打印一个句子，指出汽车的行驶里程\"\"\"\n",
    "        print(f\"This car has {self.odometer_reading} miles on it.\")\n",
    "\n",
    "    def update_odometer(self, mileage):\n",
    "        \"\"\"将里程表读数设置为给定的值\"\"\"\n",
    "        if mileage >= self.odometer_reading:\n",
    "            self.odometer_reading = mileage\n",
    "        else:\n",
    "            print(\"You can't roll back an odometer!\")\n",
    "\n",
    "    def increment_odometer(self, miles):\n",
    "        \"\"\"让里程表读数增加给定的量\"\"\"\n",
    "        self.odometer_reading += miles"
   ]
  },
  {
   "cell_type": "code",
   "execution_count": 26,
   "id": "1162a729-91ff-40f2-943d-775b32e17919",
   "metadata": {},
   "outputs": [
    {
     "name": "stdout",
     "output_type": "stream",
     "text": [
      "2024 Audi A4\n",
      "This car has 23 miles on it.\n"
     ]
    }
   ],
   "source": [
    "#下面来创建另一个文件\n",
    "from car import Car\n",
    "\n",
    "my_new_car = Car('audi', 'a4', 2024)\n",
    "print(my_new_car.get_descriptive_name())\n",
    "\n",
    "my_new_car.odometer_reading = 23\n",
    "my_new_car.read_odometer()"
   ]
  },
  {
   "cell_type": "markdown",
   "id": "10d8711e-3368-4e4d-a9f6-23b01266437d",
   "metadata": {},
   "source": [
    "### 9.4.2在一个模块中存储多个类"
   ]
  },
  {
   "cell_type": "code",
   "execution_count": 1,
   "id": "d863caa3-2143-465e-8290-8d3d44609f48",
   "metadata": {},
   "outputs": [
    {
     "name": "stdout",
     "output_type": "stream",
     "text": [
      "2024 Nissan Leaf\n",
      "This car has a 40-kWh battery.\n",
      "This car can go about 150 miles on a full charge.\n"
     ]
    }
   ],
   "source": [
    "from car import ElectricCar\n",
    "\n",
    "my_leaf = ElectricCar('nissan', 'leaf', 2024)\n",
    "print(my_leaf.get_descriptive_name())\n",
    "my_leaf.battery.describe_battery()\n",
    "my_leaf.battery.get_range()"
   ]
  },
  {
   "cell_type": "markdown",
   "id": "09779997-257a-42dd-996a-47050947a136",
   "metadata": {},
   "source": [
    "### 9.4.3 从一个模块导入多个类"
   ]
  },
  {
   "cell_type": "code",
   "execution_count": 2,
   "id": "914c8496-4eb6-4cec-bc6b-838138dfedf7",
   "metadata": {},
   "outputs": [
    {
     "name": "stdout",
     "output_type": "stream",
     "text": [
      "2024 Ford Mustang\n",
      "2024 Nissan Leaf\n"
     ]
    }
   ],
   "source": [
    "from car import Car, ElectricCar\n",
    "\n",
    "my_mustang = Car('ford', 'mustang', 2024)\n",
    "print(my_mustang.get_descriptive_name())\n",
    "\n",
    "my_leaf = ElectricCar('nissan', 'leaf', 2024)\n",
    "print(my_leaf.get_descriptive_name())"
   ]
  },
  {
   "cell_type": "markdown",
   "id": "73124103-bf41-4426-8bf9-5b07dd6e94f8",
   "metadata": {},
   "source": [
    "### 9.4.4 导入整个模块"
   ]
  },
  {
   "cell_type": "code",
   "execution_count": 3,
   "id": "d713fad0-6892-43a4-97ee-3ba8c30fbf0d",
   "metadata": {},
   "outputs": [
    {
     "name": "stdout",
     "output_type": "stream",
     "text": [
      "2024 Ford Mustang\n",
      "2024 Nissan Leaf\n"
     ]
    }
   ],
   "source": [
    "import car\n",
    "\n",
    "my_mustang = car.Car('ford', 'mustang', 2024)\n",
    "print(my_mustang.get_descriptive_name())\n",
    "\n",
    "my_leaf = car.ElectricCar('nissan', 'leaf', 2024)\n",
    "print(my_leaf.get_descriptive_name())"
   ]
  },
  {
   "cell_type": "markdown",
   "id": "99555b19-cbb8-4448-8156-f049d249df56",
   "metadata": {},
   "source": [
    "### 9.4.5 导入模块中的所有类"
   ]
  },
  {
   "cell_type": "code",
   "execution_count": null,
   "id": "b4bc9e8c-2318-411a-a321-4f3f40a41323",
   "metadata": {},
   "outputs": [],
   "source": [
    "#导入每个类可以用以下的语法：\n",
    "from module_name import *\n",
    "#不推荐这种方式：没有明确指出用了哪些类，肯恩更引发名称方面的迷惑"
   ]
  },
  {
   "cell_type": "markdown",
   "id": "6751b95a-2017-47dd-9c3b-cb3c6af08db2",
   "metadata": {},
   "source": [
    "### 9.4.6 在一个模块中导入另一个模块"
   ]
  },
  {
   "cell_type": "code",
   "execution_count": null,
   "id": "76d98d68-b07e-4b91-8af8-1d19c57f8c88",
   "metadata": {},
   "outputs": [],
   "source": [
    "\"\"\"一组可用于表示电动汽车的类\"\"\"\n",
    "from car import Car\n",
    "\n",
    "#接下来存储Battery类和ElectricCar类。\n",
    "#ElectricCar类需要访问父类Car,因此直接将Car 类导入该模块，\n",
    "class Battery:\n",
    "    \"\"\"A simple attempt to model a battery for an electric car.\"\"\"\n",
    "\n",
    "    def __init__(self, battery_size=40):\n",
    "        \"\"\"Initialize the battery's attributes.\"\"\"\n",
    "        self.battery_size = battery_size\n",
    "\n",
    "    def describe_battery(self):\n",
    "        \"\"\"Print a statement describing the battery size.\"\"\"\n",
    "        print(f\"This car has a {self.battery_size}-kWh battery.\")\n",
    "\n",
    "    def get_range(self):\n",
    "        \"\"\"Print a statement about the range this battery provides.\"\"\"\n",
    "        if self.battery_size == 40:\n",
    "            range = 150\n",
    "        elif self.battery_size == 65:\n",
    "            range = 225\n",
    "\n",
    "        print(f\"This car can go about {range} miles on a full charge.\")\n",
    "\n",
    "\n",
    "class ElectricCar(Car):\n",
    "    \"\"\"Represent aspects of a car, specific to electric vehicles.\"\"\"\n",
    "\n",
    "    def __init__(self, make, model, year):\n",
    "        \"\"\"\n",
    "        Initialize attributes of the parent class.\n",
    "        Then initialize attributes specific to an electric car.\n",
    "        \"\"\"\n",
    "        super().__init__(make, model, year)\n",
    "        self.battery = Battery()"
   ]
  },
  {
   "cell_type": "code",
   "execution_count": 34,
   "id": "982c1aec-d331-4017-9f26-35bc8fa4afce",
   "metadata": {},
   "outputs": [
    {
     "name": "stdout",
     "output_type": "stream",
     "text": [
      "2024 Ford Mustang\n",
      "2024 Nissan Leaf\n"
     ]
    }
   ],
   "source": [
    "from car import Car\n",
    "from electric_car import ElectricCar\n",
    "\n",
    "my_mustang = Car('ford', 'mustang', 2024)\n",
    "print(my_mustang.get_descriptive_name())\n",
    "\n",
    "my_leaf = ElectricCar('nissan', 'leaf', 2024)\n",
    "print(my_leaf.get_descriptive_name())"
   ]
  },
  {
   "cell_type": "markdown",
   "id": "886f33c5-68e2-4d5e-ae00-0770e2bab75d",
   "metadata": {},
   "source": [
    "### 9.4.7 使用别名"
   ]
  },
  {
   "cell_type": "code",
   "execution_count": null,
   "id": "884ad672-fec7-49d9-8af5-136c9c643db5",
   "metadata": {},
   "outputs": [],
   "source": [
    "#如需反复输入ElectricCar,非常繁琐，可以在import语句中给它指定一个别名。\n",
    "from electric_car import ElcectricCar as EC\n",
    "my_leaf = EC('nissan','leaf',2024)\n",
    "\n",
    "#还可以给模块指定别名\n",
    "import electric_car as ec\n",
    "\n",
    "#现在可以结合使用模块别名和完整的类名了。\n",
    "my_leaf = ec.ElectricCar('nissan','leaf',2024)"
   ]
  },
  {
   "cell_type": "markdown",
   "id": "54e2222b-0dbd-4999-b726-577d9d1bb89c",
   "metadata": {},
   "source": [
    "### 动手试一试"
   ]
  },
  {
   "cell_type": "code",
   "execution_count": 2,
   "id": "3c042e2b-e191-4f7c-85fd-f94c858d4868",
   "metadata": {},
   "outputs": [
    {
     "name": "stdout",
     "output_type": "stream",
     "text": [
      "\n",
      "The Channel Club serves wonderful steak and seafood.\n",
      "\n",
      "The Channel Club is open. Come on in!\n"
     ]
    }
   ],
   "source": [
    "#练习9.10 导入Restaurant类\n",
    "\"\"\"一个表示餐馆的类\"\"\" \n",
    " \n",
    "class Restaurant: \n",
    "    \"\"\"一个表示餐馆的类\"\"\" \n",
    " \n",
    "    def __init__(self, name, cuisine_type): \n",
    "        \"\"\"初始化餐馆\"\"\" \n",
    "        self.name = name.title() \n",
    "        self.cuisine_type = cuisine_type \n",
    "        self.number_served = 0 \n",
    " \n",
    "    def describe_restaurant(self): \n",
    "        \"\"\"显示餐馆信息摘要\"\"\" \n",
    "        msg = f\"{self.name} serves wonderful {self.cuisine_type}.\" \n",
    "        print(f\"\\n{msg}\")\n",
    "        \n",
    "    def open_restaurant(self): \n",
    "        \"\"\"显示一条消息，指出餐馆正在营业\"\"\" \n",
    "        msg = f\"{self.name} is open. Come on in!\" \n",
    "        print(f\"\\n{msg}\") \n",
    " \n",
    "    def set_number_served(self, number_served): \n",
    "        \"\"\"让用户能够设置就餐人数\"\"\" \n",
    "        self.number_served = number_served \n",
    " \n",
    "    def increment_number_served(self, additional_served): \n",
    "        \"\"\"让用户能够增加就餐人数\"\"\" \n",
    "        self.number_served += additional_served\n",
    "\n",
    "#from restaurant import Restaurant \n",
    " \n",
    "channel_club = Restaurant('the channel club', 'steak and seafood') \n",
    "channel_club.describe_restaurant() \n",
    "channel_club.open_restaurant() "
   ]
  },
  {
   "cell_type": "code",
   "execution_count": 4,
   "id": "54c8f804-81e7-458d-b2d6-265678d211d8",
   "metadata": {},
   "outputs": [
    {
     "name": "stdout",
     "output_type": "stream",
     "text": [
      "\n",
      "Eric Matthes\n",
      "  Username: e_matthes\n",
      "  Email: e_matthes@example.com\n",
      "  Location: Alaska\n",
      "\n",
      "The admin e_matthes has these privileges: \n",
      "\n",
      "Privileges:\n",
      "- can reset passwords\n",
      "- can moderate discussions\n",
      "- can suspend accounts\n"
     ]
    }
   ],
   "source": [
    "#练习9.11 导入Admin类\n",
    "from user import Admin \n",
    " \n",
    "eric = Admin('eric', 'matthes', 'e_matthes', 'e_matthes@example.com', \n",
    "'alaska') \n",
    "eric.describe_user() \n",
    " \n",
    "eric_privileges = [ \n",
    "    'can reset passwords', \n",
    "    'can moderate discussions', \n",
    "    'can suspend accounts', \n",
    "    ] \n",
    "eric.privileges.privileges = eric_privileges \n",
    " \n",
    "print(f\"\\nThe admin {eric.username} has these privileges: \") \n",
    "eric.privileges.show_privileges()"
   ]
  },
  {
   "cell_type": "code",
   "execution_count": 5,
   "id": "4058b22a-6d85-43cb-adfb-ff2012c10489",
   "metadata": {},
   "outputs": [
    {
     "name": "stdout",
     "output_type": "stream",
     "text": [
      "\n",
      "Eric Matthes\n",
      "  Username: e_matthes\n",
      "  Email: e_matthes@example.com\n",
      "  Location: Alaska\n",
      "\n",
      "The admin e_matthes has these privileges: \n",
      "\n",
      "Privileges:\n",
      "- can reset passwords\n",
      "- can moderate discussions\n",
      "- can suspend accounts\n"
     ]
    }
   ],
   "source": [
    "#练习9.12 多个模块\n",
    "\"\"\"一系列模拟管理员的类\"\"\" \n",
    " \n",
    "from user import User \n",
    " \n",
    "class Admin(User): \n",
    "    \"\"\"有管理权限的用户\"\"\" \n",
    " \n",
    "    def __init__(self, first_name, last_name, username, email, location): \n",
    "        \"\"\"初始化管理员\"\"\" \n",
    "        super().__init__(first_name, last_name, username, email, location) \n",
    " \n",
    "        # 将权限集初始化为空 \n",
    "        self.privileges = Privileges() \n",
    " \n",
    " \n",
    "class Privileges: \n",
    "    \"\"\"存储管理员权限的类\"\"\" \n",
    " \n",
    "    def __init__(self, privileges=[]): \n",
    "        self.privileges = privileges \n",
    " \n",
    "    def show_privileges(self): \n",
    "        print(\"\\nPrivileges:\") \n",
    "        if self.privileges: \n",
    "            for privilege in self.privileges: \n",
    "                print(f\"- {privilege}\") \n",
    "        else: \n",
    "            print(\"- This user has no privileges.\")\n",
    "\n",
    "#from admin import Admin\n",
    "eric = Admin('eric', 'matthes', 'e_matthes', 'e_matthes@example.com', \n",
    "'alaska') \n",
    "eric.describe_user() \n",
    " \n",
    "eric_privileges = [ \n",
    "    'can reset passwords', \n",
    "    'can moderate discussions', \n",
    "    'can suspend accounts', \n",
    "    ] \n",
    "eric.privileges.privileges = eric_privileges \n",
    " \n",
    "print(f\"\\nThe admin {eric.username} has these privileges: \") \n",
    "eric.privileges.show_privileges()"
   ]
  },
  {
   "cell_type": "markdown",
   "id": "7b1cd0b6-c765-491b-aed7-157db518f775",
   "metadata": {},
   "source": [
    "## 9.5 Python标准库"
   ]
  },
  {
   "cell_type": "code",
   "execution_count": 3,
   "id": "177b95a7-9db6-4629-89a1-ec14c4cdf3f6",
   "metadata": {},
   "outputs": [
    {
     "data": {
      "text/plain": [
       "5"
      ]
     },
     "execution_count": 3,
     "metadata": {},
     "output_type": "execute_result"
    }
   ],
   "source": [
    "#将两个整数视为参数，并随即返回一个位于这两个整数之间（含）的整数。\n",
    "from random import randint\n",
    "randint(1,6)"
   ]
  },
  {
   "cell_type": "code",
   "execution_count": 5,
   "id": "0cb7f884-0e64-4ec8-9ceb-23990a8695b5",
   "metadata": {},
   "outputs": [
    {
     "data": {
      "text/plain": [
       "'martina'"
      ]
     },
     "execution_count": 5,
     "metadata": {},
     "output_type": "execute_result"
    }
   ],
   "source": [
    "from random import choice\n",
    "players = ['charles','martina','michael','florence','eli']\n",
    "first_up = choice(players)\n",
    "first_up"
   ]
  },
  {
   "cell_type": "markdown",
   "id": "bc6bac4e-ad6c-4694-81f3-924e1dbd9e36",
   "metadata": {},
   "source": [
    "### 动手试一试"
   ]
  },
  {
   "cell_type": "code",
   "execution_count": 1,
   "id": "104bf992-fdc9-43aa-b206-03f4bce64975",
   "metadata": {},
   "outputs": [
    {
     "name": "stdout",
     "output_type": "stream",
     "text": [
      "10 rolls of a 6-sided die:\n",
      "[5, 6, 6, 4, 6, 3, 6, 6, 2, 6]\n",
      "\n",
      "10 rolls of a 10-sided die:\n",
      "[2, 10, 5, 2, 4, 6, 2, 1, 2, 8]\n",
      "\n",
      "10 rolls of a 20-sided die:\n",
      "[4, 18, 15, 20, 13, 8, 14, 6, 11, 3]\n"
     ]
    }
   ],
   "source": [
    "#练习9.13 骰子\n",
    "from random import randint \n",
    " \n",
    "class Die: \n",
    "    \"\"\"一个表示骰子的类\"\"\" \n",
    " \n",
    "    def __init__(self, sides=6): \n",
    "        \"\"\"初始化骰子\"\"\" \n",
    "        self.sides = sides \n",
    " \n",
    "    def roll_die(self): \n",
    "        \"\"\"返回一个位于1和骰子面数之间的随机数\"\"\" \n",
    "        return randint(1, self.sides) \n",
    " \n",
    "# 创建一个6面的骰子，再掷10次并显示结果 \n",
    "d6 = Die() \n",
    " \n",
    "results = [] \n",
    "for roll_num in range(10): \n",
    "    result = d6.roll_die() \n",
    "    results.append(result) \n",
    "print(\"10 rolls of a 6-sided die:\") \n",
    "print(results) \n",
    " \n",
    "# 创建一个10面的骰子，再掷10次并显示结果 \n",
    "d10 = Die(sides=10) \n",
    " \n",
    "results = [] \n",
    "for roll_num in range(10): \n",
    "    result = d10.roll_die() \n",
    "    results.append(result) \n",
    "print(\"\\n10 rolls of a 10-sided die:\") \n",
    "print(results) \n",
    " \n",
    "# 创建一个20面的骰子，再掷10次并显示结果 \n",
    "d20 = Die(sides=20) \n",
    " \n",
    "results = [] \n",
    "for roll_num in range(10): \n",
    "    result = d20.roll_die() \n",
    "    results.append(result) \n",
    "print(\"\\n10 rolls of a 20-sided die:\") \n",
    "print(results)"
   ]
  },
  {
   "cell_type": "code",
   "execution_count": 2,
   "id": "fa2a1f6c-e0e2-4d58-b2b4-a16e50ae4077",
   "metadata": {},
   "outputs": [
    {
     "name": "stdout",
     "output_type": "stream",
     "text": [
      "The winning ticket is...\n",
      "  We pulled a 8!\n",
      "  We pulled a 10!\n",
      "  We pulled a c!\n",
      "  We pulled a 1!\n",
      "\n",
      "The final winning ticket is: [8, 10, 'c', 1]\n"
     ]
    }
   ],
   "source": [
    "#练习9.14 彩票\n",
    "from random import choice \n",
    "\n",
    "possibilities = [1, 2, 3, 4, 5, 6, 7, 8, 9, 10, 'a', 'b', 'c', 'd', 'e'] \n",
    "\n",
    "winning_ticket = [] \n",
    "print(\"The winning ticket is...\") \n",
    "\n",
    "#不放回抽样，因此元素不能重复\n",
    "while len(winning_ticket) < 4: \n",
    "    pulled_item = choice(possibilities) \n",
    "\n",
    "    if pulled_item not in winning_ticket: \n",
    "        print(f\"  We pulled a {pulled_item}!\") \n",
    "        winning_ticket.append(pulled_item) \n",
    "    \n",
    "print(f\"\\nThe final winning ticket is: {winning_ticket}\")"
   ]
  },
  {
   "cell_type": "code",
   "execution_count": 3,
   "id": "1f4ac725-b07c-41d2-83b7-37f4782cbcf8",
   "metadata": {},
   "outputs": [
    {
     "name": "stdout",
     "output_type": "stream",
     "text": [
      "We have a winning ticket!\n",
      "Your ticket: [9, 4, 'b', 7]\n",
      "Winning ticket: [7, 9, 4, 'b']\n",
      "It only took 307 tries to win!\n"
     ]
    }
   ],
   "source": [
    "#练习9.15 彩票分析\n",
    "from random import choice \n",
    " \n",
    "def get_winning_ticket(possibilities): \n",
    "    \"\"\"摇出中奖组合\"\"\" \n",
    "    winning_ticket = [] \n",
    " \n",
    "    # 中奖组合中不能包含重复的数字或字母，因此使用while循环 \n",
    "    while len(winning_ticket) < 4: \n",
    "        pulled_item = choice(possibilities) \n",
    " \n",
    "        # 仅当摇出的数字或字母不在组合中时，才将其添加到组合中 \n",
    "        if pulled_item not in winning_ticket: \n",
    "            winning_ticket.append(pulled_item) \n",
    " \n",
    "    return winning_ticket \n",
    " \n",
    "def check_ticket(played_ticket, winning_ticket): \n",
    "    # 检查彩票的每个数字或字母，只要有一个不在中奖组合中，就返回False \n",
    "    for element in played_ticket: \n",
    "        if element not in winning_ticket: \n",
    "            return False \n",
    " \n",
    "    # 如果代码执行到这里，就说明中奖。\n",
    "    return True \n",
    " \n",
    "def make_random_ticket(possibilities): \n",
    "    \"\"\"随机地生成彩票\"\"\" \n",
    "    ticket = [] \n",
    "    # 彩票不能包含重复的数字或字母，因此使用while循环 \n",
    "    while len(ticket) < 4: \n",
    "        pulled_item = choice(possibilities)\n",
    "\n",
    "        # 仅当随机生成的数字或字母不在彩票中时，才将其添加到彩票中 \n",
    "        if pulled_item not in ticket: \n",
    "            ticket.append(pulled_item) \n",
    " \n",
    "    return ticket \n",
    " \n",
    " \n",
    "possibilities = [1, 2, 3, 4, 5, 6, 7, 8, 9, 10, 'a', 'b', 'c', 'd', 'e'] \n",
    "winning_ticket = get_winning_ticket(possibilities) \n",
    " \n",
    "plays = 0 \n",
    "won = False \n",
    " \n",
    "# 为避免程序执行时间太长，设置最多随机生成多少张彩票 \n",
    "max_tries = 1_000_000 \n",
    " \n",
    "while not won: \n",
    "    new_ticket = make_random_ticket(possibilities) \n",
    "    won = check_ticket(new_ticket, winning_ticket) \n",
    "    plays += 1 \n",
    "    if plays >= max_tries: \n",
    "        break \n",
    " \n",
    "if won: \n",
    "    print(\"We have a winning ticket!\") \n",
    "    print(f\"Your ticket: {new_ticket}\") \n",
    "    print(f\"Winning ticket: {winning_ticket}\") \n",
    "    print(f\"It only took {plays} tries to win!\") \n",
    "else: \n",
    "    print(f\"Tried {plays} times, without pulling a winner. :(\") \n",
    "    print(f\"Your ticket: {new_ticket}\") \n",
    "    print(f\"Winning ticket: {winning_ticket}\")"
   ]
  }
 ],
 "metadata": {
  "kernelspec": {
   "display_name": "Python 3 (ipykernel)",
   "language": "python",
   "name": "python3"
  },
  "language_info": {
   "codemirror_mode": {
    "name": "ipython",
    "version": 3
   },
   "file_extension": ".py",
   "mimetype": "text/x-python",
   "name": "python",
   "nbconvert_exporter": "python",
   "pygments_lexer": "ipython3",
   "version": "3.11.7"
  }
 },
 "nbformat": 4,
 "nbformat_minor": 5
}
