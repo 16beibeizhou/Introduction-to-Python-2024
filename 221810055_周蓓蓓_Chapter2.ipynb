{
 "cells": [
  {
   "cell_type": "markdown",
   "id": "32b7b63c-df19-4025-be0b-920723b9c87e",
   "metadata": {},
   "source": [
    "# 第二章 变量和简单的数据类型"
   ]
  },
  {
   "cell_type": "code",
   "execution_count": 1,
   "id": "704576ef-632f-4197-bbb8-539230597737",
   "metadata": {},
   "outputs": [
    {
     "name": "stdout",
     "output_type": "stream",
     "text": [
      "Hello Python World!\n"
     ]
    }
   ],
   "source": [
    "print(\"Hello Python World!\")"
   ]
  },
  {
   "cell_type": "markdown",
   "id": "abe7d38e-4b4c-4541-b900-f7b2ddb9674b",
   "metadata": {},
   "source": [
    "## 2.2变量"
   ]
  },
  {
   "cell_type": "code",
   "execution_count": 1,
   "id": "46eca74b-c148-4511-b321-643a0a7238ff",
   "metadata": {},
   "outputs": [
    {
     "name": "stdout",
     "output_type": "stream",
     "text": [
      "Hello Python World!\n"
     ]
    }
   ],
   "source": [
    "message=\"Hello Python World!\"\n",
    "print(message)"
   ]
  },
  {
   "cell_type": "code",
   "execution_count": 3,
   "id": "349796f9-dd33-40b9-9f1c-9451e6187b50",
   "metadata": {},
   "outputs": [
    {
     "name": "stdout",
     "output_type": "stream",
     "text": [
      "Hello Python World!\n",
      "Hello Python Crash Course World!\n"
     ]
    }
   ],
   "source": [
    "message=\"Hello Python World!\"\n",
    "print(message)\n",
    "message=\"Hello Python Crash Course World!\"\n",
    "print(message)"
   ]
  },
  {
   "cell_type": "markdown",
   "id": "bfd8c6bf-7675-43c8-8857-44fd946318fe",
   "metadata": {},
   "source": [
    "### 动手试一试"
   ]
  },
  {
   "cell_type": "code",
   "execution_count": 1,
   "id": "862b1f32-a6df-4f63-8258-fbff6f3a4edf",
   "metadata": {},
   "outputs": [
    {
     "name": "stdout",
     "output_type": "stream",
     "text": [
      "I like sunny days.\n"
     ]
    }
   ],
   "source": [
    "#练习2.1\n",
    "message=\"I like sunny days.\"\n",
    "print(message)"
   ]
  },
  {
   "cell_type": "code",
   "execution_count": 2,
   "id": "e0ea70da-1eb1-4976-bf14-57bd4ec81835",
   "metadata": {},
   "outputs": [
    {
     "name": "stdout",
     "output_type": "stream",
     "text": [
      "I like sunny days.\n",
      "I like jogging in sunny days.\n"
     ]
    }
   ],
   "source": [
    "#练习2.2\n",
    "message=\"I like sunny days.\"\n",
    "print(message)\n",
    "message=\"I like jogging in sunny days.\"\n",
    "print(message)"
   ]
  },
  {
   "cell_type": "markdown",
   "id": "1f3bbcba-0cb4-4d00-9098-f9bc16967775",
   "metadata": {},
   "source": [
    "## 2.3字符串"
   ]
  },
  {
   "cell_type": "code",
   "execution_count": 4,
   "id": "b2a2ea36-4c24-4908-9dcb-ad68606ef710",
   "metadata": {},
   "outputs": [
    {
     "name": "stdout",
     "output_type": "stream",
     "text": [
      "Ada Lovelace\n"
     ]
    }
   ],
   "source": [
    "#2.3.1使用方法修改字符串的大小写\n",
    "name=\"ada lovelace\"\n",
    "print(name.title())"
   ]
  },
  {
   "cell_type": "code",
   "execution_count": 5,
   "id": "fdb56f80-8cf3-411a-81c8-b45802e2a4ef",
   "metadata": {},
   "outputs": [
    {
     "name": "stdout",
     "output_type": "stream",
     "text": [
      "ADA LOVELACE\n",
      "ada lovelace\n"
     ]
    }
   ],
   "source": [
    "name=\"Ada Lovelace\"\n",
    "print(name.upper())\n",
    "print(name.lower())"
   ]
  },
  {
   "cell_type": "code",
   "execution_count": 6,
   "id": "7d813e26-f61c-4505-9c80-1693c16201d4",
   "metadata": {},
   "outputs": [
    {
     "name": "stdout",
     "output_type": "stream",
     "text": [
      "ada lovelace\n"
     ]
    }
   ],
   "source": [
    "#2.3.2在字符串中使用变量\n",
    "first_name=\"ada\"\n",
    "last_name=\"lovelace\"\n",
    "full_name=f\"{first_name} {last_name}\"\n",
    "print(full_name)"
   ]
  },
  {
   "cell_type": "code",
   "execution_count": 9,
   "id": "447d2f47-475a-4f8a-a28c-8262be746f66",
   "metadata": {},
   "outputs": [
    {
     "name": "stdout",
     "output_type": "stream",
     "text": [
      "Hello, Ada Lovelace!\n"
     ]
    }
   ],
   "source": [
    "first_name=\"ada\"\n",
    "last_name=\"lovelace\"\n",
    "full_name=f\"{first_name} {last_name}\"\n",
    "print(f\"Hello, {full_name.title()}!\")"
   ]
  },
  {
   "cell_type": "code",
   "execution_count": 1,
   "id": "0a287617-92ae-4c1b-9df0-059a616199c8",
   "metadata": {},
   "outputs": [
    {
     "name": "stdout",
     "output_type": "stream",
     "text": [
      "Hello, Ada Lovelace!\n"
     ]
    }
   ],
   "source": [
    "first_name=\"ada\"\n",
    "last_name=\"lovelace\"\n",
    "full_name=f\"{first_name} {last_name}\"\n",
    "message=f\"Hello, {full_name.title()}!\"\n",
    "print(message)"
   ]
  },
  {
   "cell_type": "code",
   "execution_count": 7,
   "id": "46e906b2-9fe8-480b-b0f8-62ea45805a95",
   "metadata": {},
   "outputs": [
    {
     "name": "stdout",
     "output_type": "stream",
     "text": [
      "Python\n",
      "\tPython\n"
     ]
    }
   ],
   "source": [
    "#2.3.3使用制表符或换行符来添加空白\n",
    "print(\"Python\")\n",
    "print(\"\\tPython\")\n",
    "##添加制表符，使用字符组合\\t"
   ]
  },
  {
   "cell_type": "code",
   "execution_count": 8,
   "id": "bdc1e7e3-dfdb-4d92-ae95-bcc9146d725c",
   "metadata": {},
   "outputs": [
    {
     "name": "stdout",
     "output_type": "stream",
     "text": [
      "Languages:\n",
      "Python\n",
      "C\n",
      "JavaScript\n"
     ]
    }
   ],
   "source": [
    "print(\"Languages:\\nPython\\nC\\nJavaScript\")\n",
    "##添加换行符，使用字符组合\\n"
   ]
  },
  {
   "cell_type": "code",
   "execution_count": 6,
   "id": "29ca676c-ba76-4aab-9474-3f1b9b882ab5",
   "metadata": {},
   "outputs": [
    {
     "name": "stdout",
     "output_type": "stream",
     "text": [
      "Languages:\n",
      "\tPython\n",
      "\tC\n",
      "\tJavaScript\n"
     ]
    }
   ],
   "source": [
    "print(\"Languages:\\n\\tPython\\n\\tC\\n\\tJavaScript\")"
   ]
  },
  {
   "cell_type": "code",
   "execution_count": 9,
   "id": "073edbcc-aca1-41c7-87a7-df2630cb5feb",
   "metadata": {},
   "outputs": [
    {
     "data": {
      "text/plain": [
       "'python '"
      ]
     },
     "execution_count": 9,
     "metadata": {},
     "output_type": "execute_result"
    }
   ],
   "source": [
    "#2.3.4删除空白\n",
    "##restrip()确保字符串右端没有空白\n",
    "favorite_language='python '\n",
    "favorite_language\n",
    "favorite_language.rstrip()\n",
    "favorite_language"
   ]
  },
  {
   "cell_type": "code",
   "execution_count": 14,
   "id": "ca04d3a8-1c95-4942-8dc0-ec2d09f4f3b2",
   "metadata": {},
   "outputs": [
    {
     "data": {
      "text/plain": [
       "'python'"
      ]
     },
     "execution_count": 14,
     "metadata": {},
     "output_type": "execute_result"
    }
   ],
   "source": [
    "favorite_language='python '\n",
    "favorite_language=favorite_language.rstrip()\n",
    "favorite_language"
   ]
  },
  {
   "cell_type": "code",
   "execution_count": 12,
   "id": "b80694d6-8ecb-4fef-999c-a2075fdbff0b",
   "metadata": {},
   "outputs": [
    {
     "data": {
      "text/plain": [
       "' python'"
      ]
     },
     "execution_count": 12,
     "metadata": {},
     "output_type": "execute_result"
    }
   ],
   "source": [
    "favorite_language=' python '\n",
    "favorite_language.rstrip()"
   ]
  },
  {
   "cell_type": "code",
   "execution_count": 15,
   "id": "0131bd67-beae-4704-a601-7b0f76077bd0",
   "metadata": {},
   "outputs": [
    {
     "data": {
      "text/plain": [
       "'python '"
      ]
     },
     "execution_count": 15,
     "metadata": {},
     "output_type": "execute_result"
    }
   ],
   "source": [
    "favorite_language=' python '\n",
    "favorite_language.lstrip()\n",
    "##lstrip()确保字符串左端没有空白"
   ]
  },
  {
   "cell_type": "code",
   "execution_count": 17,
   "id": "468bdd16-df6f-49f0-b04a-35ebd98b378e",
   "metadata": {},
   "outputs": [
    {
     "data": {
      "text/plain": [
       "'python'"
      ]
     },
     "execution_count": 17,
     "metadata": {},
     "output_type": "execute_result"
    }
   ],
   "source": [
    "favorite_language=' python '\n",
    "favorite_language.strip()\n",
    "##strip()同时删去两端的空白"
   ]
  },
  {
   "cell_type": "code",
   "execution_count": 18,
   "id": "1741af16-a68a-4361-a79c-5b697f6ae8f1",
   "metadata": {},
   "outputs": [
    {
     "data": {
      "text/plain": [
       "'nostarch.com'"
      ]
     },
     "execution_count": 18,
     "metadata": {},
     "output_type": "execute_result"
    }
   ],
   "source": [
    "#2.3.5删除前缀\n",
    "nostarch_url='https://nostarch.com'\n",
    "nostarch_url.removeprefix('https://')\n",
    "##与删除空白一样，并不会改变原有字符串，如需改变，需将结果赋给原来的变量或新变量"
   ]
  },
  {
   "cell_type": "code",
   "execution_count": 19,
   "id": "3c7a8c1a-d670-4b91-a40a-a7d2be7af312",
   "metadata": {},
   "outputs": [
    {
     "name": "stdout",
     "output_type": "stream",
     "text": [
      "One of Python's strengths is its diverse community.\n"
     ]
    }
   ],
   "source": [
    "#2.3.6如何在使用字符串时避免语法错误\n",
    "##注意单双引号的使用，正确引起字符串\n",
    "message=\"One of Python's strengths is its diverse community.\"\n",
    "print(message)"
   ]
  },
  {
   "cell_type": "markdown",
   "id": "1d1b1022-a06a-4bbb-acc4-f0fdccb1b4e8",
   "metadata": {},
   "source": [
    "### 动手试一试"
   ]
  },
  {
   "cell_type": "code",
   "execution_count": 20,
   "id": "4e8a8b90-743c-49a1-a0cd-5c355a450f26",
   "metadata": {},
   "outputs": [
    {
     "name": "stdout",
     "output_type": "stream",
     "text": [
      "Hi Sam, glad to see you.\n"
     ]
    }
   ],
   "source": [
    "#练习2.3\n",
    "name=\"Sam\"\n",
    "message=f\"Hi {name}, glad to see you.\"\n",
    "print(message)"
   ]
  },
  {
   "cell_type": "code",
   "execution_count": 21,
   "id": "2625a57e-8b3e-4b2f-b4b2-374a152f5f24",
   "metadata": {},
   "outputs": [
    {
     "name": "stdout",
     "output_type": "stream",
     "text": [
      "SAM\n",
      "sam\n",
      "Sam\n"
     ]
    }
   ],
   "source": [
    "#练习2.4\n",
    "name=\"sam\"\n",
    "print(name.upper())\n",
    "print(name.lower())\n",
    "print(name.title())"
   ]
  },
  {
   "cell_type": "code",
   "execution_count": 22,
   "id": "2340f25f-6b64-440d-9775-d506e3208eba",
   "metadata": {},
   "outputs": [
    {
     "name": "stdout",
     "output_type": "stream",
     "text": [
      "Oscar Wilde once said,\"The supereme object of life is to live.\"\n"
     ]
    }
   ],
   "source": [
    "#练习2.5\n",
    "print('Oscar Wilde once said,\"The supereme object of life is to live.\"')"
   ]
  },
  {
   "cell_type": "code",
   "execution_count": 23,
   "id": "346ea912-577b-47ed-b412-f1243aaf7427",
   "metadata": {},
   "outputs": [
    {
     "name": "stdout",
     "output_type": "stream",
     "text": [
      "Oscar Wilde once said, \"The supereme object of life is to live.\"\n"
     ]
    }
   ],
   "source": [
    "#练习2.6\n",
    "famous_person=\"Oscar Wilde\"\n",
    "message=f'{famous_person} once said, \"The supereme object of life is to live.\"'\n",
    "print(message)"
   ]
  },
  {
   "cell_type": "code",
   "execution_count": 24,
   "id": "377074eb-9e52-439e-8fab-b62d318ae6ae",
   "metadata": {},
   "outputs": [
    {
     "name": "stdout",
     "output_type": "stream",
     "text": [
      "\tHi, \n",
      "Albert \n",
      "\tHi, \n",
      "Albert\n",
      "Hi, \n",
      "Albert\n",
      "Hi, \n",
      "Albert \n"
     ]
    }
   ],
   "source": [
    "#练习2.7\n",
    "print(\"\\tHi, \\nAlbert \")\n",
    "name=\"\\tHi, \\nAlbert \"\n",
    "print(name.rstrip())\n",
    "print(name.strip())\n",
    "print(name.lstrip())"
   ]
  },
  {
   "cell_type": "markdown",
   "id": "b96fecaf-1388-4271-a5ce-c6d61ff1b236",
   "metadata": {},
   "source": [
    "## 2.4数"
   ]
  },
  {
   "cell_type": "code",
   "execution_count": 25,
   "id": "81bd69fe-4725-4caa-9a44-54e74fde6875",
   "metadata": {},
   "outputs": [
    {
     "data": {
      "text/plain": [
       "1.5"
      ]
     },
     "execution_count": 25,
     "metadata": {},
     "output_type": "execute_result"
    }
   ],
   "source": [
    "#2.4.1整数\n",
    "2+3\n",
    "3-2\n",
    "2*3\n",
    "3/2"
   ]
  },
  {
   "cell_type": "code",
   "execution_count": 27,
   "id": "af2190c2-c143-448d-8adb-c85ae5fe50b6",
   "metadata": {},
   "outputs": [
    {
     "data": {
      "text/plain": [
       "1000000"
      ]
     },
     "execution_count": 27,
     "metadata": {},
     "output_type": "execute_result"
    }
   ],
   "source": [
    "3**2\n",
    "3**3\n",
    "10**6"
   ]
  },
  {
   "cell_type": "code",
   "execution_count": 29,
   "id": "cab2d65e-8a48-4021-93ab-2452f50d5e8b",
   "metadata": {},
   "outputs": [
    {
     "data": {
      "text/plain": [
       "20"
      ]
     },
     "execution_count": 29,
     "metadata": {},
     "output_type": "execute_result"
    }
   ],
   "source": [
    "2+3*4\n",
    "(2+3)*4"
   ]
  },
  {
   "cell_type": "code",
   "execution_count": 26,
   "id": "207128e0-535b-43b1-b563-d56e9af8f7b1",
   "metadata": {},
   "outputs": [
    {
     "data": {
      "text/plain": [
       "0.4"
      ]
     },
     "execution_count": 26,
     "metadata": {},
     "output_type": "execute_result"
    }
   ],
   "source": [
    "#2.4.2浮点数\n",
    "##带有小数点的数被称为浮点数。任意两数相除结果为浮点数，运算中一个操作数为浮点数则结果是浮点数\n",
    "0.1+0.1\n",
    "0.2+0.2\n",
    "2*0.2"
   ]
  },
  {
   "cell_type": "code",
   "execution_count": 5,
   "id": "2decadb8-0c1c-4e1d-8e08-b2e69fb0bcdd",
   "metadata": {},
   "outputs": [
    {
     "data": {
      "text/plain": [
       "0.30000000000000004"
      ]
     },
     "execution_count": 5,
     "metadata": {},
     "output_type": "execute_result"
    }
   ],
   "source": [
    "0.2+0.1"
   ]
  },
  {
   "cell_type": "code",
   "execution_count": 6,
   "id": "6026a042-a737-4891-9969-44d55363816b",
   "metadata": {},
   "outputs": [
    {
     "data": {
      "text/plain": [
       "0.30000000000000004"
      ]
     },
     "execution_count": 6,
     "metadata": {},
     "output_type": "execute_result"
    }
   ],
   "source": [
    "3*0.1"
   ]
  },
  {
   "cell_type": "code",
   "execution_count": 7,
   "id": "f9a376fb-cbf2-48b2-95a6-191b0612e6ad",
   "metadata": {},
   "outputs": [
    {
     "data": {
      "text/plain": [
       "2.0"
      ]
     },
     "execution_count": 7,
     "metadata": {},
     "output_type": "execute_result"
    }
   ],
   "source": [
    "4/2"
   ]
  },
  {
   "cell_type": "code",
   "execution_count": 8,
   "id": "915646e9-0332-4e93-8b7c-b748723b64cc",
   "metadata": {},
   "outputs": [
    {
     "data": {
      "text/plain": [
       "3.0"
      ]
     },
     "execution_count": 8,
     "metadata": {},
     "output_type": "execute_result"
    }
   ],
   "source": [
    "1+2.0"
   ]
  },
  {
   "cell_type": "code",
   "execution_count": 9,
   "id": "2bc32e27-a3e7-414e-9f8f-fb1c97b9f5ee",
   "metadata": {},
   "outputs": [
    {
     "data": {
      "text/plain": [
       "6.0"
      ]
     },
     "execution_count": 9,
     "metadata": {},
     "output_type": "execute_result"
    }
   ],
   "source": [
    "2*3.0"
   ]
  },
  {
   "cell_type": "code",
   "execution_count": 10,
   "id": "b210bc7f-edbc-4fe2-93e9-a92b6ed25cd5",
   "metadata": {},
   "outputs": [
    {
     "data": {
      "text/plain": [
       "9.0"
      ]
     },
     "execution_count": 10,
     "metadata": {},
     "output_type": "execute_result"
    }
   ],
   "source": [
    "3.0**2"
   ]
  },
  {
   "cell_type": "code",
   "execution_count": 27,
   "id": "21b823b7-a462-4134-ad37-9826c5db1a2e",
   "metadata": {},
   "outputs": [
    {
     "name": "stdout",
     "output_type": "stream",
     "text": [
      "14000000000\n"
     ]
    }
   ],
   "source": [
    "#2.4.4数中的下划线\n",
    "##清晰易读，不影响打印\n",
    "universe_age=14_000_000_000\n",
    "print(universe_age)"
   ]
  },
  {
   "cell_type": "code",
   "execution_count": 28,
   "id": "766f646b-a303-4e99-950e-4da0d1be14ad",
   "metadata": {},
   "outputs": [
    {
     "name": "stdout",
     "output_type": "stream",
     "text": [
      "3 2 1\n"
     ]
    }
   ],
   "source": [
    "#2.4.5同时给多个变量赋值\n",
    "x,y,z=1,2,3\n",
    "print(z,y,x)"
   ]
  },
  {
   "cell_type": "code",
   "execution_count": null,
   "id": "8ceb419b-05c4-4b32-9b64-78242d0053c1",
   "metadata": {},
   "outputs": [],
   "source": [
    "#2.4.6常量\n",
    "MAX_CONNECTIONS=5000"
   ]
  },
  {
   "cell_type": "markdown",
   "id": "0cf20241-d302-4068-b905-8751fcc561a1",
   "metadata": {},
   "source": [
    "## 注释"
   ]
  },
  {
   "cell_type": "code",
   "execution_count": 29,
   "id": "d87ebad0-faf3-49bf-a5f7-d297c82e1c2d",
   "metadata": {},
   "outputs": [
    {
     "name": "stdout",
     "output_type": "stream",
     "text": [
      "Hello Python people!\n"
     ]
    }
   ],
   "source": [
    "##向大家问好\n",
    "print(\"Hello Python people!\")"
   ]
  },
  {
   "cell_type": "markdown",
   "id": "7f29561c-75c9-4098-81d2-b2551ee6d084",
   "metadata": {},
   "source": [
    "### 动手试一试"
   ]
  },
  {
   "cell_type": "code",
   "execution_count": 30,
   "id": "58c5809d-ea38-43ff-b46d-96a7c5a1c8cf",
   "metadata": {},
   "outputs": [
    {
     "name": "stdout",
     "output_type": "stream",
     "text": [
      "8\n",
      "8\n",
      "8\n",
      "8.0\n"
     ]
    }
   ],
   "source": [
    "#练习2.9\n",
    "print(4+4)\n",
    "print(10-2)\n",
    "print(2*4)\n",
    "print(64/8)"
   ]
  },
  {
   "cell_type": "code",
   "execution_count": 31,
   "id": "cf3fa9b3-9241-4019-89d0-54b0c463050c",
   "metadata": {},
   "outputs": [
    {
     "name": "stdout",
     "output_type": "stream",
     "text": [
      "My favorite number is 16.\n"
     ]
    }
   ],
   "source": [
    "#练习2.10\n",
    "number=16\n",
    "message=f\"My favorite number is 16.\"\n",
    "print(message)"
   ]
  }
 ],
 "metadata": {
  "kernelspec": {
   "display_name": "Python 3 (ipykernel)",
   "language": "python",
   "name": "python3"
  },
  "language_info": {
   "codemirror_mode": {
    "name": "ipython",
    "version": 3
   },
   "file_extension": ".py",
   "mimetype": "text/x-python",
   "name": "python",
   "nbconvert_exporter": "python",
   "pygments_lexer": "ipython3",
   "version": "3.11.7"
  }
 },
 "nbformat": 4,
 "nbformat_minor": 5
}
