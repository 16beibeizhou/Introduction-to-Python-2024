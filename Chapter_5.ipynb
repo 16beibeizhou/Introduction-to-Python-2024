{
 "cells": [
  {
   "cell_type": "markdown",
   "id": "3e540442-9994-45b2-8f63-81ae1dbe6d9f",
   "metadata": {},
   "source": [
    "# 第五章 if语句"
   ]
  },
  {
   "cell_type": "markdown",
   "id": "ac92056f-8e7d-48c1-8f25-51455967c2df",
   "metadata": {},
   "source": [
    "## 5.1一个简单的示例"
   ]
  },
  {
   "cell_type": "code",
   "execution_count": 1,
   "id": "850adc6c-a08d-4135-b44b-a472bbf4af1e",
   "metadata": {},
   "outputs": [
    {
     "name": "stdout",
     "output_type": "stream",
     "text": [
      "Audi\n",
      "BMW\n",
      "Subaru\n",
      "Toyota\n"
     ]
    }
   ],
   "source": [
    "cars=['audi','bmw','subaru','toyota']\n",
    "for car in cars:\n",
    "    if car =='bmw':\n",
    "        print(car.upper())\n",
    "    else:\n",
    "        print(car.title())"
   ]
  },
  {
   "cell_type": "markdown",
   "id": "e4af7a7c-6800-4a44-bc4a-63a685013e52",
   "metadata": {},
   "source": [
    "## 5.2条件测试"
   ]
  },
  {
   "cell_type": "code",
   "execution_count": 3,
   "id": "20f179bf-4d26-42a4-96e5-601d0d8de3c0",
   "metadata": {},
   "outputs": [
    {
     "data": {
      "text/plain": [
       "True"
      ]
     },
     "execution_count": 3,
     "metadata": {},
     "output_type": "execute_result"
    }
   ],
   "source": [
    "car='bmw'\n",
    "car=='bmw'"
   ]
  },
  {
   "cell_type": "code",
   "execution_count": 4,
   "id": "3cdbbd91-ae49-4bbe-8d13-e24fdb0e4638",
   "metadata": {},
   "outputs": [
    {
     "data": {
      "text/plain": [
       "False"
      ]
     },
     "execution_count": 4,
     "metadata": {},
     "output_type": "execute_result"
    }
   ],
   "source": [
    "car='audi'\n",
    "car=='bmw'"
   ]
  },
  {
   "cell_type": "code",
   "execution_count": 7,
   "id": "b9974b64-9696-4bc7-87f5-025fba088c67",
   "metadata": {},
   "outputs": [
    {
     "name": "stdout",
     "output_type": "stream",
     "text": [
      "False\n",
      "True\n"
     ]
    }
   ],
   "source": [
    "car='Audi'\n",
    "print(car=='audi')\n",
    "print(car.lower()=='audi')"
   ]
  },
  {
   "cell_type": "code",
   "execution_count": 9,
   "id": "8cc95dec-b4af-4ce9-b9ec-cf40c667e2d4",
   "metadata": {},
   "outputs": [
    {
     "data": {
      "text/plain": [
       "True"
      ]
     },
     "execution_count": 9,
     "metadata": {},
     "output_type": "execute_result"
    }
   ],
   "source": [
    "True==1"
   ]
  },
  {
   "cell_type": "code",
   "execution_count": 10,
   "id": "9c1a5af1-ae9e-4202-8257-bd8e49728114",
   "metadata": {},
   "outputs": [
    {
     "data": {
      "text/plain": [
       "True"
      ]
     },
     "execution_count": 10,
     "metadata": {},
     "output_type": "execute_result"
    }
   ],
   "source": [
    "False==0"
   ]
  },
  {
   "cell_type": "code",
   "execution_count": 12,
   "id": "64f15c8b-ad6a-4e62-9601-8e1a8149d991",
   "metadata": {},
   "outputs": [
    {
     "name": "stdout",
     "output_type": "stream",
     "text": [
      "True\n",
      "False\n"
     ]
    }
   ],
   "source": [
    "car='Audi'\n",
    "print(car!='audi')\n",
    "print(car.lower()!='audi')"
   ]
  },
  {
   "cell_type": "code",
   "execution_count": 13,
   "id": "484a37aa-400e-4377-a970-5793650e66ef",
   "metadata": {},
   "outputs": [
    {
     "data": {
      "text/plain": [
       "True"
      ]
     },
     "execution_count": 13,
     "metadata": {},
     "output_type": "execute_result"
    }
   ],
   "source": [
    "age=18\n",
    "age==18"
   ]
  },
  {
   "cell_type": "code",
   "execution_count": 21,
   "id": "08583edf-f7da-4513-9401-21c0ca0da2f0",
   "metadata": {},
   "outputs": [
    {
     "name": "stdout",
     "output_type": "stream",
     "text": [
      "That is not the correct answer! Please try again!\n"
     ]
    }
   ],
   "source": [
    "answer=17\n",
    "if answer!=42:\n",
    "    print(\"That is not the correct answer! Please try again!\")"
   ]
  },
  {
   "cell_type": "code",
   "execution_count": 16,
   "id": "3e97b725-9cdf-4851-a21b-501ad5470a5a",
   "metadata": {},
   "outputs": [
    {
     "name": "stdout",
     "output_type": "stream",
     "text": [
      "False\n",
      "True\n"
     ]
    }
   ],
   "source": [
    "age_0=22\n",
    "age_1=18\n",
    "print(age_0>=21 and age_1>=21)\n",
    "print(age_0>=21 or age_1>=21)"
   ]
  },
  {
   "cell_type": "code",
   "execution_count": 17,
   "id": "fc6a7226-25df-4e00-b36c-2cc3a2407094",
   "metadata": {},
   "outputs": [
    {
     "name": "stdout",
     "output_type": "stream",
     "text": [
      "True\n",
      "False\n",
      "False\n",
      "True\n",
      "True\n"
     ]
    }
   ],
   "source": [
    "print(True and True)\n",
    "print(True and False)\n",
    "print(True & False)\n",
    "print(True or False)\n",
    "print(True | False)"
   ]
  },
  {
   "cell_type": "code",
   "execution_count": 19,
   "id": "9281673a-7074-443e-9605-dac56be1c55b",
   "metadata": {},
   "outputs": [
    {
     "name": "stdout",
     "output_type": "stream",
     "text": [
      "True\n",
      "False\n",
      "False\n"
     ]
    }
   ],
   "source": [
    "requested_toppings=['mushrooms','onions','pineapple']\n",
    "print('mushrooms' in requested_toppings)\n",
    "print('mushrooms' not in requested_toppings)\n",
    "print('pepperoni' in requested_toppings)"
   ]
  },
  {
   "cell_type": "code",
   "execution_count": 25,
   "id": "d9a97921-7140-478d-a5fd-0ad545aa81fe",
   "metadata": {},
   "outputs": [
    {
     "name": "stdout",
     "output_type": "stream",
     "text": [
      "Marie, you can post a reponse if you wish.\n"
     ]
    }
   ],
   "source": [
    "banned_users=['andrew','carolina','david']\n",
    "user='marie'\n",
    "if user not in banned_users:\n",
    "    print(f\"{user.title()}, you can post a reponse if you wish.\")"
   ]
  },
  {
   "cell_type": "code",
   "execution_count": 22,
   "id": "646f6fae-0a10-454d-838e-42200338596b",
   "metadata": {},
   "outputs": [
    {
     "data": {
      "text/plain": [
       "False"
      ]
     },
     "execution_count": 22,
     "metadata": {},
     "output_type": "execute_result"
    }
   ],
   "source": [
    "game_paused=True\n",
    "not game_paused"
   ]
  },
  {
   "cell_type": "code",
   "execution_count": 26,
   "id": "d566d454-391d-446c-8a44-2af37d363d1f",
   "metadata": {},
   "outputs": [],
   "source": [
    "screen_active=True\n",
    "game_paused=False\n",
    "game_active=screen_active and (not game_paused)"
   ]
  },
  {
   "cell_type": "markdown",
   "id": "f7a06eb2-0eb0-41c5-805e-3584442874db",
   "metadata": {},
   "source": [
    "## 5.3 if语句"
   ]
  },
  {
   "cell_type": "code",
   "execution_count": 2,
   "id": "95ad828b-28c6-4b63-bef7-1fe3deafe253",
   "metadata": {},
   "outputs": [
    {
     "name": "stdout",
     "output_type": "stream",
     "text": [
      "You are old enough to vote!\n"
     ]
    }
   ],
   "source": [
    "age=19\n",
    "if age>=18:\n",
    "    print(\"You are old enough to vote!\")"
   ]
  },
  {
   "cell_type": "code",
   "execution_count": 3,
   "id": "1c5f4613-a779-4d6a-83f5-33017c91e389",
   "metadata": {},
   "outputs": [
    {
     "name": "stdout",
     "output_type": "stream",
     "text": [
      "You are old enough to vote!\n",
      "Have you registered to vote yet?\n"
     ]
    }
   ],
   "source": [
    "age=19\n",
    "if age>=18:\n",
    "    print(\"You are old enough to vote!\")\n",
    "    print(\"Have you registered to vote yet?\")"
   ]
  },
  {
   "cell_type": "code",
   "execution_count": 4,
   "id": "e2bf994f-df61-460a-bab7-2d17ca2ff281",
   "metadata": {},
   "outputs": [
    {
     "name": "stdout",
     "output_type": "stream",
     "text": [
      "Sorry, you are too young to vote.\n",
      "Please register to vote as soon as you turn 18!\n"
     ]
    }
   ],
   "source": [
    "age=17\n",
    "if age>=18:\n",
    "    print(\"You are old enough to vote!\")\n",
    "    print(\"Have you registered to vote yet?\")\n",
    "else:\n",
    "    print(\"Sorry, you are too young to vote.\")\n",
    "    print(\"Please register to vote as soon as you turn 18!\")"
   ]
  },
  {
   "cell_type": "code",
   "execution_count": 5,
   "id": "19329f38-e989-48b8-aa0a-09b8b0dcc188",
   "metadata": {},
   "outputs": [
    {
     "name": "stdout",
     "output_type": "stream",
     "text": [
      "Your admission cost is $25.\n"
     ]
    }
   ],
   "source": [
    "age=12\n",
    "if age<4:\n",
    "    print(\"Your admission cost is $0.\")\n",
    "elif age<18:\n",
    "    print(\"Your admission cost is $25.\")\n",
    "else:\n",
    "    print(\"Your admission cost is $40.\")"
   ]
  },
  {
   "cell_type": "code",
   "execution_count": 6,
   "id": "176d7c5d-8e2f-41ac-a8fb-8c18707f9297",
   "metadata": {},
   "outputs": [
    {
     "name": "stdout",
     "output_type": "stream",
     "text": [
      "Your admission cost is $25.\n"
     ]
    }
   ],
   "source": [
    "age=12\n",
    "if age<4:\n",
    "    price=0\n",
    "elif age<18:\n",
    "    price=25\n",
    "else:\n",
    "    price=40\n",
    "print(f\"Your admission cost is ${price}.\")"
   ]
  },
  {
   "cell_type": "code",
   "execution_count": null,
   "id": "c79da270-a259-4ee2-a8ad-c0fb11c76185",
   "metadata": {},
   "outputs": [],
   "source": []
  },
  {
   "cell_type": "code",
   "execution_count": null,
   "id": "b2337ac4-49f1-45f4-b485-3a76634dfc5d",
   "metadata": {},
   "outputs": [],
   "source": []
  }
 ],
 "metadata": {
  "kernelspec": {
   "display_name": "Python 3 (ipykernel)",
   "language": "python",
   "name": "python3"
  },
  "language_info": {
   "codemirror_mode": {
    "name": "ipython",
    "version": 3
   },
   "file_extension": ".py",
   "mimetype": "text/x-python",
   "name": "python",
   "nbconvert_exporter": "python",
   "pygments_lexer": "ipython3",
   "version": "3.11.7"
  }
 },
 "nbformat": 4,
 "nbformat_minor": 5
}
